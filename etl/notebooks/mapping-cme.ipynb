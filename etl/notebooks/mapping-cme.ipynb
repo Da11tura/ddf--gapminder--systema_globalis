{
 "cells": [
  {
   "cell_type": "code",
   "execution_count": 1,
   "metadata": {
    "collapsed": false
   },
   "outputs": [
    {
     "name": "stderr",
     "output_type": "stream",
     "text": [
      "/usr/local/lib/python3.5/site-packages/matplotlib/__init__.py:872: UserWarning: axes.color_cycle is deprecated and replaced with axes.prop_cycle; please use the latter.\n",
      "  warnings.warn(self.msg_depr % (key, alt_key))\n"
     ]
    }
   ],
   "source": [
    "import pandas as pd\n",
    "import numpy as np\n",
    "import ddf_utils.ddf_reader as ddf"
   ]
  },
  {
   "cell_type": "code",
   "execution_count": 2,
   "metadata": {
    "collapsed": true
   },
   "outputs": [],
   "source": [
    "pd.set_option('max_rows', 30)\n",
    "pd.set_option('max_colwidth', 70)"
   ]
  },
  {
   "cell_type": "code",
   "execution_count": 3,
   "metadata": {
    "collapsed": true
   },
   "outputs": [],
   "source": [
    "mapping = pd.read_csv('./gw_wdi_new.csv')\n",
    "\n",
    "ddf.SEARCH_PATH = '/Users/semio/src/work/Gapminder'"
   ]
  },
  {
   "cell_type": "code",
   "execution_count": null,
   "metadata": {
    "collapsed": true
   },
   "outputs": [],
   "source": []
  },
  {
   "cell_type": "code",
   "execution_count": null,
   "metadata": {
    "collapsed": true
   },
   "outputs": [],
   "source": []
  },
  {
   "cell_type": "markdown",
   "metadata": {},
   "source": [
    "# Child Mortality Estimates"
   ]
  },
  {
   "cell_type": "code",
   "execution_count": 5,
   "metadata": {
    "collapsed": false
   },
   "outputs": [
    {
     "data": {
      "text/html": [
       "<div>\n",
       "<table border=\"1\" class=\"dataframe\">\n",
       "  <thead>\n",
       "    <tr style=\"text-align: right;\">\n",
       "      <th></th>\n",
       "      <th>key</th>\n",
       "      <th>value</th>\n",
       "      <th>file</th>\n",
       "    </tr>\n",
       "  </thead>\n",
       "  <tbody>\n",
       "    <tr>\n",
       "      <th>0</th>\n",
       "      <td>concept</td>\n",
       "      <td>name</td>\n",
       "      <td>ddf--concepts--continuous.csv</td>\n",
       "    </tr>\n",
       "    <tr>\n",
       "      <th>1</th>\n",
       "      <td>concept</td>\n",
       "      <td>concept_type</td>\n",
       "      <td>ddf--concepts--continuous.csv</td>\n",
       "    </tr>\n",
       "    <tr>\n",
       "      <th>2</th>\n",
       "      <td>concept</td>\n",
       "      <td>name</td>\n",
       "      <td>ddf--concepts--discrete.csv</td>\n",
       "    </tr>\n",
       "    <tr>\n",
       "      <th>3</th>\n",
       "      <td>concept</td>\n",
       "      <td>concept_type</td>\n",
       "      <td>ddf--concepts--discrete.csv</td>\n",
       "    </tr>\n",
       "    <tr>\n",
       "      <th>4</th>\n",
       "      <td>country,year</td>\n",
       "      <td>imr_lower</td>\n",
       "      <td>ddf--datapoints--imr_lower--by--country--year.csv</td>\n",
       "    </tr>\n",
       "    <tr>\n",
       "      <th>5</th>\n",
       "      <td>country,year</td>\n",
       "      <td>imr_median</td>\n",
       "      <td>ddf--datapoints--imr_median--by--country--year.csv</td>\n",
       "    </tr>\n",
       "    <tr>\n",
       "      <th>6</th>\n",
       "      <td>country,year</td>\n",
       "      <td>imr_upper</td>\n",
       "      <td>ddf--datapoints--imr_upper--by--country--year.csv</td>\n",
       "    </tr>\n",
       "    <tr>\n",
       "      <th>7</th>\n",
       "      <td>country,year</td>\n",
       "      <td>infant_deaths_lower</td>\n",
       "      <td>ddf--datapoints--infant_deaths_lower--by--country--year.csv</td>\n",
       "    </tr>\n",
       "    <tr>\n",
       "      <th>8</th>\n",
       "      <td>country,year</td>\n",
       "      <td>infant_deaths_median</td>\n",
       "      <td>ddf--datapoints--infant_deaths_median--by--country--year.csv</td>\n",
       "    </tr>\n",
       "    <tr>\n",
       "      <th>9</th>\n",
       "      <td>country,year</td>\n",
       "      <td>infant_deaths_upper</td>\n",
       "      <td>ddf--datapoints--infant_deaths_upper--by--country--year.csv</td>\n",
       "    </tr>\n",
       "    <tr>\n",
       "      <th>10</th>\n",
       "      <td>country,year</td>\n",
       "      <td>neonatal_deaths_lower</td>\n",
       "      <td>ddf--datapoints--neonatal_deaths_lower--by--country--year.csv</td>\n",
       "    </tr>\n",
       "    <tr>\n",
       "      <th>11</th>\n",
       "      <td>country,year</td>\n",
       "      <td>neonatal_deaths_median</td>\n",
       "      <td>ddf--datapoints--neonatal_deaths_median--by--country--year.csv</td>\n",
       "    </tr>\n",
       "    <tr>\n",
       "      <th>12</th>\n",
       "      <td>country,year</td>\n",
       "      <td>neonatal_deaths_upper</td>\n",
       "      <td>ddf--datapoints--neonatal_deaths_upper--by--country--year.csv</td>\n",
       "    </tr>\n",
       "    <tr>\n",
       "      <th>13</th>\n",
       "      <td>country,year</td>\n",
       "      <td>nmr_lower</td>\n",
       "      <td>ddf--datapoints--nmr_lower--by--country--year.csv</td>\n",
       "    </tr>\n",
       "    <tr>\n",
       "      <th>14</th>\n",
       "      <td>country,year</td>\n",
       "      <td>nmr_median</td>\n",
       "      <td>ddf--datapoints--nmr_median--by--country--year.csv</td>\n",
       "    </tr>\n",
       "    <tr>\n",
       "      <th>15</th>\n",
       "      <td>country,year</td>\n",
       "      <td>nmr_upper</td>\n",
       "      <td>ddf--datapoints--nmr_upper--by--country--year.csv</td>\n",
       "    </tr>\n",
       "    <tr>\n",
       "      <th>16</th>\n",
       "      <td>country,year</td>\n",
       "      <td>u5mr_lower</td>\n",
       "      <td>ddf--datapoints--u5mr_lower--by--country--year.csv</td>\n",
       "    </tr>\n",
       "    <tr>\n",
       "      <th>17</th>\n",
       "      <td>country,year</td>\n",
       "      <td>u5mr_median</td>\n",
       "      <td>ddf--datapoints--u5mr_median--by--country--year.csv</td>\n",
       "    </tr>\n",
       "    <tr>\n",
       "      <th>18</th>\n",
       "      <td>country,year</td>\n",
       "      <td>u5mr_upper</td>\n",
       "      <td>ddf--datapoints--u5mr_upper--by--country--year.csv</td>\n",
       "    </tr>\n",
       "    <tr>\n",
       "      <th>19</th>\n",
       "      <td>country,year</td>\n",
       "      <td>under_five_deaths_lower</td>\n",
       "      <td>ddf--datapoints--under_five_deaths_lower--by--country--year.csv</td>\n",
       "    </tr>\n",
       "    <tr>\n",
       "      <th>20</th>\n",
       "      <td>country,year</td>\n",
       "      <td>under_five_deaths_median</td>\n",
       "      <td>ddf--datapoints--under_five_deaths_median--by--country--year.csv</td>\n",
       "    </tr>\n",
       "    <tr>\n",
       "      <th>21</th>\n",
       "      <td>country,year</td>\n",
       "      <td>under_five_deaths_upper</td>\n",
       "      <td>ddf--datapoints--under_five_deaths_upper--by--country--year.csv</td>\n",
       "    </tr>\n",
       "    <tr>\n",
       "      <th>22</th>\n",
       "      <td>country</td>\n",
       "      <td>countryname</td>\n",
       "      <td>ddf--entities--country.csv</td>\n",
       "    </tr>\n",
       "    <tr>\n",
       "      <th>23</th>\n",
       "      <td>country</td>\n",
       "      <td>iso_code</td>\n",
       "      <td>ddf--entities--country.csv</td>\n",
       "    </tr>\n",
       "  </tbody>\n",
       "</table>\n",
       "</div>"
      ],
      "text/plain": [
       "             key                     value  \\\n",
       "0        concept                      name   \n",
       "1        concept              concept_type   \n",
       "2        concept                      name   \n",
       "3        concept              concept_type   \n",
       "4   country,year                 imr_lower   \n",
       "5   country,year                imr_median   \n",
       "6   country,year                 imr_upper   \n",
       "7   country,year       infant_deaths_lower   \n",
       "8   country,year      infant_deaths_median   \n",
       "9   country,year       infant_deaths_upper   \n",
       "10  country,year     neonatal_deaths_lower   \n",
       "11  country,year    neonatal_deaths_median   \n",
       "12  country,year     neonatal_deaths_upper   \n",
       "13  country,year                 nmr_lower   \n",
       "14  country,year                nmr_median   \n",
       "15  country,year                 nmr_upper   \n",
       "16  country,year                u5mr_lower   \n",
       "17  country,year               u5mr_median   \n",
       "18  country,year                u5mr_upper   \n",
       "19  country,year   under_five_deaths_lower   \n",
       "20  country,year  under_five_deaths_median   \n",
       "21  country,year   under_five_deaths_upper   \n",
       "22       country               countryname   \n",
       "23       country                  iso_code   \n",
       "\n",
       "                                                                file  \n",
       "0                                      ddf--concepts--continuous.csv  \n",
       "1                                      ddf--concepts--continuous.csv  \n",
       "2                                        ddf--concepts--discrete.csv  \n",
       "3                                        ddf--concepts--discrete.csv  \n",
       "4                  ddf--datapoints--imr_lower--by--country--year.csv  \n",
       "5                 ddf--datapoints--imr_median--by--country--year.csv  \n",
       "6                  ddf--datapoints--imr_upper--by--country--year.csv  \n",
       "7        ddf--datapoints--infant_deaths_lower--by--country--year.csv  \n",
       "8       ddf--datapoints--infant_deaths_median--by--country--year.csv  \n",
       "9        ddf--datapoints--infant_deaths_upper--by--country--year.csv  \n",
       "10     ddf--datapoints--neonatal_deaths_lower--by--country--year.csv  \n",
       "11    ddf--datapoints--neonatal_deaths_median--by--country--year.csv  \n",
       "12     ddf--datapoints--neonatal_deaths_upper--by--country--year.csv  \n",
       "13                 ddf--datapoints--nmr_lower--by--country--year.csv  \n",
       "14                ddf--datapoints--nmr_median--by--country--year.csv  \n",
       "15                 ddf--datapoints--nmr_upper--by--country--year.csv  \n",
       "16                ddf--datapoints--u5mr_lower--by--country--year.csv  \n",
       "17               ddf--datapoints--u5mr_median--by--country--year.csv  \n",
       "18                ddf--datapoints--u5mr_upper--by--country--year.csv  \n",
       "19   ddf--datapoints--under_five_deaths_lower--by--country--year.csv  \n",
       "20  ddf--datapoints--under_five_deaths_median--by--country--year.csv  \n",
       "21   ddf--datapoints--under_five_deaths_upper--by--country--year.csv  \n",
       "22                                        ddf--entities--country.csv  \n",
       "23                                        ddf--entities--country.csv  "
      ]
     },
     "execution_count": 5,
     "metadata": {},
     "output_type": "execute_result"
    }
   ],
   "source": [
    "ddf._get_index('ddf--cme')"
   ]
  },
  {
   "cell_type": "code",
   "execution_count": null,
   "metadata": {
    "collapsed": true
   },
   "outputs": [],
   "source": []
  },
  {
   "cell_type": "code",
   "execution_count": 8,
   "metadata": {
    "collapsed": false
   },
   "outputs": [
    {
     "data": {
      "text/html": [
       "<div>\n",
       "<table border=\"1\" class=\"dataframe\">\n",
       "  <thead>\n",
       "    <tr style=\"text-align: right;\">\n",
       "      <th></th>\n",
       "      <th>concept</th>\n",
       "      <th>settings_link</th>\n",
       "      <th>wdi_id</th>\n",
       "      <th>found_in_wdi</th>\n",
       "    </tr>\n",
       "  </thead>\n",
       "  <tbody>\n",
       "    <tr>\n",
       "      <th>480</th>\n",
       "      <td>under_five_mortality_from_cme_per_1000_born</td>\n",
       "      <td>http://www.childmortality.org/</td>\n",
       "      <td>NaN</td>\n",
       "      <td>NaN</td>\n",
       "    </tr>\n",
       "    <tr>\n",
       "      <th>567</th>\n",
       "      <td>newborn_mortality_rate_per_1000</td>\n",
       "      <td>http://www.childmortality.org/</td>\n",
       "      <td>NaN</td>\n",
       "      <td>NaN</td>\n",
       "    </tr>\n",
       "    <tr>\n",
       "      <th>568</th>\n",
       "      <td>newborn_deaths</td>\n",
       "      <td>http://www.childmortality.org/</td>\n",
       "      <td>NaN</td>\n",
       "      <td>NaN</td>\n",
       "    </tr>\n",
       "  </tbody>\n",
       "</table>\n",
       "</div>"
      ],
      "text/plain": [
       "                                         concept  \\\n",
       "480  under_five_mortality_from_cme_per_1000_born   \n",
       "567              newborn_mortality_rate_per_1000   \n",
       "568                               newborn_deaths   \n",
       "\n",
       "                      settings_link wdi_id found_in_wdi  \n",
       "480  http://www.childmortality.org/    NaN          NaN  \n",
       "567  http://www.childmortality.org/    NaN          NaN  \n",
       "568  http://www.childmortality.org/    NaN          NaN  "
      ]
     },
     "execution_count": 8,
     "metadata": {},
     "output_type": "execute_result"
    }
   ],
   "source": [
    "# From the source file of CME, the data are downloaded from http://www.childmortality.org/, so we filter those out\n",
    "\n",
    "mapping[mapping['settings_link'].str.contains('http://www.childmortality.org/').fillna(False)]"
   ]
  },
  {
   "cell_type": "code",
   "execution_count": null,
   "metadata": {
    "collapsed": true
   },
   "outputs": [],
   "source": []
  },
  {
   "cell_type": "code",
   "execution_count": 38,
   "metadata": {
    "collapsed": false
   },
   "outputs": [
    {
     "data": {
      "text/html": [
       "<div>\n",
       "<table border=\"1\" class=\"dataframe\">\n",
       "  <thead>\n",
       "    <tr style=\"text-align: right;\">\n",
       "      <th></th>\n",
       "      <th>country</th>\n",
       "      <th>gwid</th>\n",
       "      <th>name</th>\n",
       "      <th>geographic_regions</th>\n",
       "      <th>income_groups</th>\n",
       "      <th>landlocked</th>\n",
       "      <th>g77_and_oecd_countries</th>\n",
       "      <th>geographic_regions_in_4_colors</th>\n",
       "      <th>main_religion_2008</th>\n",
       "      <th>gapminder_list</th>\n",
       "      <th>...</th>\n",
       "      <th>arb1</th>\n",
       "      <th>arb2</th>\n",
       "      <th>arb3</th>\n",
       "      <th>arb4</th>\n",
       "      <th>arb5</th>\n",
       "      <th>arb6</th>\n",
       "      <th>is--country</th>\n",
       "      <th>world_4region</th>\n",
       "      <th>latitude</th>\n",
       "      <th>longitude</th>\n",
       "    </tr>\n",
       "  </thead>\n",
       "  <tbody>\n",
       "    <tr>\n",
       "      <th>3</th>\n",
       "      <td>alb</td>\n",
       "      <td>i3</td>\n",
       "      <td>Albania</td>\n",
       "      <td>europe_central_asia</td>\n",
       "      <td>upper_middle_income</td>\n",
       "      <td>coastline</td>\n",
       "      <td>others</td>\n",
       "      <td>europe</td>\n",
       "      <td>muslim</td>\n",
       "      <td>Albania</td>\n",
       "      <td>...</td>\n",
       "      <td>NaN</td>\n",
       "      <td>NaN</td>\n",
       "      <td>NaN</td>\n",
       "      <td>NaN</td>\n",
       "      <td>NaN</td>\n",
       "      <td>NaN</td>\n",
       "      <td>True</td>\n",
       "      <td>europe</td>\n",
       "      <td>41.0</td>\n",
       "      <td>20.0</td>\n",
       "    </tr>\n",
       "  </tbody>\n",
       "</table>\n",
       "<p>1 rows × 30 columns</p>\n",
       "</div>"
      ],
      "text/plain": [
       "  country gwid     name   geographic_regions        income_groups landlocked  \\\n",
       "3     alb   i3  Albania  europe_central_asia  upper_middle_income  coastline   \n",
       "\n",
       "  g77_and_oecd_countries geographic_regions_in_4_colors main_religion_2008  \\\n",
       "3                 others                         europe             muslim   \n",
       "\n",
       "  gapminder_list    ...     arb1 arb2 arb3 arb4 arb5 arb6 is--country  \\\n",
       "3        Albania    ...      NaN  NaN  NaN  NaN  NaN  NaN        True   \n",
       "\n",
       "  world_4region latitude  longitude  \n",
       "3        europe     41.0       20.0  \n",
       "\n",
       "[1 rows x 30 columns]"
      ]
     },
     "execution_count": 38,
     "metadata": {},
     "output_type": "execute_result"
    }
   ],
   "source": [
    "ddf.ddf_entities('ddf--gapminder--gapminder_world')['country'].query('country == \"alb\"')"
   ]
  },
  {
   "cell_type": "code",
   "execution_count": 4,
   "metadata": {
    "collapsed": true
   },
   "outputs": [],
   "source": [
    "k = ['under_five_mortality_from_cme_per_1000_born', 'newborn_mortality_rate_per_1000', 'newborn_deaths']"
   ]
  },
  {
   "cell_type": "code",
   "execution_count": 5,
   "metadata": {
    "collapsed": true
   },
   "outputs": [],
   "source": [
    "v = ['u5mr_median', 'nmr_median', 'neonatal_deaths_median']"
   ]
  },
  {
   "cell_type": "code",
   "execution_count": 14,
   "metadata": {
    "collapsed": true
   },
   "outputs": [],
   "source": [
    "import json"
   ]
  },
  {
   "cell_type": "code",
   "execution_count": 18,
   "metadata": {
    "collapsed": false
   },
   "outputs": [
    {
     "data": {
      "text/plain": [
       "{'neonatal_deaths_median': 'newborn_deaths',\n",
       " 'nmr_median': 'newborn_mortality_rate_per_1000',\n",
       " 'u5mr_median': 'under_five_mortality_from_cme_per_1000_born'}"
      ]
     },
     "execution_count": 18,
     "metadata": {},
     "output_type": "execute_result"
    }
   ],
   "source": [
    "dict(zip(v,k))"
   ]
  },
  {
   "cell_type": "code",
   "execution_count": null,
   "metadata": {
    "collapsed": true
   },
   "outputs": [],
   "source": []
  },
  {
   "cell_type": "code",
   "execution_count": 9,
   "metadata": {
    "collapsed": false
   },
   "outputs": [
    {
     "data": {
      "text/html": [
       "<div>\n",
       "<table border=\"1\" class=\"dataframe\">\n",
       "  <thead>\n",
       "    <tr style=\"text-align: right;\">\n",
       "      <th></th>\n",
       "      <th>newborn_deaths</th>\n",
       "      <th>geo</th>\n",
       "      <th>time</th>\n",
       "    </tr>\n",
       "  </thead>\n",
       "  <tbody>\n",
       "    <tr>\n",
       "      <th>0</th>\n",
       "      <td>29660</td>\n",
       "      <td>afg</td>\n",
       "      <td>1990</td>\n",
       "    </tr>\n",
       "    <tr>\n",
       "      <th>1</th>\n",
       "      <td>30540</td>\n",
       "      <td>afg</td>\n",
       "      <td>1991</td>\n",
       "    </tr>\n",
       "    <tr>\n",
       "      <th>2</th>\n",
       "      <td>32270</td>\n",
       "      <td>afg</td>\n",
       "      <td>1992</td>\n",
       "    </tr>\n",
       "    <tr>\n",
       "      <th>3</th>\n",
       "      <td>34360</td>\n",
       "      <td>afg</td>\n",
       "      <td>1993</td>\n",
       "    </tr>\n",
       "    <tr>\n",
       "      <th>4</th>\n",
       "      <td>36310</td>\n",
       "      <td>afg</td>\n",
       "      <td>1994</td>\n",
       "    </tr>\n",
       "  </tbody>\n",
       "</table>\n",
       "</div>"
      ],
      "text/plain": [
       "   newborn_deaths  geo  time\n",
       "0           29660  afg  1990\n",
       "1           30540  afg  1991\n",
       "2           32270  afg  1992\n",
       "3           34360  afg  1993\n",
       "4           36310  afg  1994"
      ]
     },
     "execution_count": 9,
     "metadata": {},
     "output_type": "execute_result"
    }
   ],
   "source": [
    "ddf.ddf_datapoint('ddf--gapminder--gapminder_world', k[2]).query(\n",
    "    'geo == \"afg\" & time < 1995' \n",
    ")"
   ]
  },
  {
   "cell_type": "code",
   "execution_count": 10,
   "metadata": {
    "collapsed": false
   },
   "outputs": [
    {
     "data": {
      "text/html": [
       "<div>\n",
       "<table border=\"1\" class=\"dataframe\">\n",
       "  <thead>\n",
       "    <tr style=\"text-align: right;\">\n",
       "      <th></th>\n",
       "      <th>iso</th>\n",
       "      <th>year</th>\n",
       "      <th>neonatal_deaths_median</th>\n",
       "    </tr>\n",
       "  </thead>\n",
       "  <tbody>\n",
       "    <tr>\n",
       "      <th>0</th>\n",
       "      <td>AFG</td>\n",
       "      <td>1990</td>\n",
       "      <td>29658.0</td>\n",
       "    </tr>\n",
       "    <tr>\n",
       "      <th>1</th>\n",
       "      <td>AFG</td>\n",
       "      <td>1991</td>\n",
       "      <td>30537.0</td>\n",
       "    </tr>\n",
       "    <tr>\n",
       "      <th>2</th>\n",
       "      <td>AFG</td>\n",
       "      <td>1992</td>\n",
       "      <td>32270.0</td>\n",
       "    </tr>\n",
       "    <tr>\n",
       "      <th>3</th>\n",
       "      <td>AFG</td>\n",
       "      <td>1993</td>\n",
       "      <td>34361.0</td>\n",
       "    </tr>\n",
       "    <tr>\n",
       "      <th>4</th>\n",
       "      <td>AFG</td>\n",
       "      <td>1994</td>\n",
       "      <td>36312.0</td>\n",
       "    </tr>\n",
       "  </tbody>\n",
       "</table>\n",
       "</div>"
      ],
      "text/plain": [
       "   iso  year  neonatal_deaths_median\n",
       "0  AFG  1990                 29658.0\n",
       "1  AFG  1991                 30537.0\n",
       "2  AFG  1992                 32270.0\n",
       "3  AFG  1993                 34361.0\n",
       "4  AFG  1994                 36312.0"
      ]
     },
     "execution_count": 10,
     "metadata": {},
     "output_type": "execute_result"
    }
   ],
   "source": [
    "ddf.ddf_datapoint('ddf--cme', v[2]).query('iso == \"AFG\" & year < 1995')  ## why the difference?"
   ]
  },
  {
   "cell_type": "code",
   "execution_count": 34,
   "metadata": {
    "collapsed": false
   },
   "outputs": [
    {
     "data": {
      "text/plain": [
       "204.1"
      ]
     },
     "execution_count": 34,
     "metadata": {},
     "output_type": "execute_result"
    }
   ],
   "source": [
    "(187.7 + 220.8 + 203.8) / 3"
   ]
  },
  {
   "cell_type": "code",
   "execution_count": null,
   "metadata": {
    "collapsed": true
   },
   "outputs": [],
   "source": []
  },
  {
   "cell_type": "code",
   "execution_count": 7,
   "metadata": {
    "collapsed": false
   },
   "outputs": [
    {
     "data": {
      "text/html": [
       "<div>\n",
       "<table border=\"1\" class=\"dataframe\">\n",
       "  <thead>\n",
       "    <tr style=\"text-align: right;\">\n",
       "      <th></th>\n",
       "      <th>key</th>\n",
       "      <th>value</th>\n",
       "      <th>file</th>\n",
       "    </tr>\n",
       "  </thead>\n",
       "  <tbody>\n",
       "  </tbody>\n",
       "</table>\n",
       "</div>"
      ],
      "text/plain": [
       "Empty DataFrame\n",
       "Columns: [key, value, file]\n",
       "Index: []"
      ]
     },
     "execution_count": 7,
     "metadata": {},
     "output_type": "execute_result"
    }
   ],
   "source": [
    "ddf._get_index('ddf--gapminder--geo_entity_domain').query(\"file == 'ddf--entities--geo--country'\")"
   ]
  },
  {
   "cell_type": "code",
   "execution_count": null,
   "metadata": {
    "collapsed": true
   },
   "outputs": [],
   "source": []
  }
 ],
 "metadata": {
  "kernelspec": {
   "display_name": "Python 3",
   "language": "python",
   "name": "python3"
  },
  "language_info": {
   "codemirror_mode": {
    "name": "ipython",
    "version": 3
   },
   "file_extension": ".py",
   "mimetype": "text/x-python",
   "name": "python",
   "nbconvert_exporter": "python",
   "pygments_lexer": "ipython3",
   "version": "3.5.1"
  }
 },
 "nbformat": 4,
 "nbformat_minor": 0
}
