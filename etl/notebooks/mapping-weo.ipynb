{
 "cells": [
  {
   "cell_type": "code",
   "execution_count": 1,
   "metadata": {
    "collapsed": false
   },
   "outputs": [
    {
     "name": "stderr",
     "output_type": "stream",
     "text": [
      "/usr/local/lib/python3.5/site-packages/matplotlib/__init__.py:872: UserWarning: axes.color_cycle is deprecated and replaced with axes.prop_cycle; please use the latter.\n",
      "  warnings.warn(self.msg_depr % (key, alt_key))\n"
     ]
    }
   ],
   "source": [
    "import pandas as pd\n",
    "import numpy as np\n",
    "import ddf_utils.ddf_reader as ddf"
   ]
  },
  {
   "cell_type": "code",
   "execution_count": 2,
   "metadata": {
    "collapsed": true
   },
   "outputs": [],
   "source": [
    "pd.set_option('max_rows', 30)\n",
    "pd.set_option('max_colwidth', 70)"
   ]
  },
  {
   "cell_type": "code",
   "execution_count": 3,
   "metadata": {
    "collapsed": true
   },
   "outputs": [],
   "source": [
    "mapping = pd.read_csv('./gw_wdi_new.csv')\n",
    "\n",
    "ddf.SEARCH_PATH = '/Users/semio/src/work/Gapminder'"
   ]
  },
  {
   "cell_type": "code",
   "execution_count": null,
   "metadata": {
    "collapsed": true
   },
   "outputs": [],
   "source": []
  },
  {
   "cell_type": "code",
   "execution_count": null,
   "metadata": {
    "collapsed": true
   },
   "outputs": [],
   "source": []
  },
  {
   "cell_type": "markdown",
   "metadata": {},
   "source": [
    "# World Economic Outlook\n",
    "\n",
    "conclusion:\n",
    "\n",
    "1. no settings link are imf.org links\n",
    "2. can't find any relationships between the concept names between both"
   ]
  },
  {
   "cell_type": "code",
   "execution_count": 6,
   "metadata": {
    "collapsed": false
   },
   "outputs": [
    {
     "data": {
      "text/plain": [
       "array(['bca', 'bca_ngdpd', 'flibor6', 'ggr', 'ggr_ngdp', 'ggsb',\n",
       "       'ggsb_npgdp', 'ggx', 'ggx_ngdp', 'ggxcnl', 'ggxcnl_ngdp', 'ggxonlb',\n",
       "       'ggxonlb_ngdp', 'ggxwdg', 'ggxwdg_ngdp', 'ggxwdn', 'ggxwdn_ngdp',\n",
       "       'le', 'lp', 'lur', 'ngap_npgdp', 'ngdp', 'ngdp_d', 'ngdp_fy',\n",
       "       'ngdp_r', 'ngdp_rpch', 'ngdpd', 'ngdpdpc', 'ngdppc', 'ngdprpc',\n",
       "       'ngsd_ngdp', 'nid_ngdp', 'pcpi', 'pcpie', 'pcpiepch', 'pcpipch',\n",
       "       'pppex', 'pppgdp', 'ppppc', 'pppsh', 'tm_rpch', 'tmg_rpch',\n",
       "       'tx_rpch', 'txg_rpch'], dtype=object)"
      ]
     },
     "execution_count": 6,
     "metadata": {},
     "output_type": "execute_result"
    }
   ],
   "source": [
    "ddf._get_index('ddf--weo').query(\"key == 'country,year'\")['value'].values"
   ]
  },
  {
   "cell_type": "code",
   "execution_count": 40,
   "metadata": {
    "collapsed": false
   },
   "outputs": [
    {
     "data": {
      "text/plain": [
       "array(['income_per_person_gdppercapita_ppp_inflation_adjusted',\n",
       "       'child_mortality_0_5_year_olds_dying_per_1000_born',\n",
       "       'life_expectancy_years', 'gdppercapita_growth_over_next_10_years',\n",
       "       'total_gdp_ppp_inflation_adjusted',\n",
       "       'sulfur_emissions_per_person_kg',\n",
       "       'total_sulfur_emission_kilotonnes',\n",
       "       'infant_mortality_rate_per_1000_births',\n",
       "       'breast_cancer_new_cases_per_100000_women',\n",
       "       'cervical_cancer_new_cases_per_100000_women',\n",
       "       'colonandrectum_cancer_new_cases_per_100000_women',\n",
       "       'liver_cancer_new_cases_per_100000_women',\n",
       "       'lung_cancer_new_cases_per_100000_women',\n",
       "       'stomach_cancer_new_cases_per_100000_women',\n",
       "       'breast_cancer_deaths_per_100000_women',\n",
       "       'cervical_cancer_deaths_per_100000_women',\n",
       "       'colonandrectum_cancer_deaths_per_100000_women',\n",
       "       'liver_cancer_deaths_per_100000_women',\n",
       "       'lung_cancer_deaths_per_100000_women',\n",
       "       'stomach_cancer_deaths_per_100000_women',\n",
       "       'colonandrectum_cancer_new_cases_per_100000_men',\n",
       "       'liver_cancer_new_cases_per_100000_men',\n",
       "       'lung_cancer_new_cases_per_100000_men',\n",
       "       'prostate_cancer_new_cases_per_100000_men',\n",
       "       'stomach_cancer_new_cases_per_100000_men',\n",
       "       'colonandrectum_cancer_deaths_per_100000_men',\n",
       "       'liver_cancer_deaths_per_100000_men',\n",
       "       'lung_cancer_deaths_per_100000_men',\n",
       "       'prostate_cancer_deaths_per_100000_men',\n",
       "       'stomach_cancer_deaths_per_100000_men',\n",
       "       'stillbirths_per_1000_births', 'suicide_per_100000_people',\n",
       "       'food_supply_kilocalories_per_person_and_day',\n",
       "       'teen_fertility_rate_births_per_1000_women_ages_15_19',\n",
       "       'population_total', 'age_at_1st_marriage_women',\n",
       "       'murder_per_100000_people', 'democracy_score_use_as_color',\n",
       "       'old_version_of_income_per_person_version_3',\n",
       "       'old_version_of_income_per_person_version_8',\n",
       "       'subsistence_incomes_per_person', 'data_quality_income_per_person',\n",
       "       'data_quality_population', 'data_quality_children_per_woman',\n",
       "       'data_method_maternal_mortality',\n",
       "       'economic_growth_over_the_past_10_years', 'how_far_to_the_north',\n",
       "       'income_per_person_with_projections',\n",
       "       'life_expectancy_at_birth_with_projections',\n",
       "       'total_population_with_projections',\n",
       "       'year_categorization_1820_2010', 'year_categorization_1950',\n",
       "       'traffic_deaths_per_100000_people', 'battle_deaths_per_100_000',\n",
       "       'armed_forces_personnel_total',\n",
       "       'armed_forces_personnel_percent_of_labor_force',\n",
       "       'traffic_total_deaths', 'dead_kids_per_woman',\n",
       "       'surviving_kids_per_woman', 'number_of_child_deaths',\n",
       "       'life_expectancy_at_birth_data_from_ihme',\n",
       "       'gdp_total_yearly_growth',\n",
       "       'child_mortality_0_5_year_olds_more_years_version_7',\n",
       "       'number_of_people_in_poverty', 'income_per_person_long_series'], dtype=object)"
      ]
     },
     "execution_count": 40,
     "metadata": {},
     "output_type": "execute_result"
    }
   ],
   "source": [
    "mapping[mapping['settings_link'].str.contains('google').fillna(False)]['concept'].values"
   ]
  },
  {
   "cell_type": "code",
   "execution_count": null,
   "metadata": {
    "collapsed": true
   },
   "outputs": [],
   "source": []
  },
  {
   "cell_type": "code",
   "execution_count": null,
   "metadata": {
    "collapsed": true
   },
   "outputs": [],
   "source": []
  },
  {
   "cell_type": "code",
   "execution_count": null,
   "metadata": {
    "collapsed": true
   },
   "outputs": [],
   "source": []
  },
  {
   "cell_type": "code",
   "execution_count": 37,
   "metadata": {
    "collapsed": false,
    "scrolled": true
   },
   "outputs": [
    {
     "data": {
      "text/html": [
       "<div>\n",
       "<table border=\"1\" class=\"dataframe\">\n",
       "  <thead>\n",
       "    <tr style=\"text-align: right;\">\n",
       "      <th></th>\n",
       "      <th>total_gdp_ppp_inflation_adjusted</th>\n",
       "      <th>geo</th>\n",
       "      <th>time</th>\n",
       "    </tr>\n",
       "  </thead>\n",
       "  <tbody>\n",
       "    <tr>\n",
       "      <th>202</th>\n",
       "      <td>24060000000</td>\n",
       "      <td>afg</td>\n",
       "      <td>2002</td>\n",
       "    </tr>\n",
       "    <tr>\n",
       "      <th>203</th>\n",
       "      <td>27090000000</td>\n",
       "      <td>afg</td>\n",
       "      <td>2003</td>\n",
       "    </tr>\n",
       "    <tr>\n",
       "      <th>204</th>\n",
       "      <td>28870000000</td>\n",
       "      <td>afg</td>\n",
       "      <td>2004</td>\n",
       "    </tr>\n",
       "    <tr>\n",
       "      <th>205</th>\n",
       "      <td>32440000000</td>\n",
       "      <td>afg</td>\n",
       "      <td>2005</td>\n",
       "    </tr>\n",
       "    <tr>\n",
       "      <th>206</th>\n",
       "      <td>33910000000</td>\n",
       "      <td>afg</td>\n",
       "      <td>2006</td>\n",
       "    </tr>\n",
       "    <tr>\n",
       "      <th>207</th>\n",
       "      <td>38530000000</td>\n",
       "      <td>afg</td>\n",
       "      <td>2007</td>\n",
       "    </tr>\n",
       "    <tr>\n",
       "      <th>208</th>\n",
       "      <td>39490000000</td>\n",
       "      <td>afg</td>\n",
       "      <td>2008</td>\n",
       "    </tr>\n",
       "    <tr>\n",
       "      <th>209</th>\n",
       "      <td>47460000000</td>\n",
       "      <td>afg</td>\n",
       "      <td>2009</td>\n",
       "    </tr>\n",
       "  </tbody>\n",
       "</table>\n",
       "</div>"
      ],
      "text/plain": [
       "     total_gdp_ppp_inflation_adjusted  geo  time\n",
       "202                       24060000000  afg  2002\n",
       "203                       27090000000  afg  2003\n",
       "204                       28870000000  afg  2004\n",
       "205                       32440000000  afg  2005\n",
       "206                       33910000000  afg  2006\n",
       "207                       38530000000  afg  2007\n",
       "208                       39490000000  afg  2008\n",
       "209                       47460000000  afg  2009"
      ]
     },
     "execution_count": 37,
     "metadata": {},
     "output_type": "execute_result"
    }
   ],
   "source": [
    "ddf.ddf_datapoint('ddf--gapminder--gapminder_world', 'total_gdp_ppp_inflation_adjusted').query(\n",
    "    'geo == \"afg\" & time > 2001 & time < 2010')"
   ]
  },
  {
   "cell_type": "code",
   "execution_count": 41,
   "metadata": {
    "collapsed": false
   },
   "outputs": [
    {
     "data": {
      "text/html": [
       "<div>\n",
       "<table border=\"1\" class=\"dataframe\">\n",
       "  <thead>\n",
       "    <tr style=\"text-align: right;\">\n",
       "      <th></th>\n",
       "      <th>year</th>\n",
       "      <th>country</th>\n",
       "      <th>pppgdp</th>\n",
       "    </tr>\n",
       "  </thead>\n",
       "  <tbody>\n",
       "    <tr>\n",
       "      <th>0</th>\n",
       "      <td>2002</td>\n",
       "      <td>afg</td>\n",
       "      <td>18.811</td>\n",
       "    </tr>\n",
       "    <tr>\n",
       "      <th>1</th>\n",
       "      <td>2003</td>\n",
       "      <td>afg</td>\n",
       "      <td>20.806</td>\n",
       "    </tr>\n",
       "    <tr>\n",
       "      <th>2</th>\n",
       "      <td>2004</td>\n",
       "      <td>afg</td>\n",
       "      <td>21.522</td>\n",
       "    </tr>\n",
       "    <tr>\n",
       "      <th>3</th>\n",
       "      <td>2005</td>\n",
       "      <td>afg</td>\n",
       "      <td>24.842</td>\n",
       "    </tr>\n",
       "    <tr>\n",
       "      <th>4</th>\n",
       "      <td>2006</td>\n",
       "      <td>afg</td>\n",
       "      <td>26.978</td>\n",
       "    </tr>\n",
       "    <tr>\n",
       "      <th>5</th>\n",
       "      <td>2007</td>\n",
       "      <td>afg</td>\n",
       "      <td>31.390</td>\n",
       "    </tr>\n",
       "    <tr>\n",
       "      <th>6</th>\n",
       "      <td>2008</td>\n",
       "      <td>afg</td>\n",
       "      <td>33.242</td>\n",
       "    </tr>\n",
       "    <tr>\n",
       "      <th>7</th>\n",
       "      <td>2009</td>\n",
       "      <td>afg</td>\n",
       "      <td>40.390</td>\n",
       "    </tr>\n",
       "    <tr>\n",
       "      <th>8</th>\n",
       "      <td>2010</td>\n",
       "      <td>afg</td>\n",
       "      <td>44.333</td>\n",
       "    </tr>\n",
       "    <tr>\n",
       "      <th>9</th>\n",
       "      <td>2011</td>\n",
       "      <td>afg</td>\n",
       "      <td>48.180</td>\n",
       "    </tr>\n",
       "    <tr>\n",
       "      <th>10</th>\n",
       "      <td>2012</td>\n",
       "      <td>afg</td>\n",
       "      <td>55.896</td>\n",
       "    </tr>\n",
       "    <tr>\n",
       "      <th>11</th>\n",
       "      <td>2013</td>\n",
       "      <td>afg</td>\n",
       "      <td>58.805</td>\n",
       "    </tr>\n",
       "    <tr>\n",
       "      <th>12</th>\n",
       "      <td>2014</td>\n",
       "      <td>afg</td>\n",
       "      <td>60.578</td>\n",
       "    </tr>\n",
       "    <tr>\n",
       "      <th>13</th>\n",
       "      <td>2015</td>\n",
       "      <td>afg</td>\n",
       "      <td>63.252</td>\n",
       "    </tr>\n",
       "    <tr>\n",
       "      <th>14</th>\n",
       "      <td>2016</td>\n",
       "      <td>afg</td>\n",
       "      <td>67.356</td>\n",
       "    </tr>\n",
       "    <tr>\n",
       "      <th>15</th>\n",
       "      <td>2017</td>\n",
       "      <td>afg</td>\n",
       "      <td>72.872</td>\n",
       "    </tr>\n",
       "    <tr>\n",
       "      <th>16</th>\n",
       "      <td>2018</td>\n",
       "      <td>afg</td>\n",
       "      <td>78.586</td>\n",
       "    </tr>\n",
       "    <tr>\n",
       "      <th>17</th>\n",
       "      <td>2019</td>\n",
       "      <td>afg</td>\n",
       "      <td>84.847</td>\n",
       "    </tr>\n",
       "    <tr>\n",
       "      <th>18</th>\n",
       "      <td>2020</td>\n",
       "      <td>afg</td>\n",
       "      <td>91.070</td>\n",
       "    </tr>\n",
       "  </tbody>\n",
       "</table>\n",
       "</div>"
      ],
      "text/plain": [
       "    year country  pppgdp\n",
       "0   2002     afg  18.811\n",
       "1   2003     afg  20.806\n",
       "2   2004     afg  21.522\n",
       "3   2005     afg  24.842\n",
       "4   2006     afg  26.978\n",
       "5   2007     afg  31.390\n",
       "6   2008     afg  33.242\n",
       "7   2009     afg  40.390\n",
       "8   2010     afg  44.333\n",
       "9   2011     afg  48.180\n",
       "10  2012     afg  55.896\n",
       "11  2013     afg  58.805\n",
       "12  2014     afg  60.578\n",
       "13  2015     afg  63.252\n",
       "14  2016     afg  67.356\n",
       "15  2017     afg  72.872\n",
       "16  2018     afg  78.586\n",
       "17  2019     afg  84.847\n",
       "18  2020     afg  91.070"
      ]
     },
     "execution_count": 41,
     "metadata": {},
     "output_type": "execute_result"
    }
   ],
   "source": [
    "ddf.ddf_datapoint('ddf--weo', 'pppgdp').query('country == \"afg\"')"
   ]
  },
  {
   "cell_type": "code",
   "execution_count": null,
   "metadata": {
    "collapsed": true
   },
   "outputs": [],
   "source": []
  }
 ],
 "metadata": {
  "kernelspec": {
   "display_name": "Python 3",
   "language": "python",
   "name": "python3"
  },
  "language_info": {
   "codemirror_mode": {
    "name": "ipython",
    "version": 3
   },
   "file_extension": ".py",
   "mimetype": "text/x-python",
   "name": "python",
   "nbconvert_exporter": "python",
   "pygments_lexer": "ipython3",
   "version": "3.5.1"
  }
 },
 "nbformat": 4,
 "nbformat_minor": 0
}
