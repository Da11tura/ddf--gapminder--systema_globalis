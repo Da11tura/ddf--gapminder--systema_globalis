{
 "cells": [
  {
   "cell_type": "code",
   "execution_count": 1,
   "metadata": {
    "collapsed": false
   },
   "outputs": [
    {
     "name": "stderr",
     "output_type": "stream",
     "text": [
      "/usr/local/lib/python3.5/site-packages/matplotlib/__init__.py:872: UserWarning: axes.color_cycle is deprecated and replaced with axes.prop_cycle; please use the latter.\n",
      "  warnings.warn(self.msg_depr % (key, alt_key))\n"
     ]
    }
   ],
   "source": [
    "import pandas as pd\n",
    "import numpy as np\n",
    "import ddf_utils.ddf_reader as ddf"
   ]
  },
  {
   "cell_type": "code",
   "execution_count": 2,
   "metadata": {
    "collapsed": true
   },
   "outputs": [],
   "source": [
    "pd.set_option('max_rows', 30)\n",
    "pd.set_option('max_colwidth', 70)"
   ]
  },
  {
   "cell_type": "code",
   "execution_count": 3,
   "metadata": {
    "collapsed": true
   },
   "outputs": [],
   "source": [
    "mapping = pd.read_csv('./gw_wdi_new.csv')\n",
    "\n",
    "ddf.SEARCH_PATH = '/Users/semio/src/work/Gapminder'"
   ]
  },
  {
   "cell_type": "code",
   "execution_count": null,
   "metadata": {
    "collapsed": true
   },
   "outputs": [],
   "source": []
  },
  {
   "cell_type": "code",
   "execution_count": null,
   "metadata": {
    "collapsed": true
   },
   "outputs": [],
   "source": []
  },
  {
   "cell_type": "markdown",
   "metadata": {},
   "source": [
    "# World Population Prospects"
   ]
  },
  {
   "cell_type": "code",
   "execution_count": 6,
   "metadata": {
    "collapsed": false
   },
   "outputs": [
    {
     "data": {
      "text/html": [
       "<div>\n",
       "<table border=\"1\" class=\"dataframe\">\n",
       "  <thead>\n",
       "    <tr style=\"text-align: right;\">\n",
       "      <th></th>\n",
       "      <th>key</th>\n",
       "      <th>value</th>\n",
       "      <th>file</th>\n",
       "    </tr>\n",
       "  </thead>\n",
       "  <tbody>\n",
       "    <tr>\n",
       "      <th>0</th>\n",
       "      <td>concept</td>\n",
       "      <td>name</td>\n",
       "      <td>ddf--concepts--continuous.csv</td>\n",
       "    </tr>\n",
       "    <tr>\n",
       "      <th>1</th>\n",
       "      <td>concept</td>\n",
       "      <td>concept_type</td>\n",
       "      <td>ddf--concepts--continuous.csv</td>\n",
       "    </tr>\n",
       "    <tr>\n",
       "      <th>2</th>\n",
       "      <td>concept</td>\n",
       "      <td>unit</td>\n",
       "      <td>ddf--concepts--continuous.csv</td>\n",
       "    </tr>\n",
       "    <tr>\n",
       "      <th>3</th>\n",
       "      <td>concept</td>\n",
       "      <td>name</td>\n",
       "      <td>ddf--concepts--discrete.csv</td>\n",
       "    </tr>\n",
       "    <tr>\n",
       "      <th>4</th>\n",
       "      <td>concept</td>\n",
       "      <td>concept_type</td>\n",
       "      <td>ddf--concepts--discrete.csv</td>\n",
       "    </tr>\n",
       "    <tr>\n",
       "      <th>5</th>\n",
       "      <td>country_code,year</td>\n",
       "      <td>births</td>\n",
       "      <td>ddf--datapoints--births--by--country_code--year.csv</td>\n",
       "    </tr>\n",
       "    <tr>\n",
       "      <th>6</th>\n",
       "      <td>country_code,year</td>\n",
       "      <td>crude_birth_rate</td>\n",
       "      <td>ddf--datapoints--crude_birth_rate--by--country_code--year.csv</td>\n",
       "    </tr>\n",
       "    <tr>\n",
       "      <th>7</th>\n",
       "      <td>country_code,year</td>\n",
       "      <td>crude_death_rate</td>\n",
       "      <td>ddf--datapoints--crude_death_rate--by--country_code--year.csv</td>\n",
       "    </tr>\n",
       "    <tr>\n",
       "      <th>8</th>\n",
       "      <td>country_code,year</td>\n",
       "      <td>deaths</td>\n",
       "      <td>ddf--datapoints--deaths--by--country_code--year.csv</td>\n",
       "    </tr>\n",
       "    <tr>\n",
       "      <th>9</th>\n",
       "      <td>country_code,year</td>\n",
       "      <td>female_deaths</td>\n",
       "      <td>ddf--datapoints--female_deaths--by--country_code--year.csv</td>\n",
       "    </tr>\n",
       "    <tr>\n",
       "      <th>10</th>\n",
       "      <td>country_code,year</td>\n",
       "      <td>infant_deaths_both_sexes_combined</td>\n",
       "      <td>ddf--datapoints--infant_deaths_both_sexes_combined--by--country_co...</td>\n",
       "    </tr>\n",
       "    <tr>\n",
       "      <th>11</th>\n",
       "      <td>country_code,year</td>\n",
       "      <td>infant_mortality_rate</td>\n",
       "      <td>ddf--datapoints--infant_mortality_rate--by--country_code--year.csv</td>\n",
       "    </tr>\n",
       "    <tr>\n",
       "      <th>12</th>\n",
       "      <td>country_code,year</td>\n",
       "      <td>life_expectancy_at_birth_both_sexes_combined</td>\n",
       "      <td>ddf--datapoints--life_expectancy_at_birth_both_sexes_combined--by-...</td>\n",
       "    </tr>\n",
       "    <tr>\n",
       "      <th>13</th>\n",
       "      <td>country_code,year</td>\n",
       "      <td>life_expectancy_at_birth_females</td>\n",
       "      <td>ddf--datapoints--life_expectancy_at_birth_females--by--country_cod...</td>\n",
       "    </tr>\n",
       "    <tr>\n",
       "      <th>14</th>\n",
       "      <td>country_code,year</td>\n",
       "      <td>life_expectancy_at_birth_males</td>\n",
       "      <td>ddf--datapoints--life_expectancy_at_birth_males--by--country_code-...</td>\n",
       "    </tr>\n",
       "    <tr>\n",
       "      <th>15</th>\n",
       "      <td>country_code,year</td>\n",
       "      <td>male_deaths</td>\n",
       "      <td>ddf--datapoints--male_deaths--by--country_code--year.csv</td>\n",
       "    </tr>\n",
       "    <tr>\n",
       "      <th>16</th>\n",
       "      <td>country_code,year</td>\n",
       "      <td>population_change</td>\n",
       "      <td>ddf--datapoints--population_change--by--country_code--year.csv</td>\n",
       "    </tr>\n",
       "    <tr>\n",
       "      <th>17</th>\n",
       "      <td>country_code,year</td>\n",
       "      <td>population_growth_rate</td>\n",
       "      <td>ddf--datapoints--population_growth_rate--by--country_code--year.csv</td>\n",
       "    </tr>\n",
       "    <tr>\n",
       "      <th>18</th>\n",
       "      <td>country_code,year</td>\n",
       "      <td>rate_of_natural_increase</td>\n",
       "      <td>ddf--datapoints--rate_of_natural_increase--by--country_code--year.csv</td>\n",
       "    </tr>\n",
       "    <tr>\n",
       "      <th>19</th>\n",
       "      <td>country_code,year</td>\n",
       "      <td>total_fertility</td>\n",
       "      <td>ddf--datapoints--total_fertility--by--country_code--year.csv</td>\n",
       "    </tr>\n",
       "    <tr>\n",
       "      <th>20</th>\n",
       "      <td>country_code,year</td>\n",
       "      <td>total_population_annual_doubling_time</td>\n",
       "      <td>ddf--datapoints--total_population_annual_doubling_time--by--countr...</td>\n",
       "    </tr>\n",
       "    <tr>\n",
       "      <th>21</th>\n",
       "      <td>country_code,year</td>\n",
       "      <td>total_population_natural_change_increase</td>\n",
       "      <td>ddf--datapoints--total_population_natural_change_increase--by--cou...</td>\n",
       "    </tr>\n",
       "    <tr>\n",
       "      <th>22</th>\n",
       "      <td>country_code,year</td>\n",
       "      <td>total_survivors_to_age_1</td>\n",
       "      <td>ddf--datapoints--total_survivors_to_age_1--by--country_code--year.csv</td>\n",
       "    </tr>\n",
       "    <tr>\n",
       "      <th>23</th>\n",
       "      <td>country_code,year</td>\n",
       "      <td>under_five_mortality</td>\n",
       "      <td>ddf--datapoints--under_five_mortality--by--country_code--year.csv</td>\n",
       "    </tr>\n",
       "    <tr>\n",
       "      <th>24</th>\n",
       "      <td>country_code</td>\n",
       "      <td>major_area_region_country_or_area</td>\n",
       "      <td>ddf--entities--country_code.csv</td>\n",
       "    </tr>\n",
       "  </tbody>\n",
       "</table>\n",
       "</div>"
      ],
      "text/plain": [
       "                  key                                         value  \\\n",
       "0             concept                                          name   \n",
       "1             concept                                  concept_type   \n",
       "2             concept                                          unit   \n",
       "3             concept                                          name   \n",
       "4             concept                                  concept_type   \n",
       "5   country_code,year                                        births   \n",
       "6   country_code,year                              crude_birth_rate   \n",
       "7   country_code,year                              crude_death_rate   \n",
       "8   country_code,year                                        deaths   \n",
       "9   country_code,year                                 female_deaths   \n",
       "10  country_code,year             infant_deaths_both_sexes_combined   \n",
       "11  country_code,year                         infant_mortality_rate   \n",
       "12  country_code,year  life_expectancy_at_birth_both_sexes_combined   \n",
       "13  country_code,year              life_expectancy_at_birth_females   \n",
       "14  country_code,year                life_expectancy_at_birth_males   \n",
       "15  country_code,year                                   male_deaths   \n",
       "16  country_code,year                             population_change   \n",
       "17  country_code,year                        population_growth_rate   \n",
       "18  country_code,year                      rate_of_natural_increase   \n",
       "19  country_code,year                               total_fertility   \n",
       "20  country_code,year         total_population_annual_doubling_time   \n",
       "21  country_code,year      total_population_natural_change_increase   \n",
       "22  country_code,year                      total_survivors_to_age_1   \n",
       "23  country_code,year                          under_five_mortality   \n",
       "24       country_code             major_area_region_country_or_area   \n",
       "\n",
       "                                                                     file  \n",
       "0                                           ddf--concepts--continuous.csv  \n",
       "1                                           ddf--concepts--continuous.csv  \n",
       "2                                           ddf--concepts--continuous.csv  \n",
       "3                                             ddf--concepts--discrete.csv  \n",
       "4                                             ddf--concepts--discrete.csv  \n",
       "5                     ddf--datapoints--births--by--country_code--year.csv  \n",
       "6           ddf--datapoints--crude_birth_rate--by--country_code--year.csv  \n",
       "7           ddf--datapoints--crude_death_rate--by--country_code--year.csv  \n",
       "8                     ddf--datapoints--deaths--by--country_code--year.csv  \n",
       "9              ddf--datapoints--female_deaths--by--country_code--year.csv  \n",
       "10  ddf--datapoints--infant_deaths_both_sexes_combined--by--country_co...  \n",
       "11     ddf--datapoints--infant_mortality_rate--by--country_code--year.csv  \n",
       "12  ddf--datapoints--life_expectancy_at_birth_both_sexes_combined--by-...  \n",
       "13  ddf--datapoints--life_expectancy_at_birth_females--by--country_cod...  \n",
       "14  ddf--datapoints--life_expectancy_at_birth_males--by--country_code-...  \n",
       "15               ddf--datapoints--male_deaths--by--country_code--year.csv  \n",
       "16         ddf--datapoints--population_change--by--country_code--year.csv  \n",
       "17    ddf--datapoints--population_growth_rate--by--country_code--year.csv  \n",
       "18  ddf--datapoints--rate_of_natural_increase--by--country_code--year.csv  \n",
       "19           ddf--datapoints--total_fertility--by--country_code--year.csv  \n",
       "20  ddf--datapoints--total_population_annual_doubling_time--by--countr...  \n",
       "21  ddf--datapoints--total_population_natural_change_increase--by--cou...  \n",
       "22  ddf--datapoints--total_survivors_to_age_1--by--country_code--year.csv  \n",
       "23      ddf--datapoints--under_five_mortality--by--country_code--year.csv  \n",
       "24                                        ddf--entities--country_code.csv  "
      ]
     },
     "execution_count": 6,
     "metadata": {},
     "output_type": "execute_result"
    }
   ],
   "source": [
    "ddf._get_index('ddf--wpp')"
   ]
  },
  {
   "cell_type": "code",
   "execution_count": 14,
   "metadata": {
    "collapsed": false
   },
   "outputs": [
    {
     "data": {
      "text/plain": [
       "array(['population_aged_0_4_years_both_sexes_percent',\n",
       "       'population_aged_5_9_years_both_sexes_percent',\n",
       "       'population_aged_10_14_years_both_sexes_percent',\n",
       "       'population_aged_15_19_years_both_sexes_percent',\n",
       "       'population_aged_20_39_years_both_sexes_percent',\n",
       "       'population_aged_40_59_years_both_sexes_percent',\n",
       "       'population_aged_60plus_years_both_sexes_percent',\n",
       "       'population_aged_0_4_years_total_number',\n",
       "       'population_aged_5_9_years_total_number',\n",
       "       'population_aged_10_14_years_total_number',\n",
       "       'population_aged_15_19_years_total_number',\n",
       "       'population_aged_20_39_years_total_number',\n",
       "       'population_aged_40_59_years_total_number',\n",
       "       'population_aged_60plus_years_total_number',\n",
       "       'population_aged_0_4_years_female_percent',\n",
       "       'population_aged_5_9_years_female_percent',\n",
       "       'population_aged_10_14_years_female_percent',\n",
       "       'population_aged_15_19_years_female_percent',\n",
       "       'population_aged_20_39_years_female_percent',\n",
       "       'population_aged_40_59_years_female_percent',\n",
       "       'population_aged_60plus_years_female_percent',\n",
       "       'population_aged_0_4_years_male_percent',\n",
       "       'population_aged_5_9_years_male_percent',\n",
       "       'population_aged_10_14_years_male_percent',\n",
       "       'population_aged_15_19_years_male_percent',\n",
       "       'population_aged_20_39_years_male_percent',\n",
       "       'population_aged_40_59_years_male_percent',\n",
       "       'population_aged_60plus_years_male_percent',\n",
       "       'crude_birth_rate_births_per_1000_population',\n",
       "       'crude_death_rate_deaths_per_1000_population',\n",
       "       'sex_ratio_all_age_groups', 'sex_ratio_0_14_years',\n",
       "       'sex_ratio_15_24_years', 'sex_ratio_15_49_years',\n",
       "       'sex_ratio_above_50_years', 'median_age_years',\n",
       "       'population_density_per_square_km',\n",
       "       'female_population_with_projections',\n",
       "       'male_population_with_projections',\n",
       "       'population_growth_annual_percent_with_projections',\n",
       "       'life_expectancy_male', 'life_expectancy_female'], dtype=object)"
      ]
     },
     "execution_count": 14,
     "metadata": {},
     "output_type": "execute_result"
    }
   ],
   "source": [
    "mapping.where(mapping['settings_link'].str.contains('esa.un.org')).dropna(how='all')['concept'].values"
   ]
  },
  {
   "cell_type": "markdown",
   "metadata": {},
   "source": [
    "Below lists are shared indicators in both data set."
   ]
  },
  {
   "cell_type": "code",
   "execution_count": 124,
   "metadata": {
    "collapsed": true
   },
   "outputs": [],
   "source": [
    "k = ['crude_birth_rate_births_per_1000_population',\n",
    "     'crude_death_rate_deaths_per_1000_population', 'life_expectancy_male', \n",
    "     'population_growth_annual_percent_with_projections',\n",
    "     'life_expectancy_female'\n",
    "    ]"
   ]
  },
  {
   "cell_type": "code",
   "execution_count": 125,
   "metadata": {
    "collapsed": true
   },
   "outputs": [],
   "source": [
    "v = ['crude_birth_rate', 'crude_death_rate', 'life_expectancy_at_birth_males', \n",
    "      'population_growth_rate', 'life_expectancy_at_birth_females'\n",
    "    ]"
   ]
  },
  {
   "cell_type": "code",
   "execution_count": null,
   "metadata": {
    "collapsed": true
   },
   "outputs": [],
   "source": []
  },
  {
   "cell_type": "code",
   "execution_count": 126,
   "metadata": {
    "collapsed": false
   },
   "outputs": [
    {
     "data": {
      "text/plain": [
       "{'crude_birth_rate': 'crude_birth_rate_births_per_1000_population',\n",
       " 'crude_death_rate': 'crude_death_rate_deaths_per_1000_population',\n",
       " 'life_expectancy_at_birth_females': 'life_expectancy_female',\n",
       " 'life_expectancy_at_birth_males': 'life_expectancy_male',\n",
       " 'population_growth_rate': 'population_growth_annual_percent_with_projections'}"
      ]
     },
     "execution_count": 126,
     "metadata": {},
     "output_type": "execute_result"
    }
   ],
   "source": [
    "dict(zip(v, k))"
   ]
  },
  {
   "cell_type": "code",
   "execution_count": null,
   "metadata": {
    "collapsed": true
   },
   "outputs": [],
   "source": []
  },
  {
   "cell_type": "code",
   "execution_count": null,
   "metadata": {
    "collapsed": true
   },
   "outputs": [],
   "source": [
    "# country code mapping"
   ]
  },
  {
   "cell_type": "code",
   "execution_count": 21,
   "metadata": {
    "collapsed": true
   },
   "outputs": [],
   "source": [
    "cpp = ddf.ddf_entities('ddf--wpp')['country_code']\n",
    "cgw = ddf.ddf_entities('ddf--gapminder--gapminder_world')['country']"
   ]
  },
  {
   "cell_type": "code",
   "execution_count": 75,
   "metadata": {
    "collapsed": false
   },
   "outputs": [
    {
     "data": {
      "text/plain": [
       "Index(['country', 'gwid', 'name', 'geographic_regions', 'income_groups',\n",
       "       'landlocked', 'g77_and_oecd_countries',\n",
       "       'geographic_regions_in_4_colors', 'main_religion_2008',\n",
       "       'gapminder_list', 'alternative_1', 'alternative_2', 'alternative_3',\n",
       "       'alternative_4_cdiac', 'pandg', 'god_id', 'alt_5', 'upper_case_name',\n",
       "       'code', 'number', 'arb1', 'arb2', 'arb3', 'arb4', 'arb5', 'arb6',\n",
       "       'is--country', 'world_4region', 'latitude', 'longitude'],\n",
       "      dtype='object')"
      ]
     },
     "execution_count": 75,
     "metadata": {},
     "output_type": "execute_result"
    }
   ],
   "source": [
    "cgw.columns"
   ]
  },
  {
   "cell_type": "code",
   "execution_count": 23,
   "metadata": {
    "collapsed": false
   },
   "outputs": [],
   "source": [
    "cpp['country_code'] = cpp['country_code'].map(str)"
   ]
  },
  {
   "cell_type": "code",
   "execution_count": 25,
   "metadata": {
    "collapsed": false
   },
   "outputs": [],
   "source": [
    "cpp = cpp.set_index('major_area_region_country_or_area')"
   ]
  },
  {
   "cell_type": "code",
   "execution_count": 26,
   "metadata": {
    "collapsed": true
   },
   "outputs": [],
   "source": [
    "cpp = cpp.reset_index()"
   ]
  },
  {
   "cell_type": "code",
   "execution_count": 99,
   "metadata": {
    "collapsed": true
   },
   "outputs": [],
   "source": [
    "def gw_id(s):\n",
    "    for i in ['name', 'alternative_1', 'alternative_2', 'alternative_3', 'upper_case_name',\n",
    "       'alternative_4_cdiac', 'pandg', 'god_id', 'alt_5', 'arb1', 'arb2', 'arb3', 'arb4', 'arb5', 'arb6']:\n",
    "    \n",
    "        if s.lower() in cgw[i].str.lower().values:\n",
    "            return cgw[cgw[i].str.lower() == s.lower()]['country'].values[0]\n",
    "    return np.nan"
   ]
  },
  {
   "cell_type": "code",
   "execution_count": 100,
   "metadata": {
    "collapsed": false
   },
   "outputs": [],
   "source": [
    "cpp['in_gw'] = cpp['major_area_region_country_or_area'].map(lambda x: gw_id(x))"
   ]
  },
  {
   "cell_type": "code",
   "execution_count": 95,
   "metadata": {
    "collapsed": false
   },
   "outputs": [
    {
     "data": {
      "text/html": [
       "<div>\n",
       "<table border=\"1\" class=\"dataframe\">\n",
       "  <thead>\n",
       "    <tr style=\"text-align: right;\">\n",
       "      <th></th>\n",
       "      <th>major_area_region_country_or_area</th>\n",
       "      <th>country_code</th>\n",
       "      <th>in_gw</th>\n",
       "    </tr>\n",
       "  </thead>\n",
       "  <tbody>\n",
       "    <tr>\n",
       "      <th>0</th>\n",
       "      <td>WORLD</td>\n",
       "      <td>900</td>\n",
       "      <td>NaN</td>\n",
       "    </tr>\n",
       "    <tr>\n",
       "      <th>1</th>\n",
       "      <td>More developed regions</td>\n",
       "      <td>901</td>\n",
       "      <td>NaN</td>\n",
       "    </tr>\n",
       "    <tr>\n",
       "      <th>2</th>\n",
       "      <td>Less developed regions</td>\n",
       "      <td>902</td>\n",
       "      <td>NaN</td>\n",
       "    </tr>\n",
       "    <tr>\n",
       "      <th>3</th>\n",
       "      <td>Least developed countries</td>\n",
       "      <td>941</td>\n",
       "      <td>NaN</td>\n",
       "    </tr>\n",
       "    <tr>\n",
       "      <th>4</th>\n",
       "      <td>Less developed regions, excluding least developed countries</td>\n",
       "      <td>934</td>\n",
       "      <td>NaN</td>\n",
       "    </tr>\n",
       "    <tr>\n",
       "      <th>5</th>\n",
       "      <td>Less developed regions, excluding China</td>\n",
       "      <td>948</td>\n",
       "      <td>NaN</td>\n",
       "    </tr>\n",
       "    <tr>\n",
       "      <th>6</th>\n",
       "      <td>High-income countries</td>\n",
       "      <td>1503</td>\n",
       "      <td>NaN</td>\n",
       "    </tr>\n",
       "    <tr>\n",
       "      <th>7</th>\n",
       "      <td>Middle-income countries</td>\n",
       "      <td>1517</td>\n",
       "      <td>NaN</td>\n",
       "    </tr>\n",
       "    <tr>\n",
       "      <th>8</th>\n",
       "      <td>Upper-middle-income countries</td>\n",
       "      <td>1502</td>\n",
       "      <td>NaN</td>\n",
       "    </tr>\n",
       "    <tr>\n",
       "      <th>9</th>\n",
       "      <td>Lower-middle-income countries</td>\n",
       "      <td>1501</td>\n",
       "      <td>NaN</td>\n",
       "    </tr>\n",
       "    <tr>\n",
       "      <th>10</th>\n",
       "      <td>Low-income countries</td>\n",
       "      <td>1500</td>\n",
       "      <td>NaN</td>\n",
       "    </tr>\n",
       "    <tr>\n",
       "      <th>11</th>\n",
       "      <td>Sub-Saharan Africa</td>\n",
       "      <td>947</td>\n",
       "      <td>NaN</td>\n",
       "    </tr>\n",
       "    <tr>\n",
       "      <th>12</th>\n",
       "      <td>AFRICA</td>\n",
       "      <td>903</td>\n",
       "      <td>NaN</td>\n",
       "    </tr>\n",
       "    <tr>\n",
       "      <th>13</th>\n",
       "      <td>Eastern Africa</td>\n",
       "      <td>910</td>\n",
       "      <td>NaN</td>\n",
       "    </tr>\n",
       "    <tr>\n",
       "      <th>14</th>\n",
       "      <td>Burundi</td>\n",
       "      <td>108</td>\n",
       "      <td>bdi</td>\n",
       "    </tr>\n",
       "    <tr>\n",
       "      <th>...</th>\n",
       "      <td>...</td>\n",
       "      <td>...</td>\n",
       "      <td>...</td>\n",
       "    </tr>\n",
       "    <tr>\n",
       "      <th>226</th>\n",
       "      <td>New Zealand</td>\n",
       "      <td>554</td>\n",
       "      <td>nzl</td>\n",
       "    </tr>\n",
       "    <tr>\n",
       "      <th>227</th>\n",
       "      <td>Melanesia</td>\n",
       "      <td>928</td>\n",
       "      <td>NaN</td>\n",
       "    </tr>\n",
       "    <tr>\n",
       "      <th>228</th>\n",
       "      <td>Fiji</td>\n",
       "      <td>242</td>\n",
       "      <td>fji</td>\n",
       "    </tr>\n",
       "    <tr>\n",
       "      <th>229</th>\n",
       "      <td>New Caledonia</td>\n",
       "      <td>540</td>\n",
       "      <td>ncl</td>\n",
       "    </tr>\n",
       "    <tr>\n",
       "      <th>230</th>\n",
       "      <td>Papua New Guinea</td>\n",
       "      <td>598</td>\n",
       "      <td>png</td>\n",
       "    </tr>\n",
       "    <tr>\n",
       "      <th>231</th>\n",
       "      <td>Solomon Islands</td>\n",
       "      <td>90</td>\n",
       "      <td>slb</td>\n",
       "    </tr>\n",
       "    <tr>\n",
       "      <th>232</th>\n",
       "      <td>Vanuatu</td>\n",
       "      <td>548</td>\n",
       "      <td>vut</td>\n",
       "    </tr>\n",
       "    <tr>\n",
       "      <th>233</th>\n",
       "      <td>Micronesia</td>\n",
       "      <td>954</td>\n",
       "      <td>fsm</td>\n",
       "    </tr>\n",
       "    <tr>\n",
       "      <th>234</th>\n",
       "      <td>Guam</td>\n",
       "      <td>316</td>\n",
       "      <td>gum</td>\n",
       "    </tr>\n",
       "    <tr>\n",
       "      <th>235</th>\n",
       "      <td>Kiribati</td>\n",
       "      <td>296</td>\n",
       "      <td>kir</td>\n",
       "    </tr>\n",
       "    <tr>\n",
       "      <th>236</th>\n",
       "      <td>Micronesia (Fed. States of)</td>\n",
       "      <td>583</td>\n",
       "      <td>fsm</td>\n",
       "    </tr>\n",
       "    <tr>\n",
       "      <th>237</th>\n",
       "      <td>Polynesia</td>\n",
       "      <td>957</td>\n",
       "      <td>NaN</td>\n",
       "    </tr>\n",
       "    <tr>\n",
       "      <th>238</th>\n",
       "      <td>French Polynesia</td>\n",
       "      <td>258</td>\n",
       "      <td>pyf</td>\n",
       "    </tr>\n",
       "    <tr>\n",
       "      <th>239</th>\n",
       "      <td>Samoa</td>\n",
       "      <td>882</td>\n",
       "      <td>wsm</td>\n",
       "    </tr>\n",
       "    <tr>\n",
       "      <th>240</th>\n",
       "      <td>Tonga</td>\n",
       "      <td>776</td>\n",
       "      <td>ton</td>\n",
       "    </tr>\n",
       "  </tbody>\n",
       "</table>\n",
       "<p>241 rows × 3 columns</p>\n",
       "</div>"
      ],
      "text/plain": [
       "                               major_area_region_country_or_area country_code  \\\n",
       "0                                                          WORLD          900   \n",
       "1                                         More developed regions          901   \n",
       "2                                         Less developed regions          902   \n",
       "3                                      Least developed countries          941   \n",
       "4    Less developed regions, excluding least developed countries          934   \n",
       "5                        Less developed regions, excluding China          948   \n",
       "6                                          High-income countries         1503   \n",
       "7                                        Middle-income countries         1517   \n",
       "8                                  Upper-middle-income countries         1502   \n",
       "9                                  Lower-middle-income countries         1501   \n",
       "10                                          Low-income countries         1500   \n",
       "11                                            Sub-Saharan Africa          947   \n",
       "12                                                        AFRICA          903   \n",
       "13                                                Eastern Africa          910   \n",
       "14                                                       Burundi          108   \n",
       "..                                                           ...          ...   \n",
       "226                                                  New Zealand          554   \n",
       "227                                                    Melanesia          928   \n",
       "228                                                         Fiji          242   \n",
       "229                                                New Caledonia          540   \n",
       "230                                             Papua New Guinea          598   \n",
       "231                                              Solomon Islands           90   \n",
       "232                                                      Vanuatu          548   \n",
       "233                                                   Micronesia          954   \n",
       "234                                                         Guam          316   \n",
       "235                                                     Kiribati          296   \n",
       "236                                  Micronesia (Fed. States of)          583   \n",
       "237                                                    Polynesia          957   \n",
       "238                                             French Polynesia          258   \n",
       "239                                                        Samoa          882   \n",
       "240                                                        Tonga          776   \n",
       "\n",
       "    in_gw  \n",
       "0     NaN  \n",
       "1     NaN  \n",
       "2     NaN  \n",
       "3     NaN  \n",
       "4     NaN  \n",
       "5     NaN  \n",
       "6     NaN  \n",
       "7     NaN  \n",
       "8     NaN  \n",
       "9     NaN  \n",
       "10    NaN  \n",
       "11    NaN  \n",
       "12    NaN  \n",
       "13    NaN  \n",
       "14    bdi  \n",
       "..    ...  \n",
       "226   nzl  \n",
       "227   NaN  \n",
       "228   fji  \n",
       "229   ncl  \n",
       "230   png  \n",
       "231   slb  \n",
       "232   vut  \n",
       "233   fsm  \n",
       "234   gum  \n",
       "235   kir  \n",
       "236   fsm  \n",
       "237   NaN  \n",
       "238   pyf  \n",
       "239   wsm  \n",
       "240   ton  \n",
       "\n",
       "[241 rows x 3 columns]"
      ]
     },
     "execution_count": 95,
     "metadata": {},
     "output_type": "execute_result"
    }
   ],
   "source": [
    "cpp"
   ]
  },
  {
   "cell_type": "code",
   "execution_count": 101,
   "metadata": {
    "collapsed": false
   },
   "outputs": [],
   "source": [
    "cpp.to_csv('wpp_map.csv')"
   ]
  },
  {
   "cell_type": "code",
   "execution_count": null,
   "metadata": {
    "collapsed": true
   },
   "outputs": [],
   "source": []
  },
  {
   "cell_type": "code",
   "execution_count": 90,
   "metadata": {
    "collapsed": false
   },
   "outputs": [
    {
     "data": {
      "text/html": [
       "<div>\n",
       "<table border=\"1\" class=\"dataframe\">\n",
       "  <thead>\n",
       "    <tr style=\"text-align: right;\">\n",
       "      <th></th>\n",
       "      <th>country</th>\n",
       "      <th>gwid</th>\n",
       "      <th>name</th>\n",
       "      <th>geographic_regions</th>\n",
       "      <th>income_groups</th>\n",
       "      <th>landlocked</th>\n",
       "      <th>g77_and_oecd_countries</th>\n",
       "      <th>geographic_regions_in_4_colors</th>\n",
       "      <th>main_religion_2008</th>\n",
       "      <th>gapminder_list</th>\n",
       "      <th>...</th>\n",
       "      <th>arb1</th>\n",
       "      <th>arb2</th>\n",
       "      <th>arb3</th>\n",
       "      <th>arb4</th>\n",
       "      <th>arb5</th>\n",
       "      <th>arb6</th>\n",
       "      <th>is--country</th>\n",
       "      <th>world_4region</th>\n",
       "      <th>latitude</th>\n",
       "      <th>longitude</th>\n",
       "    </tr>\n",
       "  </thead>\n",
       "  <tbody>\n",
       "    <tr>\n",
       "      <th>165</th>\n",
       "      <td>nzl</td>\n",
       "      <td>i159</td>\n",
       "      <td>New Zealand</td>\n",
       "      <td>east_asia_pacific</td>\n",
       "      <td>high_income</td>\n",
       "      <td>coastline</td>\n",
       "      <td>oecd</td>\n",
       "      <td>asia</td>\n",
       "      <td>christian</td>\n",
       "      <td>New Zealand</td>\n",
       "      <td>...</td>\n",
       "      <td>NaN</td>\n",
       "      <td>NaN</td>\n",
       "      <td>NaN</td>\n",
       "      <td>NaN</td>\n",
       "      <td>NaN</td>\n",
       "      <td>NaN</td>\n",
       "      <td>True</td>\n",
       "      <td>asia</td>\n",
       "      <td>-42.0</td>\n",
       "      <td>174.0</td>\n",
       "    </tr>\n",
       "  </tbody>\n",
       "</table>\n",
       "<p>1 rows × 30 columns</p>\n",
       "</div>"
      ],
      "text/plain": [
       "    country  gwid         name geographic_regions income_groups landlocked  \\\n",
       "165     nzl  i159  New Zealand  east_asia_pacific   high_income  coastline   \n",
       "\n",
       "    g77_and_oecd_countries geographic_regions_in_4_colors main_religion_2008  \\\n",
       "165                   oecd                           asia          christian   \n",
       "\n",
       "    gapminder_list    ...     arb1 arb2 arb3 arb4 arb5 arb6 is--country  \\\n",
       "165    New Zealand    ...      NaN  NaN  NaN  NaN  NaN  NaN        True   \n",
       "\n",
       "    world_4region latitude  longitude  \n",
       "165          asia    -42.0      174.0  \n",
       "\n",
       "[1 rows x 30 columns]"
      ]
     },
     "execution_count": 90,
     "metadata": {},
     "output_type": "execute_result"
    }
   ],
   "source": [
    "cgw[cgw['name'].str.contains('New Zealand')]"
   ]
  },
  {
   "cell_type": "code",
   "execution_count": null,
   "metadata": {
    "collapsed": true
   },
   "outputs": [],
   "source": []
  },
  {
   "cell_type": "code",
   "execution_count": null,
   "metadata": {
    "collapsed": true
   },
   "outputs": [],
   "source": []
  },
  {
   "cell_type": "code",
   "execution_count": 117,
   "metadata": {
    "collapsed": false
   },
   "outputs": [
    {
     "data": {
      "text/html": [
       "<div>\n",
       "<table border=\"1\" class=\"dataframe\">\n",
       "  <thead>\n",
       "    <tr style=\"text-align: right;\">\n",
       "      <th></th>\n",
       "      <th>major_area_region_country_or_area</th>\n",
       "      <th>country_code</th>\n",
       "      <th>in_gw</th>\n",
       "    </tr>\n",
       "  </thead>\n",
       "  <tbody>\n",
       "    <tr>\n",
       "      <th>222</th>\n",
       "      <td>United States of America</td>\n",
       "      <td>840</td>\n",
       "      <td>usa</td>\n",
       "    </tr>\n",
       "  </tbody>\n",
       "</table>\n",
       "</div>"
      ],
      "text/plain": [
       "    major_area_region_country_or_area country_code in_gw\n",
       "222          United States of America          840   usa"
      ]
     },
     "execution_count": 117,
     "metadata": {},
     "output_type": "execute_result"
    }
   ],
   "source": [
    "cpp.query('in_gw == \"usa\"')"
   ]
  },
  {
   "cell_type": "code",
   "execution_count": null,
   "metadata": {
    "collapsed": true
   },
   "outputs": [],
   "source": []
  },
  {
   "cell_type": "code",
   "execution_count": 123,
   "metadata": {
    "collapsed": false,
    "scrolled": true
   },
   "outputs": [
    {
     "data": {
      "text/html": [
       "<div>\n",
       "<table border=\"1\" class=\"dataframe\">\n",
       "  <thead>\n",
       "    <tr style=\"text-align: right;\">\n",
       "      <th></th>\n",
       "      <th>life_expectancy_female</th>\n",
       "      <th>geo</th>\n",
       "      <th>time</th>\n",
       "    </tr>\n",
       "  </thead>\n",
       "  <tbody>\n",
       "    <tr>\n",
       "      <th>28050</th>\n",
       "      <td>71.01</td>\n",
       "      <td>usa</td>\n",
       "      <td>1950</td>\n",
       "    </tr>\n",
       "    <tr>\n",
       "      <th>28051</th>\n",
       "      <td>71.19</td>\n",
       "      <td>usa</td>\n",
       "      <td>1951</td>\n",
       "    </tr>\n",
       "    <tr>\n",
       "      <th>28052</th>\n",
       "      <td>71.55</td>\n",
       "      <td>usa</td>\n",
       "      <td>1952</td>\n",
       "    </tr>\n",
       "    <tr>\n",
       "      <th>28053</th>\n",
       "      <td>71.88</td>\n",
       "      <td>usa</td>\n",
       "      <td>1953</td>\n",
       "    </tr>\n",
       "    <tr>\n",
       "      <th>28054</th>\n",
       "      <td>72.17</td>\n",
       "      <td>usa</td>\n",
       "      <td>1954</td>\n",
       "    </tr>\n",
       "    <tr>\n",
       "      <th>28055</th>\n",
       "      <td>72.44</td>\n",
       "      <td>usa</td>\n",
       "      <td>1955</td>\n",
       "    </tr>\n",
       "    <tr>\n",
       "      <th>28056</th>\n",
       "      <td>72.67</td>\n",
       "      <td>usa</td>\n",
       "      <td>1956</td>\n",
       "    </tr>\n",
       "    <tr>\n",
       "      <th>28057</th>\n",
       "      <td>72.88</td>\n",
       "      <td>usa</td>\n",
       "      <td>1957</td>\n",
       "    </tr>\n",
       "    <tr>\n",
       "      <th>28058</th>\n",
       "      <td>73.05</td>\n",
       "      <td>usa</td>\n",
       "      <td>1958</td>\n",
       "    </tr>\n",
       "    <tr>\n",
       "      <th>28059</th>\n",
       "      <td>73.21</td>\n",
       "      <td>usa</td>\n",
       "      <td>1959</td>\n",
       "    </tr>\n",
       "  </tbody>\n",
       "</table>\n",
       "</div>"
      ],
      "text/plain": [
       "       life_expectancy_female  geo  time\n",
       "28050                   71.01  usa  1950\n",
       "28051                   71.19  usa  1951\n",
       "28052                   71.55  usa  1952\n",
       "28053                   71.88  usa  1953\n",
       "28054                   72.17  usa  1954\n",
       "28055                   72.44  usa  1955\n",
       "28056                   72.67  usa  1956\n",
       "28057                   72.88  usa  1957\n",
       "28058                   73.05  usa  1958\n",
       "28059                   73.21  usa  1959"
      ]
     },
     "execution_count": 123,
     "metadata": {},
     "output_type": "execute_result"
    }
   ],
   "source": [
    "ddf.ddf_datapoint('ddf--gapminder--gapminder_world', k[4]).query('geo == \"usa\" & time > 1949 & time < 1960')"
   ]
  },
  {
   "cell_type": "code",
   "execution_count": 121,
   "metadata": {
    "collapsed": false
   },
   "outputs": [
    {
     "data": {
      "text/html": [
       "<div>\n",
       "<table border=\"1\" class=\"dataframe\">\n",
       "  <thead>\n",
       "    <tr style=\"text-align: right;\">\n",
       "      <th></th>\n",
       "      <th>country_code</th>\n",
       "      <th>reference_date_1_january_31_december</th>\n",
       "      <th>life_expectancy_at_birth_females</th>\n",
       "      <th>variant</th>\n",
       "    </tr>\n",
       "  </thead>\n",
       "  <tbody>\n",
       "    <tr>\n",
       "      <th>14652</th>\n",
       "      <td>840</td>\n",
       "      <td>1950</td>\n",
       "      <td>71.010</td>\n",
       "      <td>Estimates</td>\n",
       "    </tr>\n",
       "    <tr>\n",
       "      <th>14653</th>\n",
       "      <td>840</td>\n",
       "      <td>1951</td>\n",
       "      <td>71.195</td>\n",
       "      <td>Estimates</td>\n",
       "    </tr>\n",
       "    <tr>\n",
       "      <th>14654</th>\n",
       "      <td>840</td>\n",
       "      <td>1952</td>\n",
       "      <td>71.550</td>\n",
       "      <td>Estimates</td>\n",
       "    </tr>\n",
       "    <tr>\n",
       "      <th>14655</th>\n",
       "      <td>840</td>\n",
       "      <td>1953</td>\n",
       "      <td>71.875</td>\n",
       "      <td>Estimates</td>\n",
       "    </tr>\n",
       "    <tr>\n",
       "      <th>14656</th>\n",
       "      <td>840</td>\n",
       "      <td>1954</td>\n",
       "      <td>72.170</td>\n",
       "      <td>Estimates</td>\n",
       "    </tr>\n",
       "    <tr>\n",
       "      <th>14657</th>\n",
       "      <td>840</td>\n",
       "      <td>1955</td>\n",
       "      <td>72.435</td>\n",
       "      <td>Estimates</td>\n",
       "    </tr>\n",
       "    <tr>\n",
       "      <th>14658</th>\n",
       "      <td>840</td>\n",
       "      <td>1956</td>\n",
       "      <td>72.669</td>\n",
       "      <td>Estimates</td>\n",
       "    </tr>\n",
       "    <tr>\n",
       "      <th>14659</th>\n",
       "      <td>840</td>\n",
       "      <td>1957</td>\n",
       "      <td>72.875</td>\n",
       "      <td>Estimates</td>\n",
       "    </tr>\n",
       "    <tr>\n",
       "      <th>14660</th>\n",
       "      <td>840</td>\n",
       "      <td>1958</td>\n",
       "      <td>73.053</td>\n",
       "      <td>Estimates</td>\n",
       "    </tr>\n",
       "    <tr>\n",
       "      <th>14661</th>\n",
       "      <td>840</td>\n",
       "      <td>1959</td>\n",
       "      <td>73.206</td>\n",
       "      <td>Estimates</td>\n",
       "    </tr>\n",
       "  </tbody>\n",
       "</table>\n",
       "</div>"
      ],
      "text/plain": [
       "       country_code  reference_date_1_january_31_december  \\\n",
       "14652           840                                  1950   \n",
       "14653           840                                  1951   \n",
       "14654           840                                  1952   \n",
       "14655           840                                  1953   \n",
       "14656           840                                  1954   \n",
       "14657           840                                  1955   \n",
       "14658           840                                  1956   \n",
       "14659           840                                  1957   \n",
       "14660           840                                  1958   \n",
       "14661           840                                  1959   \n",
       "\n",
       "       life_expectancy_at_birth_females    variant  \n",
       "14652                            71.010  Estimates  \n",
       "14653                            71.195  Estimates  \n",
       "14654                            71.550  Estimates  \n",
       "14655                            71.875  Estimates  \n",
       "14656                            72.170  Estimates  \n",
       "14657                            72.435  Estimates  \n",
       "14658                            72.669  Estimates  \n",
       "14659                            72.875  Estimates  \n",
       "14660                            73.053  Estimates  \n",
       "14661                            73.206  Estimates  "
      ]
     },
     "execution_count": 121,
     "metadata": {},
     "output_type": "execute_result"
    }
   ],
   "source": [
    "ddf.ddf_datapoint('ddf--wpp', v[4]).query('country_code == 840 & reference_date_1_january_31_december < 1960')"
   ]
  },
  {
   "cell_type": "code",
   "execution_count": null,
   "metadata": {
    "collapsed": true
   },
   "outputs": [],
   "source": [
    "ddf.ddf_entities('')"
   ]
  }
 ],
 "metadata": {
  "kernelspec": {
   "display_name": "Python 3",
   "language": "python",
   "name": "python3"
  },
  "language_info": {
   "codemirror_mode": {
    "name": "ipython",
    "version": 3
   },
   "file_extension": ".py",
   "mimetype": "text/x-python",
   "name": "python",
   "nbconvert_exporter": "python",
   "pygments_lexer": "ipython3",
   "version": "3.5.1"
  }
 },
 "nbformat": 4,
 "nbformat_minor": 0
}
