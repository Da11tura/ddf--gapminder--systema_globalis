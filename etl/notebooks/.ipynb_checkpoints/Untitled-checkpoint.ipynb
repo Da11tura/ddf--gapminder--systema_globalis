{
 "cells": [
  {
   "cell_type": "code",
   "execution_count": 1,
   "metadata": {
    "collapsed": false
   },
   "outputs": [
    {
     "name": "stderr",
     "output_type": "stream",
     "text": [
      "/usr/local/lib/python3.5/site-packages/matplotlib/__init__.py:872: UserWarning: axes.color_cycle is deprecated and replaced with axes.prop_cycle; please use the latter.\n",
      "  warnings.warn(self.msg_depr % (key, alt_key))\n"
     ]
    }
   ],
   "source": [
    "import pandas as pd\n",
    "import numpy as np"
   ]
  },
  {
   "cell_type": "code",
   "execution_count": 148,
   "metadata": {
    "collapsed": false
   },
   "outputs": [],
   "source": [
    "pd.set_option('max_rows', 30)\n",
    "pd.set_option('max_colwidth', 70)"
   ]
  },
  {
   "cell_type": "code",
   "execution_count": 2,
   "metadata": {
    "collapsed": true
   },
   "outputs": [],
   "source": [
    "import ddf_utils.ddf_reader as ddf"
   ]
  },
  {
   "cell_type": "code",
   "execution_count": 3,
   "metadata": {
    "collapsed": true
   },
   "outputs": [],
   "source": [
    "mapping = pd.read_csv('./gw_wdi_new.csv')"
   ]
  },
  {
   "cell_type": "code",
   "execution_count": 4,
   "metadata": {
    "collapsed": true
   },
   "outputs": [],
   "source": [
    "ddf.SEARCH_PATH = '/Users/semio/src/work/Gapminder'"
   ]
  },
  {
   "cell_type": "code",
   "execution_count": null,
   "metadata": {
    "collapsed": true
   },
   "outputs": [],
   "source": []
  },
  {
   "cell_type": "code",
   "execution_count": null,
   "metadata": {
    "collapsed": true
   },
   "outputs": [],
   "source": []
  },
  {
   "cell_type": "markdown",
   "metadata": {},
   "source": [
    "# cdiac data set\n",
    "\n",
    "Can't find the link between cdiac dataset and GW dataset."
   ]
  },
  {
   "cell_type": "code",
   "execution_count": 150,
   "metadata": {
    "collapsed": false
   },
   "outputs": [
    {
     "data": {
      "text/html": [
       "<div>\n",
       "<table border=\"1\" class=\"dataframe\">\n",
       "  <thead>\n",
       "    <tr style=\"text-align: right;\">\n",
       "      <th></th>\n",
       "      <th>concept</th>\n",
       "      <th>settings_link</th>\n",
       "      <th>wdi_id</th>\n",
       "      <th>found_in_wdi</th>\n",
       "    </tr>\n",
       "  </thead>\n",
       "  <tbody>\n",
       "    <tr>\n",
       "      <th>40</th>\n",
       "      <td>co2_emissions_tonnes_per_person</td>\n",
       "      <td>http://cdiac.ornl.gov/trends/emis/meth_reg.html</td>\n",
       "      <td>NaN</td>\n",
       "      <td>NaN</td>\n",
       "    </tr>\n",
       "    <tr>\n",
       "      <th>180</th>\n",
       "      <td>cumulative_co2_emissions_tonnes</td>\n",
       "      <td>http://cdiac.ornl.gov/ftp/ndp030/CSV-FILES/</td>\n",
       "      <td>NaN</td>\n",
       "      <td>NaN</td>\n",
       "    </tr>\n",
       "    <tr>\n",
       "      <th>182</th>\n",
       "      <td>yearly_co2_emissions_tonnes</td>\n",
       "      <td>http://cdiac.ornl.gov/trends/emis/meth_reg.html</td>\n",
       "      <td>NaN</td>\n",
       "      <td>NaN</td>\n",
       "    </tr>\n",
       "    <tr>\n",
       "      <th>563</th>\n",
       "      <td>yearly_co2_emissions_1000_tonnes</td>\n",
       "      <td>http://cdiac.ornl.gov/trends/emis/meth_reg.html</td>\n",
       "      <td>NaN</td>\n",
       "      <td>NaN</td>\n",
       "    </tr>\n",
       "  </tbody>\n",
       "</table>\n",
       "</div>"
      ],
      "text/plain": [
       "                              concept  \\\n",
       "40    co2_emissions_tonnes_per_person   \n",
       "180   cumulative_co2_emissions_tonnes   \n",
       "182       yearly_co2_emissions_tonnes   \n",
       "563  yearly_co2_emissions_1000_tonnes   \n",
       "\n",
       "                                       settings_link wdi_id found_in_wdi  \n",
       "40   http://cdiac.ornl.gov/trends/emis/meth_reg.html    NaN          NaN  \n",
       "180      http://cdiac.ornl.gov/ftp/ndp030/CSV-FILES/    NaN          NaN  \n",
       "182  http://cdiac.ornl.gov/trends/emis/meth_reg.html    NaN          NaN  \n",
       "563  http://cdiac.ornl.gov/trends/emis/meth_reg.html    NaN          NaN  "
      ]
     },
     "execution_count": 150,
     "metadata": {},
     "output_type": "execute_result"
    }
   ],
   "source": [
    "# Here are the concepts in GW that have cdiac in the source link\n",
    "\n",
    "filt = mapping['settings_link'].str.contains('cdiac').fillna(False)\n",
    "mapping[filt]"
   ]
  },
  {
   "cell_type": "code",
   "execution_count": 149,
   "metadata": {
    "collapsed": false
   },
   "outputs": [
    {
     "data": {
      "text/html": [
       "<div>\n",
       "<table border=\"1\" class=\"dataframe\">\n",
       "  <thead>\n",
       "    <tr style=\"text-align: right;\">\n",
       "      <th></th>\n",
       "      <th>key</th>\n",
       "      <th>value</th>\n",
       "      <th>file</th>\n",
       "    </tr>\n",
       "  </thead>\n",
       "  <tbody>\n",
       "    <tr>\n",
       "      <th>0</th>\n",
       "      <td>concept</td>\n",
       "      <td>name</td>\n",
       "      <td>ddf--concepts--continuous.csv</td>\n",
       "    </tr>\n",
       "    <tr>\n",
       "      <th>1</th>\n",
       "      <td>concept</td>\n",
       "      <td>concept_type</td>\n",
       "      <td>ddf--concepts--continuous.csv</td>\n",
       "    </tr>\n",
       "    <tr>\n",
       "      <th>2</th>\n",
       "      <td>concept</td>\n",
       "      <td>name</td>\n",
       "      <td>ddf--concepts--discrete.csv</td>\n",
       "    </tr>\n",
       "    <tr>\n",
       "      <th>3</th>\n",
       "      <td>concept</td>\n",
       "      <td>concept_type</td>\n",
       "      <td>ddf--concepts--discrete.csv</td>\n",
       "    </tr>\n",
       "    <tr>\n",
       "      <th>4</th>\n",
       "      <td>global,year</td>\n",
       "      <td>carbon_emissions_from_cement_production</td>\n",
       "      <td>ddf--datapoints--carbon_emissions_from_cement_production--by--glob...</td>\n",
       "    </tr>\n",
       "    <tr>\n",
       "      <th>5</th>\n",
       "      <td>global,year</td>\n",
       "      <td>carbon_emissions_from_gas_flaring</td>\n",
       "      <td>ddf--datapoints--carbon_emissions_from_gas_flaring--by--global--ye...</td>\n",
       "    </tr>\n",
       "    <tr>\n",
       "      <th>6</th>\n",
       "      <td>global,year</td>\n",
       "      <td>carbon_emissions_from_gas_fuel_consumption</td>\n",
       "      <td>ddf--datapoints--carbon_emissions_from_gas_fuel_consumption--by--g...</td>\n",
       "    </tr>\n",
       "    <tr>\n",
       "      <th>7</th>\n",
       "      <td>global,year</td>\n",
       "      <td>carbon_emissions_from_liquid_fuel_consumption</td>\n",
       "      <td>ddf--datapoints--carbon_emissions_from_liquid_fuel_consumption--by...</td>\n",
       "    </tr>\n",
       "    <tr>\n",
       "      <th>8</th>\n",
       "      <td>global,year</td>\n",
       "      <td>carbon_emissions_from_solid_fuel_consumption</td>\n",
       "      <td>ddf--datapoints--carbon_emissions_from_solid_fuel_consumption--by-...</td>\n",
       "    </tr>\n",
       "    <tr>\n",
       "      <th>9</th>\n",
       "      <td>nation,year</td>\n",
       "      <td>emissions_from_bunker_fuels_not_included_in_the_totals</td>\n",
       "      <td>ddf--datapoints--emissions_from_bunker_fuels_not_included_in_the_t...</td>\n",
       "    </tr>\n",
       "    <tr>\n",
       "      <th>10</th>\n",
       "      <td>nation,year</td>\n",
       "      <td>emissions_from_cement_production</td>\n",
       "      <td>ddf--datapoints--emissions_from_cement_production--by--nation--yea...</td>\n",
       "    </tr>\n",
       "    <tr>\n",
       "      <th>11</th>\n",
       "      <td>nation,year</td>\n",
       "      <td>emissions_from_gas_flaring</td>\n",
       "      <td>ddf--datapoints--emissions_from_gas_flaring--by--nation--year.csv</td>\n",
       "    </tr>\n",
       "    <tr>\n",
       "      <th>12</th>\n",
       "      <td>nation,year</td>\n",
       "      <td>emissions_from_gas_fuel_consumption</td>\n",
       "      <td>ddf--datapoints--emissions_from_gas_fuel_consumption--by--nation--...</td>\n",
       "    </tr>\n",
       "    <tr>\n",
       "      <th>13</th>\n",
       "      <td>nation,year</td>\n",
       "      <td>emissions_from_liquid_fuel_consumption</td>\n",
       "      <td>ddf--datapoints--emissions_from_liquid_fuel_consumption--by--natio...</td>\n",
       "    </tr>\n",
       "    <tr>\n",
       "      <th>14</th>\n",
       "      <td>nation,year</td>\n",
       "      <td>emissions_from_solid_fuel_consumption</td>\n",
       "      <td>ddf--datapoints--emissions_from_solid_fuel_consumption--by--nation...</td>\n",
       "    </tr>\n",
       "    <tr>\n",
       "      <th>15</th>\n",
       "      <td>global,year</td>\n",
       "      <td>per_capita_carbon_emissions_metric_tons_of_carbon_after_1949_only</td>\n",
       "      <td>ddf--datapoints--per_capita_carbon_emissions_metric_tons_of_carbon...</td>\n",
       "    </tr>\n",
       "    <tr>\n",
       "      <th>16</th>\n",
       "      <td>nation,year</td>\n",
       "      <td>per_capita_co2_emissions_metric_tons_of_carbon</td>\n",
       "      <td>ddf--datapoints--per_capita_co2_emissions_metric_tons_of_carbon--b...</td>\n",
       "    </tr>\n",
       "    <tr>\n",
       "      <th>17</th>\n",
       "      <td>global,year</td>\n",
       "      <td>total_carbon_emissions_from_fossil_fuel_consumption_and_cement_pro...</td>\n",
       "      <td>ddf--datapoints--total_carbon_emissions_from_fossil_fuel_consumpti...</td>\n",
       "    </tr>\n",
       "    <tr>\n",
       "      <th>18</th>\n",
       "      <td>global,year</td>\n",
       "      <td>total_carbon_emissions_from_fossil_fuels_million_metric_tons_of_c</td>\n",
       "      <td>ddf--datapoints--total_carbon_emissions_from_fossil_fuels_million_...</td>\n",
       "    </tr>\n",
       "    <tr>\n",
       "      <th>19</th>\n",
       "      <td>nation,year</td>\n",
       "      <td>total_co2_emissions_from_fossil_fuels_and_cement_production_thousa...</td>\n",
       "      <td>ddf--datapoints--total_co2_emissions_from_fossil_fuels_and_cement_...</td>\n",
       "    </tr>\n",
       "    <tr>\n",
       "      <th>20</th>\n",
       "      <td>nation,year</td>\n",
       "      <td>total_co2_emissions_from_fossil_fuels_thousand_metric_tons_of_c</td>\n",
       "      <td>ddf--datapoints--total_co2_emissions_from_fossil_fuels_thousand_me...</td>\n",
       "    </tr>\n",
       "  </tbody>\n",
       "</table>\n",
       "</div>"
      ],
      "text/plain": [
       "            key  \\\n",
       "0       concept   \n",
       "1       concept   \n",
       "2       concept   \n",
       "3       concept   \n",
       "4   global,year   \n",
       "5   global,year   \n",
       "6   global,year   \n",
       "7   global,year   \n",
       "8   global,year   \n",
       "9   nation,year   \n",
       "10  nation,year   \n",
       "11  nation,year   \n",
       "12  nation,year   \n",
       "13  nation,year   \n",
       "14  nation,year   \n",
       "15  global,year   \n",
       "16  nation,year   \n",
       "17  global,year   \n",
       "18  global,year   \n",
       "19  nation,year   \n",
       "20  nation,year   \n",
       "\n",
       "                                                                    value  \\\n",
       "0                                                                    name   \n",
       "1                                                            concept_type   \n",
       "2                                                                    name   \n",
       "3                                                            concept_type   \n",
       "4                                 carbon_emissions_from_cement_production   \n",
       "5                                       carbon_emissions_from_gas_flaring   \n",
       "6                              carbon_emissions_from_gas_fuel_consumption   \n",
       "7                           carbon_emissions_from_liquid_fuel_consumption   \n",
       "8                            carbon_emissions_from_solid_fuel_consumption   \n",
       "9                  emissions_from_bunker_fuels_not_included_in_the_totals   \n",
       "10                                       emissions_from_cement_production   \n",
       "11                                             emissions_from_gas_flaring   \n",
       "12                                    emissions_from_gas_fuel_consumption   \n",
       "13                                 emissions_from_liquid_fuel_consumption   \n",
       "14                                  emissions_from_solid_fuel_consumption   \n",
       "15      per_capita_carbon_emissions_metric_tons_of_carbon_after_1949_only   \n",
       "16                         per_capita_co2_emissions_metric_tons_of_carbon   \n",
       "17  total_carbon_emissions_from_fossil_fuel_consumption_and_cement_pro...   \n",
       "18      total_carbon_emissions_from_fossil_fuels_million_metric_tons_of_c   \n",
       "19  total_co2_emissions_from_fossil_fuels_and_cement_production_thousa...   \n",
       "20        total_co2_emissions_from_fossil_fuels_thousand_metric_tons_of_c   \n",
       "\n",
       "                                                                     file  \n",
       "0                                           ddf--concepts--continuous.csv  \n",
       "1                                           ddf--concepts--continuous.csv  \n",
       "2                                             ddf--concepts--discrete.csv  \n",
       "3                                             ddf--concepts--discrete.csv  \n",
       "4   ddf--datapoints--carbon_emissions_from_cement_production--by--glob...  \n",
       "5   ddf--datapoints--carbon_emissions_from_gas_flaring--by--global--ye...  \n",
       "6   ddf--datapoints--carbon_emissions_from_gas_fuel_consumption--by--g...  \n",
       "7   ddf--datapoints--carbon_emissions_from_liquid_fuel_consumption--by...  \n",
       "8   ddf--datapoints--carbon_emissions_from_solid_fuel_consumption--by-...  \n",
       "9   ddf--datapoints--emissions_from_bunker_fuels_not_included_in_the_t...  \n",
       "10  ddf--datapoints--emissions_from_cement_production--by--nation--yea...  \n",
       "11      ddf--datapoints--emissions_from_gas_flaring--by--nation--year.csv  \n",
       "12  ddf--datapoints--emissions_from_gas_fuel_consumption--by--nation--...  \n",
       "13  ddf--datapoints--emissions_from_liquid_fuel_consumption--by--natio...  \n",
       "14  ddf--datapoints--emissions_from_solid_fuel_consumption--by--nation...  \n",
       "15  ddf--datapoints--per_capita_carbon_emissions_metric_tons_of_carbon...  \n",
       "16  ddf--datapoints--per_capita_co2_emissions_metric_tons_of_carbon--b...  \n",
       "17  ddf--datapoints--total_carbon_emissions_from_fossil_fuel_consumpti...  \n",
       "18  ddf--datapoints--total_carbon_emissions_from_fossil_fuels_million_...  \n",
       "19  ddf--datapoints--total_co2_emissions_from_fossil_fuels_and_cement_...  \n",
       "20  ddf--datapoints--total_co2_emissions_from_fossil_fuels_thousand_me...  "
      ]
     },
     "execution_count": 149,
     "metadata": {},
     "output_type": "execute_result"
    }
   ],
   "source": [
    "ddf._get_index('ddf--cdiac-co2')  # the index for cdiac"
   ]
  },
  {
   "cell_type": "code",
   "execution_count": 7,
   "metadata": {
    "collapsed": true
   },
   "outputs": [],
   "source": []
  },
  {
   "cell_type": "markdown",
   "metadata": {},
   "source": [
    "## co2_emissions_tonnes_per_person"
   ]
  },
  {
   "cell_type": "code",
   "execution_count": 155,
   "metadata": {
    "collapsed": false
   },
   "outputs": [
    {
     "data": {
      "text/html": [
       "<div>\n",
       "<table border=\"1\" class=\"dataframe\">\n",
       "  <thead>\n",
       "    <tr style=\"text-align: right;\">\n",
       "      <th></th>\n",
       "      <th>geo</th>\n",
       "      <th>co2_emissions_tonnes_per_person</th>\n",
       "      <th>time</th>\n",
       "    </tr>\n",
       "  </thead>\n",
       "  <tbody>\n",
       "    <tr>\n",
       "      <th>0</th>\n",
       "      <td>afg</td>\n",
       "      <td>0.001816</td>\n",
       "      <td>1949</td>\n",
       "    </tr>\n",
       "    <tr>\n",
       "      <th>1</th>\n",
       "      <td>afg</td>\n",
       "      <td>0.010350</td>\n",
       "      <td>1950</td>\n",
       "    </tr>\n",
       "    <tr>\n",
       "      <th>2</th>\n",
       "      <td>afg</td>\n",
       "      <td>0.011080</td>\n",
       "      <td>1951</td>\n",
       "    </tr>\n",
       "    <tr>\n",
       "      <th>3</th>\n",
       "      <td>afg</td>\n",
       "      <td>0.010900</td>\n",
       "      <td>1952</td>\n",
       "    </tr>\n",
       "    <tr>\n",
       "      <th>4</th>\n",
       "      <td>afg</td>\n",
       "      <td>0.012450</td>\n",
       "      <td>1953</td>\n",
       "    </tr>\n",
       "    <tr>\n",
       "      <th>5</th>\n",
       "      <td>afg</td>\n",
       "      <td>0.012240</td>\n",
       "      <td>1954</td>\n",
       "    </tr>\n",
       "    <tr>\n",
       "      <th>6</th>\n",
       "      <td>afg</td>\n",
       "      <td>0.017440</td>\n",
       "      <td>1955</td>\n",
       "    </tr>\n",
       "    <tr>\n",
       "      <th>7</th>\n",
       "      <td>afg</td>\n",
       "      <td>0.020400</td>\n",
       "      <td>1956</td>\n",
       "    </tr>\n",
       "    <tr>\n",
       "      <th>8</th>\n",
       "      <td>afg</td>\n",
       "      <td>0.032070</td>\n",
       "      <td>1957</td>\n",
       "    </tr>\n",
       "    <tr>\n",
       "      <th>9</th>\n",
       "      <td>afg</td>\n",
       "      <td>0.035430</td>\n",
       "      <td>1958</td>\n",
       "    </tr>\n",
       "    <tr>\n",
       "      <th>10</th>\n",
       "      <td>afg</td>\n",
       "      <td>0.040570</td>\n",
       "      <td>1959</td>\n",
       "    </tr>\n",
       "  </tbody>\n",
       "</table>\n",
       "</div>"
      ],
      "text/plain": [
       "    geo  co2_emissions_tonnes_per_person  time\n",
       "0   afg                         0.001816  1949\n",
       "1   afg                         0.010350  1950\n",
       "2   afg                         0.011080  1951\n",
       "3   afg                         0.010900  1952\n",
       "4   afg                         0.012450  1953\n",
       "5   afg                         0.012240  1954\n",
       "6   afg                         0.017440  1955\n",
       "7   afg                         0.020400  1956\n",
       "8   afg                         0.032070  1957\n",
       "9   afg                         0.035430  1958\n",
       "10  afg                         0.040570  1959"
      ]
     },
     "execution_count": 155,
     "metadata": {},
     "output_type": "execute_result"
    }
   ],
   "source": [
    "# check some of the data from GW\n",
    "\n",
    "ddf.ddf_datapoint('ddf--gapminder--gapminder_world', 'co2_emissions_tonnes_per_person').query(\n",
    "    'geo == \"afg\" & time < 1960')"
   ]
  },
  {
   "cell_type": "code",
   "execution_count": 160,
   "metadata": {
    "collapsed": false
   },
   "outputs": [
    {
     "data": {
      "text/html": [
       "<div>\n",
       "<table border=\"1\" class=\"dataframe\">\n",
       "  <thead>\n",
       "    <tr style=\"text-align: right;\">\n",
       "      <th></th>\n",
       "      <th>nation</th>\n",
       "      <th>year</th>\n",
       "      <th>version</th>\n",
       "      <th>per_capita_co2_emissions_metric_tons_of_carbon</th>\n",
       "    </tr>\n",
       "  </thead>\n",
       "  <tbody>\n",
       "    <tr>\n",
       "      <th>33689</th>\n",
       "      <td>AFGHANISTAN</td>\n",
       "      <td>1950</td>\n",
       "      <td>1751_2011</td>\n",
       "      <td>0.00</td>\n",
       "    </tr>\n",
       "    <tr>\n",
       "      <th>33690</th>\n",
       "      <td>AFGHANISTAN</td>\n",
       "      <td>1951</td>\n",
       "      <td>1751_2011</td>\n",
       "      <td>0.00</td>\n",
       "    </tr>\n",
       "    <tr>\n",
       "      <th>33691</th>\n",
       "      <td>AFGHANISTAN</td>\n",
       "      <td>1952</td>\n",
       "      <td>1751_2011</td>\n",
       "      <td>0.00</td>\n",
       "    </tr>\n",
       "    <tr>\n",
       "      <th>33692</th>\n",
       "      <td>AFGHANISTAN</td>\n",
       "      <td>1953</td>\n",
       "      <td>1751_2011</td>\n",
       "      <td>0.00</td>\n",
       "    </tr>\n",
       "    <tr>\n",
       "      <th>33693</th>\n",
       "      <td>AFGHANISTAN</td>\n",
       "      <td>1954</td>\n",
       "      <td>1751_2011</td>\n",
       "      <td>0.00</td>\n",
       "    </tr>\n",
       "    <tr>\n",
       "      <th>33694</th>\n",
       "      <td>AFGHANISTAN</td>\n",
       "      <td>1955</td>\n",
       "      <td>1751_2011</td>\n",
       "      <td>0.00</td>\n",
       "    </tr>\n",
       "    <tr>\n",
       "      <th>33695</th>\n",
       "      <td>AFGHANISTAN</td>\n",
       "      <td>1956</td>\n",
       "      <td>1751_2011</td>\n",
       "      <td>0.01</td>\n",
       "    </tr>\n",
       "    <tr>\n",
       "      <th>33696</th>\n",
       "      <td>AFGHANISTAN</td>\n",
       "      <td>1957</td>\n",
       "      <td>1751_2011</td>\n",
       "      <td>0.01</td>\n",
       "    </tr>\n",
       "    <tr>\n",
       "      <th>33697</th>\n",
       "      <td>AFGHANISTAN</td>\n",
       "      <td>1958</td>\n",
       "      <td>1751_2011</td>\n",
       "      <td>0.01</td>\n",
       "    </tr>\n",
       "    <tr>\n",
       "      <th>33698</th>\n",
       "      <td>AFGHANISTAN</td>\n",
       "      <td>1959</td>\n",
       "      <td>1751_2011</td>\n",
       "      <td>0.01</td>\n",
       "    </tr>\n",
       "  </tbody>\n",
       "</table>\n",
       "</div>"
      ],
      "text/plain": [
       "            nation  year    version  \\\n",
       "33689  AFGHANISTAN  1950  1751_2011   \n",
       "33690  AFGHANISTAN  1951  1751_2011   \n",
       "33691  AFGHANISTAN  1952  1751_2011   \n",
       "33692  AFGHANISTAN  1953  1751_2011   \n",
       "33693  AFGHANISTAN  1954  1751_2011   \n",
       "33694  AFGHANISTAN  1955  1751_2011   \n",
       "33695  AFGHANISTAN  1956  1751_2011   \n",
       "33696  AFGHANISTAN  1957  1751_2011   \n",
       "33697  AFGHANISTAN  1958  1751_2011   \n",
       "33698  AFGHANISTAN  1959  1751_2011   \n",
       "\n",
       "       per_capita_co2_emissions_metric_tons_of_carbon  \n",
       "33689                                            0.00  \n",
       "33690                                            0.00  \n",
       "33691                                            0.00  \n",
       "33692                                            0.00  \n",
       "33693                                            0.00  \n",
       "33694                                            0.00  \n",
       "33695                                            0.01  \n",
       "33696                                            0.01  \n",
       "33697                                            0.01  \n",
       "33698                                            0.01  "
      ]
     },
     "execution_count": 160,
     "metadata": {},
     "output_type": "execute_result"
    }
   ],
   "source": [
    "# The most likely related one is per_capita_co2_emissions_metric_tons_of_carbon\n",
    "# but it seems they are different.\n",
    "\n",
    "ddf.ddf_datapoint('ddf--cdiac-co2', 'per_capita_co2_emissions_metric_tons_of_carbon').query(\n",
    "    'nation == \"AFGHANISTAN\" & year < 1960 & version == \"1751_2011\"')"
   ]
  },
  {
   "cell_type": "code",
   "execution_count": null,
   "metadata": {
    "collapsed": true
   },
   "outputs": [],
   "source": []
  },
  {
   "cell_type": "markdown",
   "metadata": {},
   "source": [
    "## yearly_co2_emissions_tonnes"
   ]
  },
  {
   "cell_type": "code",
   "execution_count": 166,
   "metadata": {
    "collapsed": false
   },
   "outputs": [
    {
     "data": {
      "text/html": [
       "<div>\n",
       "<table border=\"1\" class=\"dataframe\">\n",
       "  <thead>\n",
       "    <tr style=\"text-align: right;\">\n",
       "      <th></th>\n",
       "      <th>geo</th>\n",
       "      <th>yearly_co2_emissions_tonnes</th>\n",
       "      <th>time</th>\n",
       "    </tr>\n",
       "  </thead>\n",
       "  <tbody>\n",
       "    <tr>\n",
       "      <th>0</th>\n",
       "      <td>afg</td>\n",
       "      <td>14.67</td>\n",
       "      <td>1949</td>\n",
       "    </tr>\n",
       "    <tr>\n",
       "      <th>1</th>\n",
       "      <td>afg</td>\n",
       "      <td>84.33</td>\n",
       "      <td>1950</td>\n",
       "    </tr>\n",
       "    <tr>\n",
       "      <th>2</th>\n",
       "      <td>afg</td>\n",
       "      <td>91.67</td>\n",
       "      <td>1951</td>\n",
       "    </tr>\n",
       "    <tr>\n",
       "      <th>3</th>\n",
       "      <td>afg</td>\n",
       "      <td>91.67</td>\n",
       "      <td>1952</td>\n",
       "    </tr>\n",
       "    <tr>\n",
       "      <th>4</th>\n",
       "      <td>afg</td>\n",
       "      <td>106.30</td>\n",
       "      <td>1953</td>\n",
       "    </tr>\n",
       "    <tr>\n",
       "      <th>5</th>\n",
       "      <td>afg</td>\n",
       "      <td>106.30</td>\n",
       "      <td>1954</td>\n",
       "    </tr>\n",
       "    <tr>\n",
       "      <th>6</th>\n",
       "      <td>afg</td>\n",
       "      <td>154.00</td>\n",
       "      <td>1955</td>\n",
       "    </tr>\n",
       "    <tr>\n",
       "      <th>7</th>\n",
       "      <td>afg</td>\n",
       "      <td>183.30</td>\n",
       "      <td>1956</td>\n",
       "    </tr>\n",
       "    <tr>\n",
       "      <th>8</th>\n",
       "      <td>afg</td>\n",
       "      <td>293.30</td>\n",
       "      <td>1957</td>\n",
       "    </tr>\n",
       "    <tr>\n",
       "      <th>9</th>\n",
       "      <td>afg</td>\n",
       "      <td>330.00</td>\n",
       "      <td>1958</td>\n",
       "    </tr>\n",
       "    <tr>\n",
       "      <th>10</th>\n",
       "      <td>afg</td>\n",
       "      <td>385.00</td>\n",
       "      <td>1959</td>\n",
       "    </tr>\n",
       "  </tbody>\n",
       "</table>\n",
       "</div>"
      ],
      "text/plain": [
       "    geo  yearly_co2_emissions_tonnes  time\n",
       "0   afg                        14.67  1949\n",
       "1   afg                        84.33  1950\n",
       "2   afg                        91.67  1951\n",
       "3   afg                        91.67  1952\n",
       "4   afg                       106.30  1953\n",
       "5   afg                       106.30  1954\n",
       "6   afg                       154.00  1955\n",
       "7   afg                       183.30  1956\n",
       "8   afg                       293.30  1957\n",
       "9   afg                       330.00  1958\n",
       "10  afg                       385.00  1959"
      ]
     },
     "execution_count": 166,
     "metadata": {},
     "output_type": "execute_result"
    }
   ],
   "source": [
    "# check some of the data from GW\n",
    "\n",
    "ddf.ddf_datapoint('ddf--gapminder--gapminder_world', 'yearly_co2_emissions_tonnes').query(\n",
    "    'geo == \"afg\" & time < 1960')"
   ]
  },
  {
   "cell_type": "code",
   "execution_count": 164,
   "metadata": {
    "collapsed": false
   },
   "outputs": [
    {
     "data": {
      "text/html": [
       "<div>\n",
       "<table border=\"1\" class=\"dataframe\">\n",
       "  <thead>\n",
       "    <tr style=\"text-align: right;\">\n",
       "      <th></th>\n",
       "      <th>nation</th>\n",
       "      <th>year</th>\n",
       "      <th>version</th>\n",
       "      <th>total_co2_emissions_from_fossil_fuels_thousand_metric_tons_of_c</th>\n",
       "    </tr>\n",
       "  </thead>\n",
       "  <tbody>\n",
       "    <tr>\n",
       "      <th>15916</th>\n",
       "      <td>AFGHANISTAN</td>\n",
       "      <td>1949</td>\n",
       "      <td>1751_2009</td>\n",
       "      <td>4.0</td>\n",
       "    </tr>\n",
       "    <tr>\n",
       "      <th>15917</th>\n",
       "      <td>AFGHANISTAN</td>\n",
       "      <td>1950</td>\n",
       "      <td>1751_2009</td>\n",
       "      <td>23.0</td>\n",
       "    </tr>\n",
       "    <tr>\n",
       "      <th>15918</th>\n",
       "      <td>AFGHANISTAN</td>\n",
       "      <td>1951</td>\n",
       "      <td>1751_2009</td>\n",
       "      <td>25.0</td>\n",
       "    </tr>\n",
       "    <tr>\n",
       "      <th>15919</th>\n",
       "      <td>AFGHANISTAN</td>\n",
       "      <td>1952</td>\n",
       "      <td>1751_2009</td>\n",
       "      <td>25.0</td>\n",
       "    </tr>\n",
       "    <tr>\n",
       "      <th>15920</th>\n",
       "      <td>AFGHANISTAN</td>\n",
       "      <td>1953</td>\n",
       "      <td>1751_2009</td>\n",
       "      <td>29.0</td>\n",
       "    </tr>\n",
       "    <tr>\n",
       "      <th>15921</th>\n",
       "      <td>AFGHANISTAN</td>\n",
       "      <td>1954</td>\n",
       "      <td>1751_2009</td>\n",
       "      <td>29.0</td>\n",
       "    </tr>\n",
       "    <tr>\n",
       "      <th>15922</th>\n",
       "      <td>AFGHANISTAN</td>\n",
       "      <td>1955</td>\n",
       "      <td>1751_2009</td>\n",
       "      <td>42.0</td>\n",
       "    </tr>\n",
       "    <tr>\n",
       "      <th>15923</th>\n",
       "      <td>AFGHANISTAN</td>\n",
       "      <td>1956</td>\n",
       "      <td>1751_2009</td>\n",
       "      <td>50.0</td>\n",
       "    </tr>\n",
       "    <tr>\n",
       "      <th>15924</th>\n",
       "      <td>AFGHANISTAN</td>\n",
       "      <td>1957</td>\n",
       "      <td>1751_2009</td>\n",
       "      <td>80.0</td>\n",
       "    </tr>\n",
       "    <tr>\n",
       "      <th>15925</th>\n",
       "      <td>AFGHANISTAN</td>\n",
       "      <td>1958</td>\n",
       "      <td>1751_2009</td>\n",
       "      <td>90.0</td>\n",
       "    </tr>\n",
       "    <tr>\n",
       "      <th>15926</th>\n",
       "      <td>AFGHANISTAN</td>\n",
       "      <td>1959</td>\n",
       "      <td>1751_2009</td>\n",
       "      <td>105.0</td>\n",
       "    </tr>\n",
       "  </tbody>\n",
       "</table>\n",
       "</div>"
      ],
      "text/plain": [
       "            nation  year    version  \\\n",
       "15916  AFGHANISTAN  1949  1751_2009   \n",
       "15917  AFGHANISTAN  1950  1751_2009   \n",
       "15918  AFGHANISTAN  1951  1751_2009   \n",
       "15919  AFGHANISTAN  1952  1751_2009   \n",
       "15920  AFGHANISTAN  1953  1751_2009   \n",
       "15921  AFGHANISTAN  1954  1751_2009   \n",
       "15922  AFGHANISTAN  1955  1751_2009   \n",
       "15923  AFGHANISTAN  1956  1751_2009   \n",
       "15924  AFGHANISTAN  1957  1751_2009   \n",
       "15925  AFGHANISTAN  1958  1751_2009   \n",
       "15926  AFGHANISTAN  1959  1751_2009   \n",
       "\n",
       "       total_co2_emissions_from_fossil_fuels_thousand_metric_tons_of_c  \n",
       "15916                                                              4.0  \n",
       "15917                                                             23.0  \n",
       "15918                                                             25.0  \n",
       "15919                                                             25.0  \n",
       "15920                                                             29.0  \n",
       "15921                                                             29.0  \n",
       "15922                                                             42.0  \n",
       "15923                                                             50.0  \n",
       "15924                                                             80.0  \n",
       "15925                                                             90.0  \n",
       "15926                                                            105.0  "
      ]
     },
     "execution_count": 164,
     "metadata": {},
     "output_type": "execute_result"
    }
   ],
   "source": [
    "# The most likely related one is total_co2_emissions_from_fossil_fuels_thousand_metric_tons_of_c\n",
    "\n",
    "ddf.ddf_datapoint('ddf--cdiac-co2', 'total_co2_emissions_from_fossil_fuels_thousand_metric_tons_of_c').query(\n",
    "    'nation == \"AFGHANISTAN\" & year < 1960 & version == \"1751_2009\"')"
   ]
  },
  {
   "cell_type": "code",
   "execution_count": null,
   "metadata": {
    "collapsed": true
   },
   "outputs": [],
   "source": []
  },
  {
   "cell_type": "markdown",
   "metadata": {},
   "source": [
    "NOTE: The `cumulative_co2_emissions_tonnes` in GW is cumulated sum of `yearly_co2_emissions_tonnes`."
   ]
  },
  {
   "cell_type": "code",
   "execution_count": null,
   "metadata": {
    "collapsed": true
   },
   "outputs": [],
   "source": []
  },
  {
   "cell_type": "code",
   "execution_count": null,
   "metadata": {
    "collapsed": true
   },
   "outputs": [],
   "source": []
  },
  {
   "cell_type": "code",
   "execution_count": null,
   "metadata": {
    "collapsed": true
   },
   "outputs": [],
   "source": []
  },
  {
   "cell_type": "markdown",
   "metadata": {},
   "source": [
    "# IHME Life expectancy\n",
    "\n",
    "problems:\n",
    "\n",
    "1. there are 3 life expectancy data in GW. All of 3 have same data except that the `life_expectancy_at_birth_data_from_ihme` begins from 1990 while others two begin from 1970.\n",
    "2. Country Code in lhme data set is a bit difference from the one in GW, for example `afg` means Afghanistan in GW, but Bhutan in ihme"
   ]
  },
  {
   "cell_type": "code",
   "execution_count": 167,
   "metadata": {
    "collapsed": false
   },
   "outputs": [],
   "source": [
    "filt2 = mapping['concept'].str.contains('life_expectancy').fillna(False)"
   ]
  },
  {
   "cell_type": "code",
   "execution_count": 168,
   "metadata": {
    "collapsed": false
   },
   "outputs": [
    {
     "data": {
      "text/html": [
       "<div>\n",
       "<table border=\"1\" class=\"dataframe\">\n",
       "  <thead>\n",
       "    <tr style=\"text-align: right;\">\n",
       "      <th></th>\n",
       "      <th>concept</th>\n",
       "      <th>settings_link</th>\n",
       "      <th>wdi_id</th>\n",
       "      <th>found_in_wdi</th>\n",
       "    </tr>\n",
       "  </thead>\n",
       "  <tbody>\n",
       "    <tr>\n",
       "      <th>43</th>\n",
       "      <td>life_expectancy_years</td>\n",
       "      <td>http://spreadsheets.google.com/pub?key=phAwcNAVuyj2tPLxKvvnNPA&amp;gid=1</td>\n",
       "      <td>NaN</td>\n",
       "      <td>NaN</td>\n",
       "    </tr>\n",
       "    <tr>\n",
       "      <th>488</th>\n",
       "      <td>data_quality_life_expectancy</td>\n",
       "      <td>http://www.gapminder.org/data/documentation/gd004/</td>\n",
       "      <td>NaN</td>\n",
       "      <td>NaN</td>\n",
       "    </tr>\n",
       "    <tr>\n",
       "      <th>496</th>\n",
       "      <td>life_expectancy_at_birth_with_projections</td>\n",
       "      <td>http://spreadsheets.google.com/pub?key=phAwcNAVuyj2tPLxKvvnNPA&amp;gid=1</td>\n",
       "      <td>NaN</td>\n",
       "      <td>NaN</td>\n",
       "    </tr>\n",
       "    <tr>\n",
       "      <th>556</th>\n",
       "      <td>life_expectancy_at_birth_data_from_ihme</td>\n",
       "      <td>http://spreadsheets.google.com/pub?key=phAwcNAVuyj2tPLxKvvnNPA&amp;gid=1</td>\n",
       "      <td>NaN</td>\n",
       "      <td>NaN</td>\n",
       "    </tr>\n",
       "    <tr>\n",
       "      <th>559</th>\n",
       "      <td>life_expectancy_male</td>\n",
       "      <td>http://esa.un.org/unpd/wpp/Excel-Data/Interpolated.htm</td>\n",
       "      <td>NaN</td>\n",
       "      <td>NaN</td>\n",
       "    </tr>\n",
       "    <tr>\n",
       "      <th>560</th>\n",
       "      <td>life_expectancy_female</td>\n",
       "      <td>http://esa.un.org/unpd/wpp/Excel-Data/Interpolated.htm</td>\n",
       "      <td>NaN</td>\n",
       "      <td>NaN</td>\n",
       "    </tr>\n",
       "  </tbody>\n",
       "</table>\n",
       "</div>"
      ],
      "text/plain": [
       "                                       concept  \\\n",
       "43                       life_expectancy_years   \n",
       "488               data_quality_life_expectancy   \n",
       "496  life_expectancy_at_birth_with_projections   \n",
       "556    life_expectancy_at_birth_data_from_ihme   \n",
       "559                       life_expectancy_male   \n",
       "560                     life_expectancy_female   \n",
       "\n",
       "                                                            settings_link  \\\n",
       "43   http://spreadsheets.google.com/pub?key=phAwcNAVuyj2tPLxKvvnNPA&gid=1   \n",
       "488                    http://www.gapminder.org/data/documentation/gd004/   \n",
       "496  http://spreadsheets.google.com/pub?key=phAwcNAVuyj2tPLxKvvnNPA&gid=1   \n",
       "556  http://spreadsheets.google.com/pub?key=phAwcNAVuyj2tPLxKvvnNPA&gid=1   \n",
       "559                http://esa.un.org/unpd/wpp/Excel-Data/Interpolated.htm   \n",
       "560                http://esa.un.org/unpd/wpp/Excel-Data/Interpolated.htm   \n",
       "\n",
       "    wdi_id found_in_wdi  \n",
       "43     NaN          NaN  \n",
       "488    NaN          NaN  \n",
       "496    NaN          NaN  \n",
       "556    NaN          NaN  \n",
       "559    NaN          NaN  \n",
       "560    NaN          NaN  "
      ]
     },
     "execution_count": 168,
     "metadata": {},
     "output_type": "execute_result"
    }
   ],
   "source": [
    "mapping[filt2]  # notice that 3 of the source links are the same one."
   ]
  },
  {
   "cell_type": "code",
   "execution_count": 191,
   "metadata": {
    "collapsed": false
   },
   "outputs": [
    {
     "data": {
      "text/html": [
       "<div>\n",
       "<table border=\"1\" class=\"dataframe\">\n",
       "  <thead>\n",
       "    <tr style=\"text-align: right;\">\n",
       "      <th></th>\n",
       "      <th>geo</th>\n",
       "      <th>life_expectancy_years</th>\n",
       "      <th>time</th>\n",
       "    </tr>\n",
       "  </thead>\n",
       "  <tbody>\n",
       "    <tr>\n",
       "      <th>170</th>\n",
       "      <td>afg</td>\n",
       "      <td>41.8</td>\n",
       "      <td>1970</td>\n",
       "    </tr>\n",
       "    <tr>\n",
       "      <th>386</th>\n",
       "      <td>alb</td>\n",
       "      <td>66.7</td>\n",
       "      <td>1970</td>\n",
       "    </tr>\n",
       "    <tr>\n",
       "      <th>602</th>\n",
       "      <td>dza</td>\n",
       "      <td>56.6</td>\n",
       "      <td>1970</td>\n",
       "    </tr>\n",
       "    <tr>\n",
       "      <th>648</th>\n",
       "      <td>and</td>\n",
       "      <td>77.5</td>\n",
       "      <td>1970</td>\n",
       "    </tr>\n",
       "    <tr>\n",
       "      <th>864</th>\n",
       "      <td>ago</td>\n",
       "      <td>47.7</td>\n",
       "      <td>1970</td>\n",
       "    </tr>\n",
       "  </tbody>\n",
       "</table>\n",
       "</div>"
      ],
      "text/plain": [
       "     geo  life_expectancy_years  time\n",
       "170  afg                   41.8  1970\n",
       "386  alb                   66.7  1970\n",
       "602  dza                   56.6  1970\n",
       "648  and                   77.5  1970\n",
       "864  ago                   47.7  1970"
      ]
     },
     "execution_count": 191,
     "metadata": {},
     "output_type": "execute_result"
    }
   ],
   "source": [
    "ddf.ddf_datapoint('ddf--gapminder--gapminder_world', 'life_expectancy_years').query('time == 1970').head()"
   ]
  },
  {
   "cell_type": "code",
   "execution_count": null,
   "metadata": {
    "collapsed": true
   },
   "outputs": [],
   "source": []
  },
  {
   "cell_type": "code",
   "execution_count": 180,
   "metadata": {
    "collapsed": true
   },
   "outputs": [],
   "source": [
    "# checking the data below... note that sex_id == 3 means both sexes, age_group_id == 28 means at birth."
   ]
  },
  {
   "cell_type": "markdown",
   "metadata": {},
   "source": [
    "## AFG"
   ]
  },
  {
   "cell_type": "code",
   "execution_count": 192,
   "metadata": {
    "collapsed": false
   },
   "outputs": [
    {
     "data": {
      "text/html": [
       "<div>\n",
       "<table border=\"1\" class=\"dataframe\">\n",
       "  <thead>\n",
       "    <tr style=\"text-align: right;\">\n",
       "      <th></th>\n",
       "      <th>location_id</th>\n",
       "      <th>location_code</th>\n",
       "      <th>location_name</th>\n",
       "    </tr>\n",
       "  </thead>\n",
       "  <tbody>\n",
       "    <tr>\n",
       "      <th>159</th>\n",
       "      <td>160</td>\n",
       "      <td>AFG</td>\n",
       "      <td>Bhutan</td>\n",
       "    </tr>\n",
       "  </tbody>\n",
       "</table>\n",
       "</div>"
      ],
      "text/plain": [
       "     location_id location_code location_name\n",
       "159          160           AFG        Bhutan"
      ]
     },
     "execution_count": 192,
     "metadata": {},
     "output_type": "execute_result"
    }
   ],
   "source": [
    "ddf.ddf_entities('ddf--ihme-lex')['location_id'].query('location_code == \"AFG\"')"
   ]
  },
  {
   "cell_type": "code",
   "execution_count": 193,
   "metadata": {
    "collapsed": false,
    "scrolled": false
   },
   "outputs": [
    {
     "data": {
      "text/html": [
       "<div>\n",
       "<table border=\"1\" class=\"dataframe\">\n",
       "  <thead>\n",
       "    <tr style=\"text-align: right;\">\n",
       "      <th></th>\n",
       "      <th>location_id</th>\n",
       "      <th>year</th>\n",
       "      <th>age_group_id</th>\n",
       "      <th>sex_id</th>\n",
       "      <th>mean</th>\n",
       "    </tr>\n",
       "  </thead>\n",
       "  <tbody>\n",
       "    <tr>\n",
       "      <th>503714</th>\n",
       "      <td>160</td>\n",
       "      <td>1970</td>\n",
       "      <td>28</td>\n",
       "      <td>3</td>\n",
       "      <td>41.8</td>\n",
       "    </tr>\n",
       "  </tbody>\n",
       "</table>\n",
       "</div>"
      ],
      "text/plain": [
       "        location_id  year  age_group_id  sex_id  mean\n",
       "503714          160  1970            28       3  41.8"
      ]
     },
     "execution_count": 193,
     "metadata": {},
     "output_type": "execute_result"
    }
   ],
   "source": [
    "ddf.ddf_datapoint('ddf--ihme-lex', 'mean').query('location_id == 160 & year == 1970 & sex_id == 3 & age_group_id == 28')"
   ]
  },
  {
   "cell_type": "markdown",
   "metadata": {},
   "source": [
    "## ALB"
   ]
  },
  {
   "cell_type": "code",
   "execution_count": 186,
   "metadata": {
    "collapsed": false
   },
   "outputs": [
    {
     "data": {
      "text/html": [
       "<div>\n",
       "<table border=\"1\" class=\"dataframe\">\n",
       "  <thead>\n",
       "    <tr style=\"text-align: right;\">\n",
       "      <th></th>\n",
       "      <th>location_id</th>\n",
       "      <th>location_code</th>\n",
       "      <th>location_name</th>\n",
       "    </tr>\n",
       "  </thead>\n",
       "  <tbody>\n",
       "    <tr>\n",
       "      <th>42</th>\n",
       "      <td>43</td>\n",
       "      <td>ALB</td>\n",
       "      <td>Albania</td>\n",
       "    </tr>\n",
       "  </tbody>\n",
       "</table>\n",
       "</div>"
      ],
      "text/plain": [
       "    location_id location_code location_name\n",
       "42           43           ALB       Albania"
      ]
     },
     "execution_count": 186,
     "metadata": {},
     "output_type": "execute_result"
    }
   ],
   "source": [
    "ddf.ddf_entities('ddf--ihme-lex')['location_id'].query('location_code == \"ALB\"')"
   ]
  },
  {
   "cell_type": "code",
   "execution_count": 194,
   "metadata": {
    "collapsed": false
   },
   "outputs": [
    {
     "data": {
      "text/html": [
       "<div>\n",
       "<table border=\"1\" class=\"dataframe\">\n",
       "  <thead>\n",
       "    <tr style=\"text-align: right;\">\n",
       "      <th></th>\n",
       "      <th>location_id</th>\n",
       "      <th>year</th>\n",
       "      <th>age_group_id</th>\n",
       "      <th>sex_id</th>\n",
       "      <th>mean</th>\n",
       "    </tr>\n",
       "  </thead>\n",
       "  <tbody>\n",
       "    <tr>\n",
       "      <th>133058</th>\n",
       "      <td>43</td>\n",
       "      <td>1970</td>\n",
       "      <td>28</td>\n",
       "      <td>3</td>\n",
       "      <td>66.7</td>\n",
       "    </tr>\n",
       "  </tbody>\n",
       "</table>\n",
       "</div>"
      ],
      "text/plain": [
       "        location_id  year  age_group_id  sex_id  mean\n",
       "133058           43  1970            28       3  66.7"
      ]
     },
     "execution_count": 194,
     "metadata": {},
     "output_type": "execute_result"
    }
   ],
   "source": [
    "ddf.ddf_datapoint('ddf--ihme-lex', 'mean').query('location_id == 43 & year == 1970 & sex_id == 3 & age_group_id == 28')"
   ]
  },
  {
   "cell_type": "markdown",
   "metadata": {},
   "source": [
    "## DZA"
   ]
  },
  {
   "cell_type": "code",
   "execution_count": 188,
   "metadata": {
    "collapsed": false
   },
   "outputs": [
    {
     "data": {
      "text/html": [
       "<div>\n",
       "<table border=\"1\" class=\"dataframe\">\n",
       "  <thead>\n",
       "    <tr style=\"text-align: right;\">\n",
       "      <th></th>\n",
       "      <th>location_id</th>\n",
       "      <th>location_code</th>\n",
       "      <th>location_name</th>\n",
       "    </tr>\n",
       "  </thead>\n",
       "  <tbody>\n",
       "    <tr>\n",
       "      <th>138</th>\n",
       "      <td>139</td>\n",
       "      <td>DZA</td>\n",
       "      <td>Bahrain</td>\n",
       "    </tr>\n",
       "  </tbody>\n",
       "</table>\n",
       "</div>"
      ],
      "text/plain": [
       "     location_id location_code location_name\n",
       "138          139           DZA       Bahrain"
      ]
     },
     "execution_count": 188,
     "metadata": {},
     "output_type": "execute_result"
    }
   ],
   "source": [
    "ddf.ddf_entities('ddf--ihme-lex')['location_id'].query('location_code == \"DZA\"')"
   ]
  },
  {
   "cell_type": "code",
   "execution_count": 195,
   "metadata": {
    "collapsed": false
   },
   "outputs": [
    {
     "data": {
      "text/html": [
       "<div>\n",
       "<table border=\"1\" class=\"dataframe\">\n",
       "  <thead>\n",
       "    <tr style=\"text-align: right;\">\n",
       "      <th></th>\n",
       "      <th>location_id</th>\n",
       "      <th>year</th>\n",
       "      <th>age_group_id</th>\n",
       "      <th>sex_id</th>\n",
       "      <th>mean</th>\n",
       "    </tr>\n",
       "  </thead>\n",
       "  <tbody>\n",
       "    <tr>\n",
       "      <th>437186</th>\n",
       "      <td>139</td>\n",
       "      <td>1970</td>\n",
       "      <td>28</td>\n",
       "      <td>3</td>\n",
       "      <td>56.6</td>\n",
       "    </tr>\n",
       "  </tbody>\n",
       "</table>\n",
       "</div>"
      ],
      "text/plain": [
       "        location_id  year  age_group_id  sex_id  mean\n",
       "437186          139  1970            28       3  56.6"
      ]
     },
     "execution_count": 195,
     "metadata": {},
     "output_type": "execute_result"
    }
   ],
   "source": [
    "ddf.ddf_datapoint('ddf--ihme-lex', 'mean').query('location_id == 139 & year == 1970 & sex_id == 3 & age_group_id == 28')"
   ]
  },
  {
   "cell_type": "code",
   "execution_count": null,
   "metadata": {
    "collapsed": true
   },
   "outputs": [],
   "source": []
  },
  {
   "cell_type": "markdown",
   "metadata": {},
   "source": []
  },
  {
   "cell_type": "code",
   "execution_count": null,
   "metadata": {
    "collapsed": true
   },
   "outputs": [],
   "source": []
  },
  {
   "cell_type": "code",
   "execution_count": null,
   "metadata": {
    "collapsed": true
   },
   "outputs": [],
   "source": []
  },
  {
   "cell_type": "code",
   "execution_count": null,
   "metadata": {
    "collapsed": true
   },
   "outputs": [],
   "source": []
  }
 ],
 "metadata": {
  "kernelspec": {
   "display_name": "Python 3",
   "language": "python",
   "name": "python3"
  },
  "language_info": {
   "codemirror_mode": {
    "name": "ipython",
    "version": 3
   },
   "file_extension": ".py",
   "mimetype": "text/x-python",
   "name": "python",
   "nbconvert_exporter": "python",
   "pygments_lexer": "ipython3",
   "version": "3.5.1"
  }
 },
 "nbformat": 4,
 "nbformat_minor": 0
}
