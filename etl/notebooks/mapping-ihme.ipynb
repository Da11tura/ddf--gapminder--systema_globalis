{
 "cells": [
  {
   "cell_type": "code",
   "execution_count": 1,
   "metadata": {
    "collapsed": false
   },
   "outputs": [
    {
     "name": "stderr",
     "output_type": "stream",
     "text": [
      "/usr/local/lib/python3.5/site-packages/matplotlib/__init__.py:872: UserWarning: axes.color_cycle is deprecated and replaced with axes.prop_cycle; please use the latter.\n",
      "  warnings.warn(self.msg_depr % (key, alt_key))\n"
     ]
    }
   ],
   "source": [
    "import pandas as pd\n",
    "import numpy as np"
   ]
  },
  {
   "cell_type": "code",
   "execution_count": 2,
   "metadata": {
    "collapsed": true
   },
   "outputs": [],
   "source": [
    "pd.set_option('max_rows', 30)\n",
    "pd.set_option('max_colwidth', 70)"
   ]
  },
  {
   "cell_type": "code",
   "execution_count": 3,
   "metadata": {
    "collapsed": true
   },
   "outputs": [],
   "source": [
    "import ddf_utils.ddf_reader as ddf"
   ]
  },
  {
   "cell_type": "code",
   "execution_count": 4,
   "metadata": {
    "collapsed": true
   },
   "outputs": [],
   "source": [
    "mapping = pd.read_csv('./gw_wdi_new.csv')\n",
    "\n",
    "ddf.SEARCH_PATH = '/Users/semio/src/work/Gapminder'"
   ]
  },
  {
   "cell_type": "code",
   "execution_count": null,
   "metadata": {
    "collapsed": true
   },
   "outputs": [],
   "source": []
  },
  {
   "cell_type": "markdown",
   "metadata": {},
   "source": [
    "# IHME Life expectancy\n",
    "\n",
    "problems:\n",
    "\n",
    "1. there are 3 life expectancy data in GW. All of 3 have same data except that the `life_expectancy_at_birth_data_from_ihme` begins from 1990 while others two begin from 1970.\n",
    "2. Country Code in lhme data set is wrong. will fix it below and update README"
   ]
  },
  {
   "cell_type": "code",
   "execution_count": 11,
   "metadata": {
    "collapsed": true
   },
   "outputs": [],
   "source": [
    "cb = pd.read_csv('/Users/semio/src/work/Gapminder/ddf--ihme-lex/etl/source/IHME_GBD_2013_LIFE_EXPECTANCY_1970_2013_Y2014M12D17/IHME_GBD_2013_LIFE_EXPECTANCY_1970_2013_CB_Y2014M12D17.CSV', skiprows=1)"
   ]
  },
  {
   "cell_type": "code",
   "execution_count": 8,
   "metadata": {
    "collapsed": true
   },
   "outputs": [],
   "source": [
    "data = pd.read_csv('/Users/semio/src/work/Gapminder/ddf--ihme-lex/etl/source/IHME_GBD_2013_LIFE_EXPECTANCY_1970_2013_Y2014M12D17/IHME_GBD_2013_LIFE_EXPECTANCY_1970_2013_Y2014M12D17.CSV')"
   ]
  },
  {
   "cell_type": "code",
   "execution_count": 9,
   "metadata": {
    "collapsed": false
   },
   "outputs": [
    {
     "data": {
      "text/html": [
       "<div>\n",
       "<table border=\"1\" class=\"dataframe\">\n",
       "  <thead>\n",
       "    <tr style=\"text-align: right;\">\n",
       "      <th></th>\n",
       "      <th>location_id</th>\n",
       "      <th>location_code</th>\n",
       "      <th>location_name</th>\n",
       "      <th>year</th>\n",
       "      <th>age_group_id</th>\n",
       "      <th>age_group_name</th>\n",
       "      <th>sex_id</th>\n",
       "      <th>sex_name</th>\n",
       "      <th>metric</th>\n",
       "      <th>unit</th>\n",
       "      <th>mean</th>\n",
       "      <th>upper</th>\n",
       "      <th>lower</th>\n",
       "    </tr>\n",
       "  </thead>\n",
       "  <tbody>\n",
       "    <tr>\n",
       "      <th>0</th>\n",
       "      <td>1</td>\n",
       "      <td>G</td>\n",
       "      <td>Global</td>\n",
       "      <td>1970</td>\n",
       "      <td>28</td>\n",
       "      <td>&lt;1 year</td>\n",
       "      <td>1</td>\n",
       "      <td>Males</td>\n",
       "      <td>Life expectancy</td>\n",
       "      <td>Years</td>\n",
       "      <td>56.7</td>\n",
       "      <td>57.6</td>\n",
       "      <td>55.7</td>\n",
       "    </tr>\n",
       "    <tr>\n",
       "      <th>1</th>\n",
       "      <td>1</td>\n",
       "      <td>G</td>\n",
       "      <td>Global</td>\n",
       "      <td>1970</td>\n",
       "      <td>28</td>\n",
       "      <td>&lt;1 year</td>\n",
       "      <td>2</td>\n",
       "      <td>Females</td>\n",
       "      <td>Life expectancy</td>\n",
       "      <td>Years</td>\n",
       "      <td>60.1</td>\n",
       "      <td>61.1</td>\n",
       "      <td>59.0</td>\n",
       "    </tr>\n",
       "    <tr>\n",
       "      <th>2</th>\n",
       "      <td>1</td>\n",
       "      <td>G</td>\n",
       "      <td>Global</td>\n",
       "      <td>1970</td>\n",
       "      <td>28</td>\n",
       "      <td>&lt;1 year</td>\n",
       "      <td>3</td>\n",
       "      <td>Both sexes</td>\n",
       "      <td>Life expectancy</td>\n",
       "      <td>Years</td>\n",
       "      <td>58.4</td>\n",
       "      <td>59.0</td>\n",
       "      <td>57.7</td>\n",
       "    </tr>\n",
       "    <tr>\n",
       "      <th>3</th>\n",
       "      <td>1</td>\n",
       "      <td>G</td>\n",
       "      <td>Global</td>\n",
       "      <td>1970</td>\n",
       "      <td>5</td>\n",
       "      <td>1 to 4</td>\n",
       "      <td>1</td>\n",
       "      <td>Males</td>\n",
       "      <td>Life expectancy</td>\n",
       "      <td>Years</td>\n",
       "      <td>61.8</td>\n",
       "      <td>62.8</td>\n",
       "      <td>60.7</td>\n",
       "    </tr>\n",
       "    <tr>\n",
       "      <th>4</th>\n",
       "      <td>1</td>\n",
       "      <td>G</td>\n",
       "      <td>Global</td>\n",
       "      <td>1970</td>\n",
       "      <td>5</td>\n",
       "      <td>1 to 4</td>\n",
       "      <td>2</td>\n",
       "      <td>Females</td>\n",
       "      <td>Life expectancy</td>\n",
       "      <td>Years</td>\n",
       "      <td>65.0</td>\n",
       "      <td>65.9</td>\n",
       "      <td>64.0</td>\n",
       "    </tr>\n",
       "  </tbody>\n",
       "</table>\n",
       "</div>"
      ],
      "text/plain": [
       "   location_id location_code location_name  year  age_group_id age_group_name  \\\n",
       "0            1             G        Global  1970            28        <1 year   \n",
       "1            1             G        Global  1970            28        <1 year   \n",
       "2            1             G        Global  1970            28        <1 year   \n",
       "3            1             G        Global  1970             5         1 to 4   \n",
       "4            1             G        Global  1970             5         1 to 4   \n",
       "\n",
       "   sex_id    sex_name           metric   unit  mean  upper  lower  \n",
       "0       1       Males  Life expectancy  Years  56.7   57.6   55.7  \n",
       "1       2     Females  Life expectancy  Years  60.1   61.1   59.0  \n",
       "2       3  Both sexes  Life expectancy  Years  58.4   59.0   57.7  \n",
       "3       1       Males  Life expectancy  Years  61.8   62.8   60.7  \n",
       "4       2     Females  Life expectancy  Years  65.0   65.9   64.0  "
      ]
     },
     "execution_count": 9,
     "metadata": {},
     "output_type": "execute_result"
    }
   ],
   "source": [
    "data"
   ]
  },
  {
   "cell_type": "code",
   "execution_count": 13,
   "metadata": {
    "collapsed": false
   },
   "outputs": [],
   "source": [
    "cb = cb.drop(0)"
   ]
  },
  {
   "cell_type": "code",
   "execution_count": 14,
   "metadata": {
    "collapsed": false
   },
   "outputs": [
    {
     "data": {
      "text/html": [
       "<div>\n",
       "<table border=\"1\" class=\"dataframe\">\n",
       "  <thead>\n",
       "    <tr style=\"text-align: right;\">\n",
       "      <th></th>\n",
       "      <th>Variable:</th>\n",
       "      <th>location_id</th>\n",
       "      <th>location_code</th>\n",
       "      <th>location_name</th>\n",
       "      <th>year</th>\n",
       "      <th>age_group_id</th>\n",
       "      <th>age_group_name</th>\n",
       "      <th>sex_id</th>\n",
       "      <th>sex_name</th>\n",
       "      <th>metric</th>\n",
       "      <th>unit</th>\n",
       "      <th>mean</th>\n",
       "      <th>upper</th>\n",
       "      <th>lower</th>\n",
       "    </tr>\n",
       "  </thead>\n",
       "  <tbody>\n",
       "    <tr>\n",
       "      <th>1</th>\n",
       "      <td>Value coding:</td>\n",
       "      <td>1</td>\n",
       "      <td>G</td>\n",
       "      <td>Global</td>\n",
       "      <td>1970</td>\n",
       "      <td>28</td>\n",
       "      <td>&lt;1 year</td>\n",
       "      <td>1</td>\n",
       "      <td>Males</td>\n",
       "      <td>Life expectancy</td>\n",
       "      <td>Years</td>\n",
       "      <td>NaN</td>\n",
       "      <td>NaN</td>\n",
       "      <td>NaN</td>\n",
       "    </tr>\n",
       "    <tr>\n",
       "      <th>2</th>\n",
       "      <td>NaN</td>\n",
       "      <td>2</td>\n",
       "      <td>D0</td>\n",
       "      <td>Developing</td>\n",
       "      <td>1971</td>\n",
       "      <td>5</td>\n",
       "      <td>1 to 4</td>\n",
       "      <td>2</td>\n",
       "      <td>Females</td>\n",
       "      <td>NaN</td>\n",
       "      <td>NaN</td>\n",
       "      <td>NaN</td>\n",
       "      <td>NaN</td>\n",
       "      <td>NaN</td>\n",
       "    </tr>\n",
       "    <tr>\n",
       "      <th>3</th>\n",
       "      <td>NaN</td>\n",
       "      <td>3</td>\n",
       "      <td>D1</td>\n",
       "      <td>Developed</td>\n",
       "      <td>1972</td>\n",
       "      <td>6</td>\n",
       "      <td>5 to 9</td>\n",
       "      <td>3</td>\n",
       "      <td>Both sexes</td>\n",
       "      <td>NaN</td>\n",
       "      <td>NaN</td>\n",
       "      <td>NaN</td>\n",
       "      <td>NaN</td>\n",
       "      <td>NaN</td>\n",
       "    </tr>\n",
       "    <tr>\n",
       "      <th>4</th>\n",
       "      <td>NaN</td>\n",
       "      <td>4</td>\n",
       "      <td>S6</td>\n",
       "      <td>Southeast Asia, East Asia, and Oceania</td>\n",
       "      <td>1973</td>\n",
       "      <td>7</td>\n",
       "      <td>10 to 14</td>\n",
       "      <td>NaN</td>\n",
       "      <td>NaN</td>\n",
       "      <td>NaN</td>\n",
       "      <td>NaN</td>\n",
       "      <td>NaN</td>\n",
       "      <td>NaN</td>\n",
       "      <td>NaN</td>\n",
       "    </tr>\n",
       "    <tr>\n",
       "      <th>5</th>\n",
       "      <td>NaN</td>\n",
       "      <td>5</td>\n",
       "      <td>R3</td>\n",
       "      <td>East Asia</td>\n",
       "      <td>1974</td>\n",
       "      <td>8</td>\n",
       "      <td>15 to 19</td>\n",
       "      <td>NaN</td>\n",
       "      <td>NaN</td>\n",
       "      <td>NaN</td>\n",
       "      <td>NaN</td>\n",
       "      <td>NaN</td>\n",
       "      <td>NaN</td>\n",
       "      <td>NaN</td>\n",
       "    </tr>\n",
       "  </tbody>\n",
       "</table>\n",
       "</div>"
      ],
      "text/plain": [
       "       Variable: location_id location_code  \\\n",
       "1  Value coding:           1             G   \n",
       "2            NaN           2            D0   \n",
       "3            NaN           3            D1   \n",
       "4            NaN           4            S6   \n",
       "5            NaN           5            R3   \n",
       "\n",
       "                            location_name  year age_group_id age_group_name  \\\n",
       "1                                  Global  1970           28        <1 year   \n",
       "2                              Developing  1971            5         1 to 4   \n",
       "3                               Developed  1972            6         5 to 9   \n",
       "4  Southeast Asia, East Asia, and Oceania  1973            7       10 to 14   \n",
       "5                               East Asia  1974            8       15 to 19   \n",
       "\n",
       "  sex_id    sex_name           metric   unit mean upper lower  \n",
       "1      1       Males  Life expectancy  Years  NaN   NaN   NaN  \n",
       "2      2     Females              NaN    NaN  NaN   NaN   NaN  \n",
       "3      3  Both sexes              NaN    NaN  NaN   NaN   NaN  \n",
       "4    NaN         NaN              NaN    NaN  NaN   NaN   NaN  \n",
       "5    NaN         NaN              NaN    NaN  NaN   NaN   NaN  "
      ]
     },
     "execution_count": 14,
     "metadata": {},
     "output_type": "execute_result"
    }
   ],
   "source": [
    "cb.head()"
   ]
  },
  {
   "cell_type": "code",
   "execution_count": null,
   "metadata": {
    "collapsed": true
   },
   "outputs": [],
   "source": []
  },
  {
   "cell_type": "code",
   "execution_count": 54,
   "metadata": {
    "collapsed": false
   },
   "outputs": [],
   "source": [
    "d1 = data[['location_id', 'location_name', 'location_code']].drop_duplicates().reset_index(drop=True)"
   ]
  },
  {
   "cell_type": "code",
   "execution_count": 55,
   "metadata": {
    "collapsed": true
   },
   "outputs": [],
   "source": [
    "d2 = cb[['location_id', 'location_name', 'location_code']].drop_duplicates().reset_index(drop=True)"
   ]
  },
  {
   "cell_type": "code",
   "execution_count": 56,
   "metadata": {
    "collapsed": false
   },
   "outputs": [],
   "source": [
    "assert np.all(d2['location_code'] == d1['location_code'])"
   ]
  },
  {
   "cell_type": "code",
   "execution_count": 60,
   "metadata": {
    "collapsed": false
   },
   "outputs": [
    {
     "data": {
      "text/plain": [
       "True"
      ]
     },
     "execution_count": 60,
     "metadata": {},
     "output_type": "execute_result"
    }
   ],
   "source": [
    "np.all(d1['location_name'] == d2['location_name'])"
   ]
  },
  {
   "cell_type": "code",
   "execution_count": 58,
   "metadata": {
    "collapsed": false
   },
   "outputs": [],
   "source": [
    "d2['location_name'] = d1['location_name']"
   ]
  },
  {
   "cell_type": "code",
   "execution_count": 73,
   "metadata": {
    "collapsed": false
   },
   "outputs": [],
   "source": [
    "cb = cb.reset_index(drop=True)"
   ]
  },
  {
   "cell_type": "code",
   "execution_count": 74,
   "metadata": {
    "collapsed": false
   },
   "outputs": [],
   "source": [
    "cb['location_name'] = d2['location_name']"
   ]
  },
  {
   "cell_type": "code",
   "execution_count": 76,
   "metadata": {
    "collapsed": false
   },
   "outputs": [],
   "source": [
    "cb['location_name'].to_csv('tmp.csv')"
   ]
  },
  {
   "cell_type": "code",
   "execution_count": null,
   "metadata": {
    "collapsed": true
   },
   "outputs": [],
   "source": []
  },
  {
   "cell_type": "markdown",
   "metadata": {},
   "source": [
    "# Here comes the mappings"
   ]
  },
  {
   "cell_type": "code",
   "execution_count": 78,
   "metadata": {
    "collapsed": true
   },
   "outputs": [],
   "source": [
    "# country code mappings\n",
    "\n",
    "cgw = ddf.ddf_entities('ddf--gapminder--gapminder_world')['country']"
   ]
  },
  {
   "cell_type": "code",
   "execution_count": 81,
   "metadata": {
    "collapsed": false
   },
   "outputs": [],
   "source": [
    "cgw = cgw.set_index('name')"
   ]
  },
  {
   "cell_type": "code",
   "execution_count": 106,
   "metadata": {
    "collapsed": false
   },
   "outputs": [],
   "source": [
    "clex = ddf.ddf_entities('ddf--ihme-lex')['location_id']\n",
    "clex['location_id'] = clex['location_id'].map(str)"
   ]
  },
  {
   "cell_type": "code",
   "execution_count": 107,
   "metadata": {
    "collapsed": true
   },
   "outputs": [],
   "source": [
    "clex = clex.set_index('location_name')"
   ]
  },
  {
   "cell_type": "code",
   "execution_count": 87,
   "metadata": {
    "collapsed": false
   },
   "outputs": [
    {
     "data": {
      "text/html": [
       "<div>\n",
       "<table border=\"1\" class=\"dataframe\">\n",
       "  <thead>\n",
       "    <tr style=\"text-align: right;\">\n",
       "      <th></th>\n",
       "      <th>country</th>\n",
       "    </tr>\n",
       "    <tr>\n",
       "      <th>name</th>\n",
       "      <th></th>\n",
       "    </tr>\n",
       "  </thead>\n",
       "  <tbody>\n",
       "    <tr>\n",
       "      <th>Abkhazia</th>\n",
       "      <td>abkh</td>\n",
       "    </tr>\n",
       "    <tr>\n",
       "      <th>Afghanistan</th>\n",
       "      <td>afg</td>\n",
       "    </tr>\n",
       "    <tr>\n",
       "      <th>Akrotiri and Dhekelia</th>\n",
       "      <td>akr_a_dhe</td>\n",
       "    </tr>\n",
       "    <tr>\n",
       "      <th>Albania</th>\n",
       "      <td>alb</td>\n",
       "    </tr>\n",
       "    <tr>\n",
       "      <th>Algeria</th>\n",
       "      <td>dza</td>\n",
       "    </tr>\n",
       "    <tr>\n",
       "      <th>American Samoa</th>\n",
       "      <td>asm</td>\n",
       "    </tr>\n",
       "    <tr>\n",
       "      <th>Andorra</th>\n",
       "      <td>and</td>\n",
       "    </tr>\n",
       "    <tr>\n",
       "      <th>Angola</th>\n",
       "      <td>ago</td>\n",
       "    </tr>\n",
       "    <tr>\n",
       "      <th>Anguilla</th>\n",
       "      <td>aia</td>\n",
       "    </tr>\n",
       "    <tr>\n",
       "      <th>Antarctica</th>\n",
       "      <td>ata</td>\n",
       "    </tr>\n",
       "    <tr>\n",
       "      <th>Antigua and Barbuda</th>\n",
       "      <td>atg</td>\n",
       "    </tr>\n",
       "    <tr>\n",
       "      <th>Argentina</th>\n",
       "      <td>arg</td>\n",
       "    </tr>\n",
       "    <tr>\n",
       "      <th>Armenia</th>\n",
       "      <td>arm</td>\n",
       "    </tr>\n",
       "    <tr>\n",
       "      <th>Aruba</th>\n",
       "      <td>abw</td>\n",
       "    </tr>\n",
       "    <tr>\n",
       "      <th>Australia</th>\n",
       "      <td>aus</td>\n",
       "    </tr>\n",
       "    <tr>\n",
       "      <th>...</th>\n",
       "      <td>...</td>\n",
       "    </tr>\n",
       "    <tr>\n",
       "      <th>Vanuatu</th>\n",
       "      <td>vut</td>\n",
       "    </tr>\n",
       "    <tr>\n",
       "      <th>Venezuela</th>\n",
       "      <td>ven</td>\n",
       "    </tr>\n",
       "    <tr>\n",
       "      <th>Vietnam</th>\n",
       "      <td>vnm</td>\n",
       "    </tr>\n",
       "    <tr>\n",
       "      <th>Virgin Islands</th>\n",
       "      <td>virg_isl</td>\n",
       "    </tr>\n",
       "    <tr>\n",
       "      <th>Virgin Islands (U.S.)</th>\n",
       "      <td>vir</td>\n",
       "    </tr>\n",
       "    <tr>\n",
       "      <th>Wallis et Futuna</th>\n",
       "      <td>wlf</td>\n",
       "    </tr>\n",
       "    <tr>\n",
       "      <th>West Bank</th>\n",
       "      <td>pse_west_bank</td>\n",
       "    </tr>\n",
       "    <tr>\n",
       "      <th>West Bank and Gaza</th>\n",
       "      <td>pse</td>\n",
       "    </tr>\n",
       "    <tr>\n",
       "      <th>West Germany</th>\n",
       "      <td>deu_west</td>\n",
       "    </tr>\n",
       "    <tr>\n",
       "      <th>Western Sahara</th>\n",
       "      <td>esh</td>\n",
       "    </tr>\n",
       "    <tr>\n",
       "      <th>Yemen</th>\n",
       "      <td>yem</td>\n",
       "    </tr>\n",
       "    <tr>\n",
       "      <th>Yugoslavia</th>\n",
       "      <td>yug</td>\n",
       "    </tr>\n",
       "    <tr>\n",
       "      <th>Zambia</th>\n",
       "      <td>zmb</td>\n",
       "    </tr>\n",
       "    <tr>\n",
       "      <th>Zimbabwe</th>\n",
       "      <td>zwe</td>\n",
       "    </tr>\n",
       "    <tr>\n",
       "      <th>Åland</th>\n",
       "      <td>ala</td>\n",
       "    </tr>\n",
       "  </tbody>\n",
       "</table>\n",
       "<p>275 rows × 1 columns</p>\n",
       "</div>"
      ],
      "text/plain": [
       "                             country\n",
       "name                                \n",
       "Abkhazia                        abkh\n",
       "Afghanistan                      afg\n",
       "Akrotiri and Dhekelia      akr_a_dhe\n",
       "Albania                          alb\n",
       "Algeria                          dza\n",
       "American Samoa                   asm\n",
       "Andorra                          and\n",
       "Angola                           ago\n",
       "Anguilla                         aia\n",
       "Antarctica                       ata\n",
       "Antigua and Barbuda              atg\n",
       "Argentina                        arg\n",
       "Armenia                          arm\n",
       "Aruba                            abw\n",
       "Australia                        aus\n",
       "...                              ...\n",
       "Vanuatu                          vut\n",
       "Venezuela                        ven\n",
       "Vietnam                          vnm\n",
       "Virgin Islands              virg_isl\n",
       "Virgin Islands (U.S.)            vir\n",
       "Wallis et Futuna                 wlf\n",
       "West Bank              pse_west_bank\n",
       "West Bank and Gaza               pse\n",
       "West Germany                deu_west\n",
       "Western Sahara                   esh\n",
       "Yemen                            yem\n",
       "Yugoslavia                       yug\n",
       "Zambia                           zmb\n",
       "Zimbabwe                         zwe\n",
       "Åland                            ala\n",
       "\n",
       "[275 rows x 1 columns]"
      ]
     },
     "execution_count": 87,
     "metadata": {},
     "output_type": "execute_result"
    }
   ],
   "source": [
    "cgw[['country']]"
   ]
  },
  {
   "cell_type": "code",
   "execution_count": 108,
   "metadata": {
    "collapsed": false
   },
   "outputs": [],
   "source": [
    "clex2 = clex[~clex['location_code'].str.match('\\w\\d+')].drop('Global').copy()"
   ]
  },
  {
   "cell_type": "code",
   "execution_count": 99,
   "metadata": {
    "collapsed": true
   },
   "outputs": [],
   "source": [
    "comb = set(clex2.index).union(set(cgw.index))"
   ]
  },
  {
   "cell_type": "code",
   "execution_count": 110,
   "metadata": {
    "collapsed": true
   },
   "outputs": [],
   "source": [
    "cgw2 = cgw[['country']].ix[comb].copy()"
   ]
  },
  {
   "cell_type": "code",
   "execution_count": 111,
   "metadata": {
    "collapsed": true
   },
   "outputs": [],
   "source": [
    "cgw2 = cgw2.sort_index()"
   ]
  },
  {
   "cell_type": "code",
   "execution_count": 112,
   "metadata": {
    "collapsed": false,
    "scrolled": false
   },
   "outputs": [],
   "source": [
    "cgw2['ihme_id'] = clex2['location_id']\n",
    "cgw2['ihme_code'] = clex2['location_code']"
   ]
  },
  {
   "cell_type": "code",
   "execution_count": 113,
   "metadata": {
    "collapsed": false,
    "scrolled": false
   },
   "outputs": [
    {
     "data": {
      "text/html": [
       "<div>\n",
       "<table border=\"1\" class=\"dataframe\">\n",
       "  <thead>\n",
       "    <tr style=\"text-align: right;\">\n",
       "      <th></th>\n",
       "      <th>country</th>\n",
       "      <th>ihme_id</th>\n",
       "      <th>ihme_code</th>\n",
       "    </tr>\n",
       "    <tr>\n",
       "      <th>name</th>\n",
       "      <th></th>\n",
       "      <th></th>\n",
       "      <th></th>\n",
       "    </tr>\n",
       "  </thead>\n",
       "  <tbody>\n",
       "    <tr>\n",
       "      <th>Abkhazia</th>\n",
       "      <td>abkh</td>\n",
       "      <td>NaN</td>\n",
       "      <td>NaN</td>\n",
       "    </tr>\n",
       "    <tr>\n",
       "      <th>Afghanistan</th>\n",
       "      <td>afg</td>\n",
       "      <td>160</td>\n",
       "      <td>AFG</td>\n",
       "    </tr>\n",
       "    <tr>\n",
       "      <th>Akrotiri and Dhekelia</th>\n",
       "      <td>akr_a_dhe</td>\n",
       "      <td>NaN</td>\n",
       "      <td>NaN</td>\n",
       "    </tr>\n",
       "    <tr>\n",
       "      <th>Albania</th>\n",
       "      <td>alb</td>\n",
       "      <td>43</td>\n",
       "      <td>ALB</td>\n",
       "    </tr>\n",
       "    <tr>\n",
       "      <th>Algeria</th>\n",
       "      <td>dza</td>\n",
       "      <td>139</td>\n",
       "      <td>DZA</td>\n",
       "    </tr>\n",
       "    <tr>\n",
       "      <th>American Samoa</th>\n",
       "      <td>asm</td>\n",
       "      <td>NaN</td>\n",
       "      <td>NaN</td>\n",
       "    </tr>\n",
       "    <tr>\n",
       "      <th>Andorra</th>\n",
       "      <td>and</td>\n",
       "      <td>74</td>\n",
       "      <td>AND</td>\n",
       "    </tr>\n",
       "    <tr>\n",
       "      <th>Angola</th>\n",
       "      <td>ago</td>\n",
       "      <td>168</td>\n",
       "      <td>AGO</td>\n",
       "    </tr>\n",
       "    <tr>\n",
       "      <th>Anguilla</th>\n",
       "      <td>aia</td>\n",
       "      <td>NaN</td>\n",
       "      <td>NaN</td>\n",
       "    </tr>\n",
       "    <tr>\n",
       "      <th>Antarctica</th>\n",
       "      <td>ata</td>\n",
       "      <td>NaN</td>\n",
       "      <td>NaN</td>\n",
       "    </tr>\n",
       "    <tr>\n",
       "      <th>Antigua and Barbuda</th>\n",
       "      <td>atg</td>\n",
       "      <td>105</td>\n",
       "      <td>ATG</td>\n",
       "    </tr>\n",
       "    <tr>\n",
       "      <th>Argentina</th>\n",
       "      <td>arg</td>\n",
       "      <td>97</td>\n",
       "      <td>ARG</td>\n",
       "    </tr>\n",
       "    <tr>\n",
       "      <th>Armenia</th>\n",
       "      <td>arm</td>\n",
       "      <td>33</td>\n",
       "      <td>ARM</td>\n",
       "    </tr>\n",
       "    <tr>\n",
       "      <th>Aruba</th>\n",
       "      <td>abw</td>\n",
       "      <td>NaN</td>\n",
       "      <td>NaN</td>\n",
       "    </tr>\n",
       "    <tr>\n",
       "      <th>Australia</th>\n",
       "      <td>aus</td>\n",
       "      <td>71</td>\n",
       "      <td>AUS</td>\n",
       "    </tr>\n",
       "    <tr>\n",
       "      <th>...</th>\n",
       "      <td>...</td>\n",
       "      <td>...</td>\n",
       "      <td>...</td>\n",
       "    </tr>\n",
       "    <tr>\n",
       "      <th>Vanuatu</th>\n",
       "      <td>vut</td>\n",
       "      <td>30</td>\n",
       "      <td>VUT</td>\n",
       "    </tr>\n",
       "    <tr>\n",
       "      <th>Venezuela</th>\n",
       "      <td>ven</td>\n",
       "      <td>133</td>\n",
       "      <td>VEN</td>\n",
       "    </tr>\n",
       "    <tr>\n",
       "      <th>Vietnam</th>\n",
       "      <td>vnm</td>\n",
       "      <td>20</td>\n",
       "      <td>VNM</td>\n",
       "    </tr>\n",
       "    <tr>\n",
       "      <th>Virgin Islands</th>\n",
       "      <td>virg_isl</td>\n",
       "      <td>NaN</td>\n",
       "      <td>NaN</td>\n",
       "    </tr>\n",
       "    <tr>\n",
       "      <th>Virgin Islands (U.S.)</th>\n",
       "      <td>vir</td>\n",
       "      <td>NaN</td>\n",
       "      <td>NaN</td>\n",
       "    </tr>\n",
       "    <tr>\n",
       "      <th>Wallis et Futuna</th>\n",
       "      <td>wlf</td>\n",
       "      <td>NaN</td>\n",
       "      <td>NaN</td>\n",
       "    </tr>\n",
       "    <tr>\n",
       "      <th>West Bank</th>\n",
       "      <td>pse_west_bank</td>\n",
       "      <td>NaN</td>\n",
       "      <td>NaN</td>\n",
       "    </tr>\n",
       "    <tr>\n",
       "      <th>West Bank and Gaza</th>\n",
       "      <td>pse</td>\n",
       "      <td>NaN</td>\n",
       "      <td>NaN</td>\n",
       "    </tr>\n",
       "    <tr>\n",
       "      <th>West Germany</th>\n",
       "      <td>deu_west</td>\n",
       "      <td>NaN</td>\n",
       "      <td>NaN</td>\n",
       "    </tr>\n",
       "    <tr>\n",
       "      <th>Western Sahara</th>\n",
       "      <td>esh</td>\n",
       "      <td>NaN</td>\n",
       "      <td>NaN</td>\n",
       "    </tr>\n",
       "    <tr>\n",
       "      <th>Yemen</th>\n",
       "      <td>yem</td>\n",
       "      <td>157</td>\n",
       "      <td>YEM</td>\n",
       "    </tr>\n",
       "    <tr>\n",
       "      <th>Yugoslavia</th>\n",
       "      <td>yug</td>\n",
       "      <td>NaN</td>\n",
       "      <td>NaN</td>\n",
       "    </tr>\n",
       "    <tr>\n",
       "      <th>Zambia</th>\n",
       "      <td>zmb</td>\n",
       "      <td>191</td>\n",
       "      <td>ZMB</td>\n",
       "    </tr>\n",
       "    <tr>\n",
       "      <th>Zimbabwe</th>\n",
       "      <td>zwe</td>\n",
       "      <td>198</td>\n",
       "      <td>ZWE</td>\n",
       "    </tr>\n",
       "    <tr>\n",
       "      <th>Åland</th>\n",
       "      <td>ala</td>\n",
       "      <td>NaN</td>\n",
       "      <td>NaN</td>\n",
       "    </tr>\n",
       "  </tbody>\n",
       "</table>\n",
       "<p>287 rows × 3 columns</p>\n",
       "</div>"
      ],
      "text/plain": [
       "                             country ihme_id ihme_code\n",
       "name                                                  \n",
       "Abkhazia                        abkh     NaN       NaN\n",
       "Afghanistan                      afg     160       AFG\n",
       "Akrotiri and Dhekelia      akr_a_dhe     NaN       NaN\n",
       "Albania                          alb      43       ALB\n",
       "Algeria                          dza     139       DZA\n",
       "American Samoa                   asm     NaN       NaN\n",
       "Andorra                          and      74       AND\n",
       "Angola                           ago     168       AGO\n",
       "Anguilla                         aia     NaN       NaN\n",
       "Antarctica                       ata     NaN       NaN\n",
       "Antigua and Barbuda              atg     105       ATG\n",
       "Argentina                        arg      97       ARG\n",
       "Armenia                          arm      33       ARM\n",
       "Aruba                            abw     NaN       NaN\n",
       "Australia                        aus      71       AUS\n",
       "...                              ...     ...       ...\n",
       "Vanuatu                          vut      30       VUT\n",
       "Venezuela                        ven     133       VEN\n",
       "Vietnam                          vnm      20       VNM\n",
       "Virgin Islands              virg_isl     NaN       NaN\n",
       "Virgin Islands (U.S.)            vir     NaN       NaN\n",
       "Wallis et Futuna                 wlf     NaN       NaN\n",
       "West Bank              pse_west_bank     NaN       NaN\n",
       "West Bank and Gaza               pse     NaN       NaN\n",
       "West Germany                deu_west     NaN       NaN\n",
       "Western Sahara                   esh     NaN       NaN\n",
       "Yemen                            yem     157       YEM\n",
       "Yugoslavia                       yug     NaN       NaN\n",
       "Zambia                           zmb     191       ZMB\n",
       "Zimbabwe                         zwe     198       ZWE\n",
       "Åland                            ala     NaN       NaN\n",
       "\n",
       "[287 rows x 3 columns]"
      ]
     },
     "execution_count": 113,
     "metadata": {},
     "output_type": "execute_result"
    }
   ],
   "source": [
    "cgw2"
   ]
  },
  {
   "cell_type": "code",
   "execution_count": 115,
   "metadata": {
    "collapsed": false
   },
   "outputs": [],
   "source": [
    "tmp = cgw2.dropna(how='any')"
   ]
  },
  {
   "cell_type": "code",
   "execution_count": 120,
   "metadata": {
    "collapsed": false
   },
   "outputs": [
    {
     "data": {
      "text/plain": [
       "True"
      ]
     },
     "execution_count": 120,
     "metadata": {},
     "output_type": "execute_result"
    }
   ],
   "source": [
    "np.all(tmp['ihme_code'].str.lower() == tmp['country'])  ### no convertion needed, all codes are same."
   ]
  },
  {
   "cell_type": "code",
   "execution_count": null,
   "metadata": {
    "collapsed": true
   },
   "outputs": [],
   "source": []
  },
  {
   "cell_type": "code",
   "execution_count": null,
   "metadata": {
    "collapsed": true
   },
   "outputs": [],
   "source": []
  },
  {
   "cell_type": "code",
   "execution_count": null,
   "metadata": {
    "collapsed": true
   },
   "outputs": [],
   "source": []
  },
  {
   "cell_type": "code",
   "execution_count": 5,
   "metadata": {
    "collapsed": true
   },
   "outputs": [],
   "source": [
    "filt2 = mapping['concept'].str.contains('life_expectancy').fillna(False)"
   ]
  },
  {
   "cell_type": "code",
   "execution_count": 6,
   "metadata": {
    "collapsed": false
   },
   "outputs": [
    {
     "data": {
      "text/html": [
       "<div>\n",
       "<table border=\"1\" class=\"dataframe\">\n",
       "  <thead>\n",
       "    <tr style=\"text-align: right;\">\n",
       "      <th></th>\n",
       "      <th>concept</th>\n",
       "      <th>settings_link</th>\n",
       "      <th>wdi_id</th>\n",
       "      <th>found_in_wdi</th>\n",
       "    </tr>\n",
       "  </thead>\n",
       "  <tbody>\n",
       "    <tr>\n",
       "      <th>43</th>\n",
       "      <td>life_expectancy_years</td>\n",
       "      <td>http://spreadsheets.google.com/pub?key=phAwcNAVuyj2tPLxKvvnNPA&amp;gid=1</td>\n",
       "      <td>NaN</td>\n",
       "      <td>NaN</td>\n",
       "    </tr>\n",
       "    <tr>\n",
       "      <th>488</th>\n",
       "      <td>data_quality_life_expectancy</td>\n",
       "      <td>http://www.gapminder.org/data/documentation/gd004/</td>\n",
       "      <td>NaN</td>\n",
       "      <td>NaN</td>\n",
       "    </tr>\n",
       "    <tr>\n",
       "      <th>496</th>\n",
       "      <td>life_expectancy_at_birth_with_projections</td>\n",
       "      <td>http://spreadsheets.google.com/pub?key=phAwcNAVuyj2tPLxKvvnNPA&amp;gid=1</td>\n",
       "      <td>NaN</td>\n",
       "      <td>NaN</td>\n",
       "    </tr>\n",
       "    <tr>\n",
       "      <th>556</th>\n",
       "      <td>life_expectancy_at_birth_data_from_ihme</td>\n",
       "      <td>http://spreadsheets.google.com/pub?key=phAwcNAVuyj2tPLxKvvnNPA&amp;gid=1</td>\n",
       "      <td>NaN</td>\n",
       "      <td>NaN</td>\n",
       "    </tr>\n",
       "    <tr>\n",
       "      <th>559</th>\n",
       "      <td>life_expectancy_male</td>\n",
       "      <td>http://esa.un.org/unpd/wpp/Excel-Data/Interpolated.htm</td>\n",
       "      <td>NaN</td>\n",
       "      <td>NaN</td>\n",
       "    </tr>\n",
       "    <tr>\n",
       "      <th>560</th>\n",
       "      <td>life_expectancy_female</td>\n",
       "      <td>http://esa.un.org/unpd/wpp/Excel-Data/Interpolated.htm</td>\n",
       "      <td>NaN</td>\n",
       "      <td>NaN</td>\n",
       "    </tr>\n",
       "  </tbody>\n",
       "</table>\n",
       "</div>"
      ],
      "text/plain": [
       "                                       concept  \\\n",
       "43                       life_expectancy_years   \n",
       "488               data_quality_life_expectancy   \n",
       "496  life_expectancy_at_birth_with_projections   \n",
       "556    life_expectancy_at_birth_data_from_ihme   \n",
       "559                       life_expectancy_male   \n",
       "560                     life_expectancy_female   \n",
       "\n",
       "                                                            settings_link  \\\n",
       "43   http://spreadsheets.google.com/pub?key=phAwcNAVuyj2tPLxKvvnNPA&gid=1   \n",
       "488                    http://www.gapminder.org/data/documentation/gd004/   \n",
       "496  http://spreadsheets.google.com/pub?key=phAwcNAVuyj2tPLxKvvnNPA&gid=1   \n",
       "556  http://spreadsheets.google.com/pub?key=phAwcNAVuyj2tPLxKvvnNPA&gid=1   \n",
       "559                http://esa.un.org/unpd/wpp/Excel-Data/Interpolated.htm   \n",
       "560                http://esa.un.org/unpd/wpp/Excel-Data/Interpolated.htm   \n",
       "\n",
       "    wdi_id found_in_wdi  \n",
       "43     NaN          NaN  \n",
       "488    NaN          NaN  \n",
       "496    NaN          NaN  \n",
       "556    NaN          NaN  \n",
       "559    NaN          NaN  \n",
       "560    NaN          NaN  "
      ]
     },
     "execution_count": 6,
     "metadata": {},
     "output_type": "execute_result"
    }
   ],
   "source": [
    "mapping[filt2]  # notice that 3 of the source links are the same one."
   ]
  },
  {
   "cell_type": "code",
   "execution_count": 121,
   "metadata": {
    "collapsed": false
   },
   "outputs": [
    {
     "data": {
      "text/html": [
       "<div>\n",
       "<table border=\"1\" class=\"dataframe\">\n",
       "  <thead>\n",
       "    <tr style=\"text-align: right;\">\n",
       "      <th></th>\n",
       "      <th>geo</th>\n",
       "      <th>life_expectancy_years</th>\n",
       "      <th>time</th>\n",
       "    </tr>\n",
       "  </thead>\n",
       "  <tbody>\n",
       "    <tr>\n",
       "      <th>43172</th>\n",
       "      <td>zwe</td>\n",
       "      <td>57.9</td>\n",
       "      <td>1970</td>\n",
       "    </tr>\n",
       "    <tr>\n",
       "      <th>43182</th>\n",
       "      <td>zwe</td>\n",
       "      <td>59.8</td>\n",
       "      <td>1980</td>\n",
       "    </tr>\n",
       "    <tr>\n",
       "      <th>43192</th>\n",
       "      <td>zwe</td>\n",
       "      <td>63.3</td>\n",
       "      <td>1990</td>\n",
       "    </tr>\n",
       "  </tbody>\n",
       "</table>\n",
       "</div>"
      ],
      "text/plain": [
       "       geo  life_expectancy_years  time\n",
       "43172  zwe                   57.9  1970\n",
       "43182  zwe                   59.8  1980\n",
       "43192  zwe                   63.3  1990"
      ]
     },
     "execution_count": 121,
     "metadata": {},
     "output_type": "execute_result"
    }
   ],
   "source": [
    "# check if ssd and sdn is same in both\n",
    "\n",
    "ddf.ddf_datapoint('ddf--gapminder--gapminder_world', 'life_expectancy_years').query(\n",
    "    'time in [1970, 1980, 1990] & geo in [\"zwe\"]')"
   ]
  },
  {
   "cell_type": "code",
   "execution_count": 122,
   "metadata": {
    "collapsed": false
   },
   "outputs": [
    {
     "data": {
      "text/html": [
       "<div>\n",
       "<table border=\"1\" class=\"dataframe\">\n",
       "  <thead>\n",
       "    <tr style=\"text-align: right;\">\n",
       "      <th></th>\n",
       "      <th>country</th>\n",
       "      <th>ihme_id</th>\n",
       "      <th>ihme_code</th>\n",
       "    </tr>\n",
       "    <tr>\n",
       "      <th>name</th>\n",
       "      <th></th>\n",
       "      <th></th>\n",
       "      <th></th>\n",
       "    </tr>\n",
       "  </thead>\n",
       "  <tbody>\n",
       "    <tr>\n",
       "      <th>Zimbabwe</th>\n",
       "      <td>zwe</td>\n",
       "      <td>198</td>\n",
       "      <td>ZWE</td>\n",
       "    </tr>\n",
       "  </tbody>\n",
       "</table>\n",
       "</div>"
      ],
      "text/plain": [
       "         country ihme_id ihme_code\n",
       "name                              \n",
       "Zimbabwe     zwe     198       ZWE"
      ]
     },
     "execution_count": 122,
     "metadata": {},
     "output_type": "execute_result"
    }
   ],
   "source": [
    "cgw2.query('ihme_code == \"ZWE\"')"
   ]
  },
  {
   "cell_type": "code",
   "execution_count": 123,
   "metadata": {
    "collapsed": false
   },
   "outputs": [
    {
     "data": {
      "text/html": [
       "<div>\n",
       "<table border=\"1\" class=\"dataframe\">\n",
       "  <thead>\n",
       "    <tr style=\"text-align: right;\">\n",
       "      <th></th>\n",
       "      <th>location_id</th>\n",
       "      <th>year</th>\n",
       "      <th>age_group_id</th>\n",
       "      <th>sex_id</th>\n",
       "      <th>mean</th>\n",
       "    </tr>\n",
       "  </thead>\n",
       "  <tbody>\n",
       "    <tr>\n",
       "      <th>620930</th>\n",
       "      <td>198</td>\n",
       "      <td>1970</td>\n",
       "      <td>28</td>\n",
       "      <td>3</td>\n",
       "      <td>57.9</td>\n",
       "    </tr>\n",
       "    <tr>\n",
       "      <th>621650</th>\n",
       "      <td>198</td>\n",
       "      <td>1980</td>\n",
       "      <td>28</td>\n",
       "      <td>3</td>\n",
       "      <td>59.8</td>\n",
       "    </tr>\n",
       "    <tr>\n",
       "      <th>622370</th>\n",
       "      <td>198</td>\n",
       "      <td>1990</td>\n",
       "      <td>28</td>\n",
       "      <td>3</td>\n",
       "      <td>63.3</td>\n",
       "    </tr>\n",
       "  </tbody>\n",
       "</table>\n",
       "</div>"
      ],
      "text/plain": [
       "        location_id  year  age_group_id  sex_id  mean\n",
       "620930          198  1970            28       3  57.9\n",
       "621650          198  1980            28       3  59.8\n",
       "622370          198  1990            28       3  63.3"
      ]
     },
     "execution_count": 123,
     "metadata": {},
     "output_type": "execute_result"
    }
   ],
   "source": [
    "# sex_id == 3 & age_group_id == 28 means both sexes and age under 1(new birth)\n",
    "\n",
    "ddf.ddf_datapoint('ddf--ihme-lex', 'mean').query(\n",
    "    'year in [1970, 1980, 1990] & location_id in [198] & sex_id == 3 & age_group_id == 28')"
   ]
  },
  {
   "cell_type": "code",
   "execution_count": null,
   "metadata": {
    "collapsed": true
   },
   "outputs": [],
   "source": []
  }
 ],
 "metadata": {
  "kernelspec": {
   "display_name": "Python 3",
   "language": "python",
   "name": "python3"
  },
  "language_info": {
   "codemirror_mode": {
    "name": "ipython",
    "version": 3
   },
   "file_extension": ".py",
   "mimetype": "text/x-python",
   "name": "python",
   "nbconvert_exporter": "python",
   "pygments_lexer": "ipython3",
   "version": "3.5.1"
  }
 },
 "nbformat": 4,
 "nbformat_minor": 0
}
