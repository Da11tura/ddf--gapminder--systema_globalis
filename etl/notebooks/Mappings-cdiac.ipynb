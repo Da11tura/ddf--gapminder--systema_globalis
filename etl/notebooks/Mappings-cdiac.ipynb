{
 "cells": [
  {
   "cell_type": "code",
   "execution_count": 1,
   "metadata": {
    "collapsed": false
   },
   "outputs": [
    {
     "name": "stderr",
     "output_type": "stream",
     "text": [
      "/usr/local/lib/python3.5/site-packages/matplotlib/__init__.py:872: UserWarning: axes.color_cycle is deprecated and replaced with axes.prop_cycle; please use the latter.\n",
      "  warnings.warn(self.msg_depr % (key, alt_key))\n"
     ]
    }
   ],
   "source": [
    "import pandas as pd\n",
    "import numpy as np"
   ]
  },
  {
   "cell_type": "code",
   "execution_count": 148,
   "metadata": {
    "collapsed": false
   },
   "outputs": [],
   "source": [
    "pd.set_option('max_rows', 30)\n",
    "pd.set_option('max_colwidth', 70)"
   ]
  },
  {
   "cell_type": "code",
   "execution_count": 2,
   "metadata": {
    "collapsed": true
   },
   "outputs": [],
   "source": [
    "import ddf_utils.ddf_reader as ddf"
   ]
  },
  {
   "cell_type": "code",
   "execution_count": 3,
   "metadata": {
    "collapsed": true
   },
   "outputs": [],
   "source": [
    "mapping = pd.read_csv('./gw_wdi_new.csv')"
   ]
  },
  {
   "cell_type": "code",
   "execution_count": 4,
   "metadata": {
    "collapsed": true
   },
   "outputs": [],
   "source": [
    "ddf.SEARCH_PATH = '/Users/semio/src/work/Gapminder'"
   ]
  },
  {
   "cell_type": "code",
   "execution_count": null,
   "metadata": {
    "collapsed": true
   },
   "outputs": [],
   "source": []
  },
  {
   "cell_type": "code",
   "execution_count": null,
   "metadata": {
    "collapsed": true
   },
   "outputs": [],
   "source": []
  },
  {
   "cell_type": "markdown",
   "metadata": {},
   "source": [
    "# cdiac data set\n",
    "\n",
    "One ton of carbon equals 44/12 = 11/3 = 3.667 tons of carbon dioxide"
   ]
  },
  {
   "cell_type": "code",
   "execution_count": 150,
   "metadata": {
    "collapsed": false
   },
   "outputs": [
    {
     "data": {
      "text/html": [
       "<div>\n",
       "<table border=\"1\" class=\"dataframe\">\n",
       "  <thead>\n",
       "    <tr style=\"text-align: right;\">\n",
       "      <th></th>\n",
       "      <th>concept</th>\n",
       "      <th>settings_link</th>\n",
       "      <th>wdi_id</th>\n",
       "      <th>found_in_wdi</th>\n",
       "    </tr>\n",
       "  </thead>\n",
       "  <tbody>\n",
       "    <tr>\n",
       "      <th>40</th>\n",
       "      <td>co2_emissions_tonnes_per_person</td>\n",
       "      <td>http://cdiac.ornl.gov/trends/emis/meth_reg.html</td>\n",
       "      <td>NaN</td>\n",
       "      <td>NaN</td>\n",
       "    </tr>\n",
       "    <tr>\n",
       "      <th>180</th>\n",
       "      <td>cumulative_co2_emissions_tonnes</td>\n",
       "      <td>http://cdiac.ornl.gov/ftp/ndp030/CSV-FILES/</td>\n",
       "      <td>NaN</td>\n",
       "      <td>NaN</td>\n",
       "    </tr>\n",
       "    <tr>\n",
       "      <th>182</th>\n",
       "      <td>yearly_co2_emissions_tonnes</td>\n",
       "      <td>http://cdiac.ornl.gov/trends/emis/meth_reg.html</td>\n",
       "      <td>NaN</td>\n",
       "      <td>NaN</td>\n",
       "    </tr>\n",
       "    <tr>\n",
       "      <th>563</th>\n",
       "      <td>yearly_co2_emissions_1000_tonnes</td>\n",
       "      <td>http://cdiac.ornl.gov/trends/emis/meth_reg.html</td>\n",
       "      <td>NaN</td>\n",
       "      <td>NaN</td>\n",
       "    </tr>\n",
       "  </tbody>\n",
       "</table>\n",
       "</div>"
      ],
      "text/plain": [
       "                              concept  \\\n",
       "40    co2_emissions_tonnes_per_person   \n",
       "180   cumulative_co2_emissions_tonnes   \n",
       "182       yearly_co2_emissions_tonnes   \n",
       "563  yearly_co2_emissions_1000_tonnes   \n",
       "\n",
       "                                       settings_link wdi_id found_in_wdi  \n",
       "40   http://cdiac.ornl.gov/trends/emis/meth_reg.html    NaN          NaN  \n",
       "180      http://cdiac.ornl.gov/ftp/ndp030/CSV-FILES/    NaN          NaN  \n",
       "182  http://cdiac.ornl.gov/trends/emis/meth_reg.html    NaN          NaN  \n",
       "563  http://cdiac.ornl.gov/trends/emis/meth_reg.html    NaN          NaN  "
      ]
     },
     "execution_count": 150,
     "metadata": {},
     "output_type": "execute_result"
    }
   ],
   "source": [
    "# Here are the concepts in GW that have cdiac in the source link\n",
    "\n",
    "filt = mapping['settings_link'].str.contains('cdiac').fillna(False)\n",
    "mapping[filt]"
   ]
  },
  {
   "cell_type": "code",
   "execution_count": 200,
   "metadata": {
    "collapsed": false
   },
   "outputs": [
    {
     "data": {
      "text/html": [
       "<div>\n",
       "<table border=\"1\" class=\"dataframe\">\n",
       "  <thead>\n",
       "    <tr style=\"text-align: right;\">\n",
       "      <th></th>\n",
       "      <th>value</th>\n",
       "    </tr>\n",
       "  </thead>\n",
       "  <tbody>\n",
       "    <tr>\n",
       "      <th>9</th>\n",
       "      <td>emissions_from_bunker_fuels_not_included_in_the_totals</td>\n",
       "    </tr>\n",
       "    <tr>\n",
       "      <th>10</th>\n",
       "      <td>emissions_from_cement_production</td>\n",
       "    </tr>\n",
       "    <tr>\n",
       "      <th>11</th>\n",
       "      <td>emissions_from_gas_flaring</td>\n",
       "    </tr>\n",
       "    <tr>\n",
       "      <th>12</th>\n",
       "      <td>emissions_from_gas_fuel_consumption</td>\n",
       "    </tr>\n",
       "    <tr>\n",
       "      <th>13</th>\n",
       "      <td>emissions_from_liquid_fuel_consumption</td>\n",
       "    </tr>\n",
       "    <tr>\n",
       "      <th>14</th>\n",
       "      <td>emissions_from_solid_fuel_consumption</td>\n",
       "    </tr>\n",
       "    <tr>\n",
       "      <th>16</th>\n",
       "      <td>per_capita_co2_emissions_metric_tons_of_carbon</td>\n",
       "    </tr>\n",
       "    <tr>\n",
       "      <th>19</th>\n",
       "      <td>total_co2_emissions_from_fossil_fuels_and_cement_production_thousa...</td>\n",
       "    </tr>\n",
       "    <tr>\n",
       "      <th>20</th>\n",
       "      <td>total_co2_emissions_from_fossil_fuels_thousand_metric_tons_of_c</td>\n",
       "    </tr>\n",
       "  </tbody>\n",
       "</table>\n",
       "</div>"
      ],
      "text/plain": [
       "                                                                    value\n",
       "9                  emissions_from_bunker_fuels_not_included_in_the_totals\n",
       "10                                       emissions_from_cement_production\n",
       "11                                             emissions_from_gas_flaring\n",
       "12                                    emissions_from_gas_fuel_consumption\n",
       "13                                 emissions_from_liquid_fuel_consumption\n",
       "14                                  emissions_from_solid_fuel_consumption\n",
       "16                         per_capita_co2_emissions_metric_tons_of_carbon\n",
       "19  total_co2_emissions_from_fossil_fuels_and_cement_production_thousa...\n",
       "20        total_co2_emissions_from_fossil_fuels_thousand_metric_tons_of_c"
      ]
     },
     "execution_count": 200,
     "metadata": {},
     "output_type": "execute_result"
    }
   ],
   "source": [
    "ddf._get_index('ddf--cdiac-co2').query('key == \"nation,year\"')[['value']]  # the index for cdiac"
   ]
  },
  {
   "cell_type": "code",
   "execution_count": 7,
   "metadata": {
    "collapsed": true
   },
   "outputs": [],
   "source": []
  },
  {
   "cell_type": "markdown",
   "metadata": {},
   "source": [
    "## co2_emissions_tonnes_per_person"
   ]
  },
  {
   "cell_type": "code",
   "execution_count": 230,
   "metadata": {
    "collapsed": false,
    "scrolled": false
   },
   "outputs": [
    {
     "data": {
      "text/plain": [
       "time\n",
       "1950    16.08\n",
       "1951    16.34\n",
       "1952    15.67\n",
       "1953    15.78\n",
       "1954    14.78\n",
       "1955    15.91\n",
       "1956    16.39\n",
       "1957    15.97\n",
       "1958    15.21\n",
       "1959    15.41\n",
       "1960    15.51\n",
       "1961    15.22\n",
       "1962    15.56\n",
       "1963    16.03\n",
       "1964    16.52\n",
       "        ...  \n",
       "1996    19.62\n",
       "1997    19.88\n",
       "1998    19.77\n",
       "1999    19.80\n",
       "2000    20.22\n",
       "2001    19.61\n",
       "2002    19.59\n",
       "2003    19.50\n",
       "2004    19.69\n",
       "2005    19.63\n",
       "2006    19.15\n",
       "2007    19.28\n",
       "2008    18.55\n",
       "2009    17.26\n",
       "2010    17.50\n",
       "Name: co2_emissions_tonnes_per_person, dtype: float64"
      ]
     },
     "execution_count": 230,
     "metadata": {},
     "output_type": "execute_result"
    }
   ],
   "source": [
    "# check some of the data from GW\n",
    "\n",
    "d1 = ddf.ddf_datapoint('ddf--gapminder--gapminder_world', 'co2_emissions_tonnes_per_person').query(\n",
    "    'geo == \"usa\" & time < 2011 & time >= 1950')\n",
    "\n",
    "# TODO: http://cdiac.ornl.gov/CO2_Emission/timeseries/national only have data back to 1950, \n",
    "# how is the 1800's data calculated?\n",
    "\n",
    "d1 = d1.set_index('time')\n",
    "d1['co2_emissions_tonnes_per_person']  # the unit: tons of CO2."
   ]
  },
  {
   "cell_type": "code",
   "execution_count": 231,
   "metadata": {
    "collapsed": false
   },
   "outputs": [
    {
     "data": {
      "text/plain": [
       "year\n",
       "1950    15.84144\n",
       "1951    16.09813\n",
       "1952    15.43807\n",
       "1953    15.54808\n",
       "1954    14.55799\n",
       "1955    15.69476\n",
       "1956    16.17147\n",
       "1957    15.76810\n",
       "1958    14.99803\n",
       "1959    15.21805\n",
       "1960    15.32806\n",
       "1961    15.03470\n",
       "1962    15.36473\n",
       "1963    15.80477\n",
       "1964    16.28148\n",
       "          ...   \n",
       "1996    19.25175\n",
       "1997    19.43510\n",
       "1998    19.32509\n",
       "1999    19.43510\n",
       "2000    19.87514\n",
       "2001    19.32509\n",
       "2002    19.28842\n",
       "2003    19.21508\n",
       "2004    19.32509\n",
       "2005    19.25175\n",
       "2006    18.77504\n",
       "2007    18.81171\n",
       "2008    18.07831\n",
       "2009    16.83153\n",
       "2010    17.08822\n",
       "Name: per_capita_co2_emissions_metric_tons_of_carbon, dtype: float64"
      ]
     },
     "execution_count": 231,
     "metadata": {},
     "output_type": "execute_result"
    }
   ],
   "source": [
    "# The most likely related one is per_capita_co2_emissions_metric_tons_of_carbon\n",
    "# but it seems they are different.\n",
    "\n",
    "d2 = ddf.ddf_datapoint('ddf--cdiac-co2', 'per_capita_co2_emissions_metric_tons_of_carbon').query(\n",
    "    'year < 2011 & version == \"1751_2011\" & nation == \"UNITED STATES OF AMERICA\"')\n",
    "\n",
    "d2['per_capita_co2_emissions_metric_tons_of_carbon'] = d2['per_capita_co2_emissions_metric_tons_of_carbon'] * 3.667\n",
    "\n",
    "d2.set_index('year')['per_capita_co2_emissions_metric_tons_of_carbon']"
   ]
  },
  {
   "cell_type": "code",
   "execution_count": null,
   "metadata": {
    "collapsed": true
   },
   "outputs": [],
   "source": []
  },
  {
   "cell_type": "markdown",
   "metadata": {},
   "source": [
    "## yearly_co2_emissions_tonnes\n",
    "\n",
    "unit: million of tonnes"
   ]
  },
  {
   "cell_type": "code",
   "execution_count": 166,
   "metadata": {
    "collapsed": false
   },
   "outputs": [
    {
     "data": {
      "text/html": [
       "<div>\n",
       "<table border=\"1\" class=\"dataframe\">\n",
       "  <thead>\n",
       "    <tr style=\"text-align: right;\">\n",
       "      <th></th>\n",
       "      <th>geo</th>\n",
       "      <th>yearly_co2_emissions_tonnes</th>\n",
       "      <th>time</th>\n",
       "    </tr>\n",
       "  </thead>\n",
       "  <tbody>\n",
       "    <tr>\n",
       "      <th>0</th>\n",
       "      <td>afg</td>\n",
       "      <td>14.67</td>\n",
       "      <td>1949</td>\n",
       "    </tr>\n",
       "    <tr>\n",
       "      <th>1</th>\n",
       "      <td>afg</td>\n",
       "      <td>84.33</td>\n",
       "      <td>1950</td>\n",
       "    </tr>\n",
       "    <tr>\n",
       "      <th>2</th>\n",
       "      <td>afg</td>\n",
       "      <td>91.67</td>\n",
       "      <td>1951</td>\n",
       "    </tr>\n",
       "    <tr>\n",
       "      <th>3</th>\n",
       "      <td>afg</td>\n",
       "      <td>91.67</td>\n",
       "      <td>1952</td>\n",
       "    </tr>\n",
       "    <tr>\n",
       "      <th>4</th>\n",
       "      <td>afg</td>\n",
       "      <td>106.30</td>\n",
       "      <td>1953</td>\n",
       "    </tr>\n",
       "    <tr>\n",
       "      <th>5</th>\n",
       "      <td>afg</td>\n",
       "      <td>106.30</td>\n",
       "      <td>1954</td>\n",
       "    </tr>\n",
       "    <tr>\n",
       "      <th>6</th>\n",
       "      <td>afg</td>\n",
       "      <td>154.00</td>\n",
       "      <td>1955</td>\n",
       "    </tr>\n",
       "    <tr>\n",
       "      <th>7</th>\n",
       "      <td>afg</td>\n",
       "      <td>183.30</td>\n",
       "      <td>1956</td>\n",
       "    </tr>\n",
       "    <tr>\n",
       "      <th>8</th>\n",
       "      <td>afg</td>\n",
       "      <td>293.30</td>\n",
       "      <td>1957</td>\n",
       "    </tr>\n",
       "    <tr>\n",
       "      <th>9</th>\n",
       "      <td>afg</td>\n",
       "      <td>330.00</td>\n",
       "      <td>1958</td>\n",
       "    </tr>\n",
       "    <tr>\n",
       "      <th>10</th>\n",
       "      <td>afg</td>\n",
       "      <td>385.00</td>\n",
       "      <td>1959</td>\n",
       "    </tr>\n",
       "  </tbody>\n",
       "</table>\n",
       "</div>"
      ],
      "text/plain": [
       "    geo  yearly_co2_emissions_tonnes  time\n",
       "0   afg                        14.67  1949\n",
       "1   afg                        84.33  1950\n",
       "2   afg                        91.67  1951\n",
       "3   afg                        91.67  1952\n",
       "4   afg                       106.30  1953\n",
       "5   afg                       106.30  1954\n",
       "6   afg                       154.00  1955\n",
       "7   afg                       183.30  1956\n",
       "8   afg                       293.30  1957\n",
       "9   afg                       330.00  1958\n",
       "10  afg                       385.00  1959"
      ]
     },
     "execution_count": 166,
     "metadata": {},
     "output_type": "execute_result"
    }
   ],
   "source": [
    "# check some of the data from GW\n",
    "\n",
    "ddf.ddf_datapoint('ddf--gapminder--gapminder_world', 'cumulative_co2_emissions_tonnes').query(\n",
    "    'geo == \"afg\" & time < 1960')"
   ]
  },
  {
   "cell_type": "code",
   "execution_count": 234,
   "metadata": {
    "collapsed": false
   },
   "outputs": [
    {
     "data": {
      "text/html": [
       "<div>\n",
       "<table border=\"1\" class=\"dataframe\">\n",
       "  <thead>\n",
       "    <tr style=\"text-align: right;\">\n",
       "      <th></th>\n",
       "      <th>nation</th>\n",
       "      <th>year</th>\n",
       "      <th>version</th>\n",
       "      <th>total_co2_emissions_from_fossil_fuels_thousand_metric_tons_of_c</th>\n",
       "    </tr>\n",
       "  </thead>\n",
       "  <tbody>\n",
       "    <tr>\n",
       "      <th>15916</th>\n",
       "      <td>AFGHANISTAN</td>\n",
       "      <td>1949</td>\n",
       "      <td>1751_2009</td>\n",
       "      <td>14.668</td>\n",
       "    </tr>\n",
       "    <tr>\n",
       "      <th>15917</th>\n",
       "      <td>AFGHANISTAN</td>\n",
       "      <td>1950</td>\n",
       "      <td>1751_2009</td>\n",
       "      <td>84.341</td>\n",
       "    </tr>\n",
       "    <tr>\n",
       "      <th>15918</th>\n",
       "      <td>AFGHANISTAN</td>\n",
       "      <td>1951</td>\n",
       "      <td>1751_2009</td>\n",
       "      <td>91.675</td>\n",
       "    </tr>\n",
       "    <tr>\n",
       "      <th>15919</th>\n",
       "      <td>AFGHANISTAN</td>\n",
       "      <td>1952</td>\n",
       "      <td>1751_2009</td>\n",
       "      <td>91.675</td>\n",
       "    </tr>\n",
       "    <tr>\n",
       "      <th>15920</th>\n",
       "      <td>AFGHANISTAN</td>\n",
       "      <td>1953</td>\n",
       "      <td>1751_2009</td>\n",
       "      <td>106.343</td>\n",
       "    </tr>\n",
       "    <tr>\n",
       "      <th>15921</th>\n",
       "      <td>AFGHANISTAN</td>\n",
       "      <td>1954</td>\n",
       "      <td>1751_2009</td>\n",
       "      <td>106.343</td>\n",
       "    </tr>\n",
       "    <tr>\n",
       "      <th>15922</th>\n",
       "      <td>AFGHANISTAN</td>\n",
       "      <td>1955</td>\n",
       "      <td>1751_2009</td>\n",
       "      <td>154.014</td>\n",
       "    </tr>\n",
       "    <tr>\n",
       "      <th>15923</th>\n",
       "      <td>AFGHANISTAN</td>\n",
       "      <td>1956</td>\n",
       "      <td>1751_2009</td>\n",
       "      <td>183.350</td>\n",
       "    </tr>\n",
       "    <tr>\n",
       "      <th>15924</th>\n",
       "      <td>AFGHANISTAN</td>\n",
       "      <td>1957</td>\n",
       "      <td>1751_2009</td>\n",
       "      <td>293.360</td>\n",
       "    </tr>\n",
       "    <tr>\n",
       "      <th>15925</th>\n",
       "      <td>AFGHANISTAN</td>\n",
       "      <td>1958</td>\n",
       "      <td>1751_2009</td>\n",
       "      <td>330.030</td>\n",
       "    </tr>\n",
       "    <tr>\n",
       "      <th>15926</th>\n",
       "      <td>AFGHANISTAN</td>\n",
       "      <td>1959</td>\n",
       "      <td>1751_2009</td>\n",
       "      <td>385.035</td>\n",
       "    </tr>\n",
       "  </tbody>\n",
       "</table>\n",
       "</div>"
      ],
      "text/plain": [
       "            nation  year    version  \\\n",
       "15916  AFGHANISTAN  1949  1751_2009   \n",
       "15917  AFGHANISTAN  1950  1751_2009   \n",
       "15918  AFGHANISTAN  1951  1751_2009   \n",
       "15919  AFGHANISTAN  1952  1751_2009   \n",
       "15920  AFGHANISTAN  1953  1751_2009   \n",
       "15921  AFGHANISTAN  1954  1751_2009   \n",
       "15922  AFGHANISTAN  1955  1751_2009   \n",
       "15923  AFGHANISTAN  1956  1751_2009   \n",
       "15924  AFGHANISTAN  1957  1751_2009   \n",
       "15925  AFGHANISTAN  1958  1751_2009   \n",
       "15926  AFGHANISTAN  1959  1751_2009   \n",
       "\n",
       "       total_co2_emissions_from_fossil_fuels_thousand_metric_tons_of_c  \n",
       "15916                                                           14.668  \n",
       "15917                                                           84.341  \n",
       "15918                                                           91.675  \n",
       "15919                                                           91.675  \n",
       "15920                                                          106.343  \n",
       "15921                                                          106.343  \n",
       "15922                                                          154.014  \n",
       "15923                                                          183.350  \n",
       "15924                                                          293.360  \n",
       "15925                                                          330.030  \n",
       "15926                                                          385.035  "
      ]
     },
     "execution_count": 234,
     "metadata": {},
     "output_type": "execute_result"
    }
   ],
   "source": [
    "# The most likely related one is total_co2_emissions_from_fossil_fuels_thousand_metric_tons_of_c\n",
    "\n",
    "d2 = ddf.ddf_datapoint('ddf--cdiac-co2', 'total_co2_emissions_from_fossil_fuels_thousand_metric_tons_of_c').query(\n",
    "    'nation == \"AFGHANISTAN\" & year < 1960 & version == \"1751_2009\"')\n",
    "\n",
    "d2['total_co2_emissions_from_fossil_fuels_thousand_metric_tons_of_c'] = d2['total_co2_emissions_from_fossil_fuels_thousand_metric_tons_of_c'] * 3.667\n",
    "\n",
    "d2"
   ]
  },
  {
   "cell_type": "code",
   "execution_count": null,
   "metadata": {
    "collapsed": true
   },
   "outputs": [],
   "source": []
  },
  {
   "cell_type": "markdown",
   "metadata": {},
   "source": [
    "# cumulative_co2_emissions_tonnes\n",
    "\n",
    "NOTE: The `cumulative_co2_emissions_tonnes` in GW is cumulated sum of `yearly_co2_emissions_tonnes`."
   ]
  },
  {
   "cell_type": "code",
   "execution_count": null,
   "metadata": {
    "collapsed": true
   },
   "outputs": [],
   "source": []
  },
  {
   "cell_type": "code",
   "execution_count": null,
   "metadata": {
    "collapsed": true
   },
   "outputs": [],
   "source": []
  },
  {
   "cell_type": "markdown",
   "metadata": {},
   "source": [
    "# yearly_co2_emissions_1000_tonnes\n",
    "\n",
    "unit: thousands of tonnes. same as `yearly_co2_emissions_tonnes`"
   ]
  },
  {
   "cell_type": "code",
   "execution_count": 235,
   "metadata": {
    "collapsed": false
   },
   "outputs": [
    {
     "data": {
      "text/html": [
       "<div>\n",
       "<table border=\"1\" class=\"dataframe\">\n",
       "  <thead>\n",
       "    <tr style=\"text-align: right;\">\n",
       "      <th></th>\n",
       "      <th>geo</th>\n",
       "      <th>cumulative_co2_emissions_tonnes</th>\n",
       "      <th>time</th>\n",
       "    </tr>\n",
       "  </thead>\n",
       "  <tbody>\n",
       "    <tr>\n",
       "      <th>0</th>\n",
       "      <td>afg</td>\n",
       "      <td>14670</td>\n",
       "      <td>1949</td>\n",
       "    </tr>\n",
       "    <tr>\n",
       "      <th>1</th>\n",
       "      <td>afg</td>\n",
       "      <td>99000</td>\n",
       "      <td>1950</td>\n",
       "    </tr>\n",
       "    <tr>\n",
       "      <th>2</th>\n",
       "      <td>afg</td>\n",
       "      <td>190700</td>\n",
       "      <td>1951</td>\n",
       "    </tr>\n",
       "    <tr>\n",
       "      <th>3</th>\n",
       "      <td>afg</td>\n",
       "      <td>282300</td>\n",
       "      <td>1952</td>\n",
       "    </tr>\n",
       "    <tr>\n",
       "      <th>4</th>\n",
       "      <td>afg</td>\n",
       "      <td>388700</td>\n",
       "      <td>1953</td>\n",
       "    </tr>\n",
       "    <tr>\n",
       "      <th>5</th>\n",
       "      <td>afg</td>\n",
       "      <td>495000</td>\n",
       "      <td>1954</td>\n",
       "    </tr>\n",
       "    <tr>\n",
       "      <th>6</th>\n",
       "      <td>afg</td>\n",
       "      <td>649000</td>\n",
       "      <td>1955</td>\n",
       "    </tr>\n",
       "    <tr>\n",
       "      <th>7</th>\n",
       "      <td>afg</td>\n",
       "      <td>832300</td>\n",
       "      <td>1956</td>\n",
       "    </tr>\n",
       "    <tr>\n",
       "      <th>8</th>\n",
       "      <td>afg</td>\n",
       "      <td>1126000</td>\n",
       "      <td>1957</td>\n",
       "    </tr>\n",
       "    <tr>\n",
       "      <th>9</th>\n",
       "      <td>afg</td>\n",
       "      <td>1456000</td>\n",
       "      <td>1958</td>\n",
       "    </tr>\n",
       "    <tr>\n",
       "      <th>10</th>\n",
       "      <td>afg</td>\n",
       "      <td>1841000</td>\n",
       "      <td>1959</td>\n",
       "    </tr>\n",
       "  </tbody>\n",
       "</table>\n",
       "</div>"
      ],
      "text/plain": [
       "    geo  cumulative_co2_emissions_tonnes  time\n",
       "0   afg                            14670  1949\n",
       "1   afg                            99000  1950\n",
       "2   afg                           190700  1951\n",
       "3   afg                           282300  1952\n",
       "4   afg                           388700  1953\n",
       "5   afg                           495000  1954\n",
       "6   afg                           649000  1955\n",
       "7   afg                           832300  1956\n",
       "8   afg                          1126000  1957\n",
       "9   afg                          1456000  1958\n",
       "10  afg                          1841000  1959"
      ]
     },
     "execution_count": 235,
     "metadata": {},
     "output_type": "execute_result"
    }
   ],
   "source": [
    "ddf.ddf_datapoint('ddf--gapminder--gapminder_world', 'cumulative_co2_emissions_tonnes').query(\n",
    "    'geo == \"afg\" & time < 1960')"
   ]
  },
  {
   "cell_type": "code",
   "execution_count": null,
   "metadata": {
    "collapsed": true
   },
   "outputs": [],
   "source": []
  },
  {
   "cell_type": "code",
   "execution_count": null,
   "metadata": {
    "collapsed": true
   },
   "outputs": [],
   "source": []
  },
  {
   "cell_type": "code",
   "execution_count": null,
   "metadata": {
    "collapsed": true
   },
   "outputs": [],
   "source": []
  },
  {
   "cell_type": "code",
   "execution_count": null,
   "metadata": {
    "collapsed": true
   },
   "outputs": [],
   "source": []
  },
  {
   "cell_type": "markdown",
   "metadata": {},
   "source": []
  },
  {
   "cell_type": "code",
   "execution_count": null,
   "metadata": {
    "collapsed": true
   },
   "outputs": [],
   "source": []
  },
  {
   "cell_type": "code",
   "execution_count": null,
   "metadata": {
    "collapsed": true
   },
   "outputs": [],
   "source": []
  }
 ],
 "metadata": {
  "kernelspec": {
   "display_name": "Python 3",
   "language": "python",
   "name": "python3"
  },
  "language_info": {
   "codemirror_mode": {
    "name": "ipython",
    "version": 3
   },
   "file_extension": ".py",
   "mimetype": "text/x-python",
   "name": "python",
   "nbconvert_exporter": "python",
   "pygments_lexer": "ipython3",
   "version": "3.5.1"
  }
 },
 "nbformat": 4,
 "nbformat_minor": 0
}
